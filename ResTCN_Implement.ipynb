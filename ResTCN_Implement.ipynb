{
 "cells": [
  {
   "cell_type": "code",
   "execution_count": 1,
   "id": "65341ee1",
   "metadata": {},
   "outputs": [],
   "source": [
    "import torch\n",
    "import torch.nn as nn\n",
    "import torch.optim as optim\n",
    "import torch.nn.functional as F\n",
    "from torch.utils.data import Dataset, DataLoader\n",
    "\n",
    "from torchmetrics.classification import MulticlassAccuracy\n",
    "\n",
    "import numpy as np\n",
    "import matplotlib.pyplot as plt\n",
    "import pandas as pd\n",
    "\n",
    "import os\n",
    "from tqdm import tqdm \n",
    "import pickle\n",
    "import functools\n",
    "\n",
    "from concurrent import futures "
   ]
  },
  {
   "cell_type": "code",
   "execution_count": 2,
   "id": "4992551c",
   "metadata": {},
   "outputs": [],
   "source": [
    "class NTUDataset(Dataset):\n",
    "    def __init__(self, x, y):\n",
    "        self.x_data = x\n",
    "        self.y_data = y\n",
    "        \n",
    "    def __len__(self):\n",
    "        return len(self.x_data)\n",
    "    def __getitem__(self, i):\n",
    "        return self.x_data[i], self.y_data[i]"
   ]
  },
  {
   "cell_type": "code",
   "execution_count": null,
   "id": "590bbdb4",
   "metadata": {},
   "outputs": [],
   "source": [
    "class NTUDatasetGenerator:\n",
    "    def quaternion_matrix(q):\n",
    "        \"\"\"Return homogeneous rotation matrix from quaternion.\n",
    "        \"\"\"\n",
    "        qw = q[0]\n",
    "        qx = q[1]\n",
    "        qy = q[2]\n",
    "        qz = q[3]\n",
    "\n",
    "        return np.array([\n",
    "          [1-2*qy*qy - 2*qz*qz,       2*qx*qy - 2*qz*qw,        2*qx*qz + 2*qy*qw],\n",
    "          [2*qx*qy + 2*qz*qw    ,     1-2*qx*qx - 2*qz*qz,      2*qy*qz - 2*qx*qw],\n",
    "          [2*qx*qz - 2*qy*qw    ,     2*qy*qz + 2*qx*qw,        1-2*qx*qx - 2*qy*qy],\n",
    "          ])\n",
    "\n",
    "    def matrix_quaternion(R):  \n",
    "        trace = np.trace(R)\n",
    "        if trace > 0:\n",
    "            s = 0.5 / np.sqrt(trace+1.0)\n",
    "            qw = 0.25 / s \n",
    "            qx = (R[2,1]-R[1,2])*s\n",
    "            qy = (R[0,2]-R[2,0])*s\n",
    "            qz = (R[1,0]-R[0,1])*s\n",
    "        else:\n",
    "            if ( R[0,0] > R[1,1] and R[0,0] > R[2,2] ):\n",
    "                s = 2.0 * np.sqrt( 1.0 + R[0,0] - R[1,1] - R[2,2])\n",
    "                qw = (R[2,1] - R[1,2]) / s\n",
    "                qx = 0.25 * s\n",
    "                qy = (R[0,1] + R[1,0]) / s\n",
    "                qz = (R[0,2] + R[2,0]) / s\n",
    "            elif (R[1,1] > R[2,2]):\n",
    "                s = 2.0 * np.sqrt( 1.0 + R[1,1] - R[0,0] - R[2,2])\n",
    "                qw = (R[0,2] - R[2,0] ) / s\n",
    "                qx = (R[0,1] + R[1,0] ) / s\n",
    "                qy = 0.25 * s\n",
    "                qz = (R[1,2] + R[2,1] ) / s\n",
    "            else:\n",
    "                s = 2.0 * np.sqrt( 1.0 + R[2,2] - R[0,0] - R[1,1] )\n",
    "                qw = (R[1,0] - R[0,1] ) / s\n",
    "                qx = (R[0,2] + R[2,0] ) / s\n",
    "                qy = (R[1,2] + R[2,1] ) / s\n",
    "                qz = 0.25 * s\n",
    "\n",
    "        return np.array([qw,qx,qy,qz])\n",
    "    \n",
    "    # 카메라로 측정한 좌표계를 앵커(허리 중심부)를 기준으로 재구성\n",
    "    def normalize_skeleton(jinfo,anchor=None,norm_dist=0,right_to_left=None,spine_to_top=None):\n",
    "        _EPS = np.finfo(float).eps * 4.0\n",
    "        if type(anchor)==type(None) and norm_dist == 0:\n",
    "            anchor = np.array([jinfo[1][0],jinfo[1][1],jinfo[1][2]])\n",
    "            base = np.array([jinfo[0][0],jinfo[0][1],jinfo[0][2]])\n",
    "            norm_dist = np.linalg.norm(anchor-base) # base와 anchor의 거리를 1로 설정\n",
    "\n",
    "\n",
    "        ## TRANSLATE TO SPINE ORIGIN FIRST  \n",
    "        norm_joints = {}\n",
    "        for jnum, unnorm_joint in iter(jinfo.items()):\n",
    "            normalized_pos = np.array([unnorm_joint[0]-anchor[0],\n",
    "                              unnorm_joint[1]-anchor[1],\n",
    "                              unnorm_joint[2]-anchor[2]]) #/ norm_dist\n",
    "            norm_joints[jnum] = normalized_pos\n",
    "\n",
    "        # get shoulder direction unit vector\n",
    "        if right_to_left is None:\n",
    "            right_to_left = np.array([norm_joints[8][0],norm_joints[8][1],norm_joints[8][2]]) - np.array([norm_joints[4][0],norm_joints[4][1],norm_joints[4][2]])\n",
    "            right_to_left = right_to_left / (np.linalg.norm(right_to_left)+_EPS)\n",
    "\n",
    "\n",
    "        ## COMPUTE ROTATION SUCH THAT RIGHT TO LEFT IS PARALLEL TO X_AXIS\n",
    "        # 어깨를 기준으로 한 새로운 좌표계 구성\n",
    "        x_axis = np.array([1,0,0])\n",
    "        y_axis = np.array([0,1,0])\n",
    "\n",
    "        new_x = right_to_left # (3, )\n",
    "        new_y = np.cross(right_to_left,x_axis)\n",
    "        new_y = new_y/(np.linalg.norm(new_y)+_EPS)\n",
    "        new_z = np.cross(new_x,new_y)\n",
    "        new_z = new_z/(np.linalg.norm(new_z)+_EPS)\n",
    "        Rx = np.transpose(np.array([new_x,new_y,new_z])) # 어깨 축을 기반으로 한 새로운 좌표계 Transform matrix (normal vector)\n",
    "        #pdb.set_trace()\n",
    "\n",
    "\n",
    "        rotated_and_norm = {}\n",
    "        # 왜 dot..?\n",
    "        for jnum, joint in iter(norm_joints.items()):\n",
    "            turn_to_x = np.dot(joint,Rx)\n",
    "            #turn_to_y = np.dot(Ry,turn_to_x)\n",
    "            rotated_and_norm[jnum] = turn_to_x \n",
    "\n",
    "        new_right_to_left = np.array([rotated_and_norm[8][0],rotated_and_norm[8][1],rotated_and_norm[8][2]]) - np.array([rotated_and_norm[4][0],rotated_and_norm[4][1],rotated_and_norm[4][2]])\n",
    "\n",
    "        # x축 정렬 이후 y축 기준 정렬\n",
    "        if spine_to_top is None:\n",
    "            spine_to_top = np.array([rotated_and_norm[0][0],rotated_and_norm[0][1],rotated_and_norm[0][2]]) - np.array([rotated_and_norm[1][0],rotated_and_norm[1][1],rotated_and_norm[1][2]])\n",
    "            spine_to_top = spine_to_top / (np.linalg.norm(spine_to_top)+_EPS)\n",
    "\n",
    "\n",
    "        ## COMPUTE ROTATION SUCH THAT SPINE TO TOP IS PARALLEL TO Y_AXIS\n",
    "        new_y = spine_to_top\n",
    "        new_x = np.cross(spine_to_top,y_axis)\n",
    "        new_x = new_x/(np.linalg.norm(new_x)+_EPS)\n",
    "        new_z = np.cross(new_x,new_y)\n",
    "        new_z = new_z/(np.linalg.norm(new_z)+_EPS)\n",
    "        Ry = np.transpose(np.array([new_x,new_y,new_z]))\n",
    "\n",
    "\n",
    "        rotated_and_norm2 = {}\n",
    "        for jnum, joint in iter(rotated_and_norm.items()):\n",
    "        #turn_to_x = np.dot(Rx,joint)\n",
    "            turn_to_y = np.dot(joint,Ry)\n",
    "            # 카메라 좌표계 기준 쿼터니언 \n",
    "            qR = NTUDatasetGenerator.quaternion_matrix(jinfo[jnum][3:])\n",
    "            \n",
    "            # 현 좌표계 기준 쿼터니언 변환\n",
    "            rotated_q = np.dot(np.dot(qR,Rx),Ry)\n",
    "            qq = NTUDatasetGenerator.matrix_quaternion(rotated_q)\n",
    "\n",
    "            normed_final_vec = turn_to_y / (norm_dist+_EPS)\n",
    "\n",
    "            rotated_and_norm2[jnum] = np.concatenate((normed_final_vec,qq))\n",
    "\n",
    "        return rotated_and_norm2,anchor,norm_dist,right_to_left,spine_to_top\n",
    "\n",
    "    def getfiles(self, lines, file_name):\n",
    "        try:\n",
    "            if not '.skeleton' in file_name:\n",
    "    #             print('ret state 1')\n",
    "                return 0, 0, 0\n",
    "\n",
    "    #             print(file_name)\n",
    "\n",
    "            action_class = int(file_name[file_name.find('A')+1:file_name.find('A')+4])\n",
    "            subject_id = int(file_name[file_name.find('S')+1:file_name.find('S')+4])\n",
    "\n",
    "\n",
    "            ptr = 0\n",
    "            num_frames = int(lines[ptr]); ptr+=1\n",
    "            feature = np.zeros((num_frames, self.feat_dim))\n",
    "            for n in range(0,num_frames):\n",
    "                body_count = int(lines[ptr]); ptr+=1\n",
    "              #print body_count\n",
    "\n",
    "                if body_count > 2:\n",
    "                # JUST ITERATE THROUGH THE LINES, IGNORE \n",
    "                    for b in range(0,body_count):\n",
    "                        body_info = lines[ptr]; ptr+=1\n",
    "                        joint_count = int(lines[ptr]); ptr+=1\n",
    "                        for j in range(0,joint_count):\n",
    "                            joint_info = lines[ptr]; ptr+=1\n",
    "                else:\n",
    "                    binfo = dict()\n",
    "                    norm_dist = 0\n",
    "                    anchor = None\n",
    "                    right_to_left = None\n",
    "                    spine_to_top = None\n",
    "                    for b in range(0,body_count):\n",
    "                        body_info = lines[ptr]; ptr+=1\n",
    "                        bsp = body_info.split()\n",
    "\n",
    "                        body_id = bsp[0]\n",
    "                        cliped_edges = bsp[1]\n",
    "                        lefthand_confidence = bsp[2]\n",
    "                        lefthand_state = bsp[3]\n",
    "                        righthand_confidence = bsp[4]\n",
    "                        righthand_state = bsp[5]\n",
    "                        is_restricted = bsp[6]\n",
    "                        lean_x = bsp[7]\n",
    "                        lean_y = bsp[8]\n",
    "                        body_tracking_state = bsp[9]\n",
    "\n",
    "                        #binfo[b] = bsp\n",
    "                        joint_count = int(lines[ptr]); ptr+=1 ## ASSUMING THIS IS ALWAYS 25\n",
    "\n",
    "                        jinfo = dict()\n",
    "\n",
    "                        for j in range(0,joint_count):\n",
    "                            joint_info = lines[ptr]; ptr+=1\n",
    "                            jsp = joint_info.split()\n",
    "                            x = float(jsp[0])\n",
    "                            y = float(jsp[1])\n",
    "                            z = float(jsp[2])\n",
    "                            depth_x = float(jsp[3])\n",
    "                            depth_y = float(jsp[4])\n",
    "                            rgb_x = float(jsp[5])\n",
    "                            rgb_y = float(jsp[6])\n",
    "                            rw = float(jsp[7])\n",
    "                            rx = float(jsp[8])\n",
    "                            ry = float(jsp[9])\n",
    "                            rz = float(jsp[10])\n",
    "                            joint_tracking_state = jsp[11]\n",
    "\n",
    "                            jinfo[j] = (x,y,z,rw,rx,ry,rz)\n",
    "                        ## END JOINT LOOP\n",
    "\n",
    "\n",
    "                        norm_jinfo,anchor,norm_dist,right_to_left,spine_to_top = NTUDatasetGenerator.normalize_skeleton(jinfo,anchor=anchor,norm_dist=norm_dist,right_to_left=right_to_left,spine_to_top=spine_to_top)\n",
    "\n",
    "                        binfo[b] = norm_jinfo\n",
    "\n",
    "                    ## END BODY LOOP\n",
    "                    sample_ind = 0\n",
    "                    sample = np.zeros(self.feat_dim)\n",
    "\n",
    "                    ## CONSTRUCT THE FEATURE FOR THIS N-th FRAME\n",
    "                    for bind, body in iter(binfo.items()):\n",
    "                        for jind, joint in iter(body.items()):\n",
    "                            sample[sample_ind] =   joint[0] #x\n",
    "                            sample_ind += 1\n",
    "                            sample[sample_ind] =   joint[1] #y\n",
    "                            sample_ind += 1\n",
    "                            sample[sample_ind] =   joint[2] #z\n",
    "                            sample_ind += 1\n",
    "                    feature[n] = sample\n",
    "              ## END BODY COUNT IF-ELSE\n",
    "            ## END FRAME LOOP\n",
    "            training_subjects = [1,2,4,5,8,9,13,14,15,16,17,18,19,25,27,28,31,34,35,38]\n",
    "            if body_count <= 2:\n",
    "                if subject_id in training_subjects:\n",
    "                    return 1, feature, action_class-1\n",
    "                else:\n",
    "                    return 2, feature, action_class-1\n",
    "        except Exception as e:\n",
    "            print(e)\n",
    "    def read(self, file_name):\n",
    "        sf = open(os.path.join(self.root, file_name),'r')\n",
    "        data = (file_name, sf.readlines())\n",
    "        sf.close()\n",
    "        return data\n",
    "    \n",
    "    def setLineset(self, lineset):\n",
    "        self.lineset = lineset\n",
    "        \n",
    "    def makeLineset(self):\n",
    "        self.filepath = os.listdir(self.root)\n",
    "        bad_file = open('D:/datasets/NTU_RGB+D/NTU_RGBD120_missings.txt', 'r')\n",
    "        bad_list = [ line.strip() + '.skeleton' for line in bad_file]\n",
    "        bad_file.close()\n",
    "        \n",
    "        \n",
    "        self.filepath = list(set(self.filepath) - set(bad_list)) \n",
    "        \n",
    "        self.lineset = []\n",
    "        print('start load files')\n",
    "        with futures.ThreadPoolExecutor(max_workers=16) as executor:\n",
    "            with tqdm(total=len(self.filepath)) as progress:\n",
    "                fs = []\n",
    "                for file in self.filepath:\n",
    "                    ft = executor.submit(self.read, file)\n",
    "                    ft.add_done_callback(lambda p: progress.update())\n",
    "                    fs.append(ft)\n",
    "                self.lineset = list(\n",
    "                    filter(\n",
    "                        lambda item: item is not None, \n",
    "                        map(\n",
    "                            lambda x : x.result(), \n",
    "                            fs\n",
    "                        )\n",
    "                    )\n",
    "                )\n",
    "        \n",
    "    def makeDataset(self):\n",
    "        max_vid_length = -1\n",
    "        X_train = []\n",
    "        X_test = []\n",
    "        y_train = []\n",
    "        y_test = []\n",
    "        n_classes = 60\n",
    "        with futures.ThreadPoolExecutor(max_workers=16) as executor:\n",
    "            with tqdm(total=len(self.lineset)) as progress:\n",
    "                fs = []\n",
    "                \n",
    "                for (file_name, lines) in self.lineset:\n",
    "                    ft = executor.submit(self.getfiles, lines, file_name)\n",
    "                    ft.add_done_callback(lambda p: progress.update())\n",
    "                    fs.append(ft)\n",
    "                \n",
    "                res = list(\n",
    "                    filter(\n",
    "                        lambda item: item is not None, \n",
    "                        map(lambda x: x.result(), fs)\n",
    "                    )\n",
    "                )\n",
    "\n",
    "                for t, x, y in res:\n",
    "                    if t == 0:\n",
    "                        continue\n",
    "                    elif t == 1:\n",
    "                        X_train.append(x)\n",
    "                        y_train.append(y)\n",
    "                    else:\n",
    "                        X_test.append(x)\n",
    "                        y_test.append(y)\n",
    "\n",
    "        self.train_dataset = NTUDataset(X_train, y_train)\n",
    "        self.test_dataset = NTUDataset(X_test, y_test)\n",
    "    \n",
    "    def __init__(self):\n",
    "        \n",
    "        self._EPS = np.finfo(float).eps * 4.0\n",
    "        self.feat_dim = 150 \n",
    "        self.root = 'D:/datasets/NTU_RGB+D/cl60/nturgb+d_skeletons'\n",
    "        \n",
    "#         self.makeLineset()\n",
    "    \n",
    "#         print('complete loading files')\n",
    "        \n",
    "#         self.makeDataset()\n",
    "#         print('complete making files')\n",
    "        "
   ]
  },
  {
   "cell_type": "code",
   "execution_count": null,
   "id": "4df3d867",
   "metadata": {
    "scrolled": true
   },
   "outputs": [],
   "source": [
    "dataset_gen = NTUDatasetGenerator()"
   ]
  },
  {
   "cell_type": "code",
   "execution_count": null,
   "id": "ba14ecec",
   "metadata": {
    "scrolled": true
   },
   "outputs": [],
   "source": [
    "dataset_gen.makeLineset()"
   ]
  },
  {
   "cell_type": "code",
   "execution_count": null,
   "id": "e0ac0d86",
   "metadata": {},
   "outputs": [],
   "source": [
    "dataset_gen.setLineset(ls)"
   ]
  },
  {
   "cell_type": "code",
   "execution_count": null,
   "id": "6ca9becf",
   "metadata": {},
   "outputs": [],
   "source": [
    "ls = dataset_gen.lineset"
   ]
  },
  {
   "cell_type": "code",
   "execution_count": null,
   "id": "265e21ee",
   "metadata": {
    "scrolled": true
   },
   "outputs": [],
   "source": [
    "dataset_gen.makeDataset()"
   ]
  },
  {
   "cell_type": "code",
   "execution_count": null,
   "id": "72729637",
   "metadata": {},
   "outputs": [],
   "source": [
    "with open('dataset_test.pkl', 'wb') as f:\n",
    "    pickle.dump(dataset_gen.test_dataset, f)"
   ]
  },
  {
   "cell_type": "code",
   "execution_count": null,
   "id": "2d85270b",
   "metadata": {},
   "outputs": [],
   "source": [
    "with open('dataset_train.pkl', 'wb') as f:\n",
    "    pickle.dump(dataset_gen.train_dataset, f)"
   ]
  },
  {
   "cell_type": "code",
   "execution_count": null,
   "id": "31028ff2",
   "metadata": {},
   "outputs": [],
   "source": [
    "with open('dataset_train.pkl', 'rb') as train_f:\n",
    "    train_dataset = pickle.load(train_f)\n",
    "with open('dataset_test.pkl', 'rb') as test_f:\n",
    "    test_dataset = pickle.load(test_f)\n"
   ]
  },
  {
   "cell_type": "code",
   "execution_count": 3,
   "id": "4f450b3a",
   "metadata": {},
   "outputs": [],
   "source": [
    "import lmdb"
   ]
  },
  {
   "cell_type": "code",
   "execution_count": 6,
   "id": "6e5aa962",
   "metadata": {},
   "outputs": [],
   "source": [
    "del train_x, train_y, test_x, test_y"
   ]
  },
  {
   "cell_type": "code",
   "execution_count": 4,
   "id": "d7901eca",
   "metadata": {},
   "outputs": [
    {
     "name": "stderr",
     "output_type": "stream",
     "text": [
      "100%|██████████████████████████████████████████████████████████████████████████| 39889/39889 [00:09<00:00, 4012.59it/s]\n",
      "100%|████████████████████████████████████████████████████████████████████████| 39889/39889 [00:00<00:00, 195229.48it/s]\n",
      "100%|██████████████████████████████████████████████████████████████████████████| 16390/16390 [00:14<00:00, 1113.18it/s]\n",
      "100%|████████████████████████████████████████████████████████████████████████| 16390/16390 [00:00<00:00, 199720.06it/s]\n"
     ]
    }
   ],
   "source": [
    "data_root = 'd:/datasets/NTU_RGB+D/subjects_split_raw/'\n",
    "lmdb_file_train_x = os.path.join(data_root,'Xtrain_lmdb')\n",
    "lmdb_file_train_y = os.path.join(data_root,'Ytrain_lmdb')\n",
    "lmdb_file_test_x = os.path.join(data_root,'Xtest_lmdb')\n",
    "lmdb_file_test_y = os.path.join(data_root,'Ytest_lmdb')\n",
    "\n",
    "train_x_mean = 0.5909148848768809\n",
    "samples_per_epoch = 39889\n",
    "samples_per_validation = 16390\n",
    "\n",
    "tqdm.clear\n",
    "train_x = []\n",
    "train_y = []\n",
    "test_x = []\n",
    "test_y = []\n",
    "with lmdb.open(lmdb_file_train_x) as lmdb_env_x:\n",
    "    lmdb_txn_x = lmdb_env_x.begin()\n",
    "    lmdb_cursor_x = lmdb_txn_x.cursor()\n",
    "    train_x = [np.frombuffer(lmdb_cursor_x.get('{:0>8d}'.format(index).encode())) for index in tqdm(np.arange(0, samples_per_epoch))]\n",
    "with lmdb.open(lmdb_file_train_y) as lmdb_env_y:\n",
    "    lmdb_txn_y = lmdb_env_y.begin()\n",
    "    lmdb_cursor_y = lmdb_txn_y.cursor()\n",
    "    train_y = [np.frombuffer(lmdb_cursor_y.get('{:0>8d}'.format(index).encode())) for index in tqdm(np.arange(0, samples_per_epoch))]\n",
    "\n",
    "with lmdb.open(lmdb_file_test_x) as lmdb_env_x:\n",
    "    lmdb_txn_x = lmdb_env_x.begin()\n",
    "    lmdb_cursor_x = lmdb_txn_x.cursor()\n",
    "    test_x = [np.frombuffer(lmdb_cursor_x.get('{:0>8d}'.format(index).encode())) for index in tqdm(np.arange(0, samples_per_validation))]\n",
    "\n",
    "with lmdb.open(lmdb_file_test_y) as lmdb_env_y:\n",
    "    lmdb_txn_y = lmdb_env_y.begin()\n",
    "    lmdb_cursor_y = lmdb_txn_y.cursor()\n",
    "    test_y = [np.frombuffer(lmdb_cursor_y.get('{:0>8d}'.format(index).encode())) for index in tqdm(np.arange(0, samples_per_validation))]\n"
   ]
  },
  {
   "cell_type": "code",
   "execution_count": 7,
   "id": "735a6ce4",
   "metadata": {},
   "outputs": [],
   "source": [
    "train_dataset = NTUDataset(train_x, train_y)\n",
    "test_dataset = NTUDataset(test_x, test_y)"
   ]
  },
  {
   "cell_type": "code",
   "execution_count": null,
   "id": "274f653c",
   "metadata": {},
   "outputs": [],
   "source": [
    "train_x[1].shape\n",
    "train_x_mean = 0.5909148848768809"
   ]
  },
  {
   "cell_type": "code",
   "execution_count": 5,
   "id": "1f2d48a5",
   "metadata": {},
   "outputs": [],
   "source": [
    "np.random.seed(seed = 1234) \n",
    "def collate_fn(batch): # 32\n",
    "    target = np.zeros((len(batch), 150, 300))\n",
    "#     target = np.zeros((len(batch), 22, 300))\n",
    "#     print(target.shape)\n",
    "    ylist= []\n",
    "    cnt = 0\n",
    "    for (x, y) in batch:\n",
    "        x = np.array(x).reshape((300, 150))\n",
    "        nonzeros = np.where(np.array([np.sum(x[i])>0 for i in range(0,x.shape[0])])==False)[0]\n",
    "        if len(nonzeros) == 0:\n",
    "            last_time = 0\n",
    "        else:\n",
    "            last_time = nonzeros[0]\n",
    "        x.setflags(write=True)\n",
    "        x[:last_time] = x[:last_time] - train_x_mean # 동영상의 모든 프레임에 대해 정규화\n",
    "        \n",
    "        \n",
    "#         print(x.shape)\n",
    "        target[cnt, :, :x.shape[0]] = x.T\n",
    "        ylist.append(y)\n",
    "        cnt+=1 \n",
    "#     print(target.shape)\n",
    "    return torch.FloatTensor(target), torch.FloatTensor(ylist)\n",
    "\n"
   ]
  },
  {
   "cell_type": "code",
   "execution_count": 8,
   "id": "c3793cb1",
   "metadata": {},
   "outputs": [],
   "source": [
    "train_dataloader = DataLoader(train_dataset, batch_size=128, shuffle=True, collate_fn=collate_fn)\n",
    "test_dataloader = DataLoader(test_dataset, batch_size=128, collate_fn=collate_fn)"
   ]
  },
  {
   "cell_type": "code",
   "execution_count": null,
   "id": "bb9504ea",
   "metadata": {},
   "outputs": [],
   "source": [
    "torch.FloatTensor(test_dataset[0][1]).max(dim=0)[1].item()"
   ]
  },
  {
   "cell_type": "code",
   "execution_count": null,
   "id": "018d9df8",
   "metadata": {},
   "outputs": [],
   "source": [
    "next(iter(test_dataloader))[1].shape"
   ]
  },
  {
   "cell_type": "code",
   "execution_count": 32,
   "id": "a5f6dd9a",
   "metadata": {},
   "outputs": [],
   "source": [
    "class ResBlock(nn.Module):\n",
    "    def __init__(\n",
    "        self, \n",
    "        in_channels, \n",
    "        out_channels, \n",
    "        stride=1,\n",
    "        downsample = None,\n",
    "        norm_layer = None\n",
    "    ):\n",
    "        super(ResBlock, self).__init__()\n",
    "        \n",
    "        if norm_layer == None:\n",
    "            norm_layer = nn.BatchNorm1d\n",
    "        \n",
    "        self.layer1 = nn.Sequential(\n",
    "            norm_layer(in_channels),\n",
    "            nn.ReLU(),\n",
    "            nn.Dropout(0.5),\n",
    "            nn.Conv1d(\n",
    "                in_channels=in_channels, \n",
    "                out_channels=out_channels, \n",
    "                kernel_size=8, \n",
    "                stride=stride, \n",
    "                padding=('same' if stride == 1 else 3)\n",
    "            )\n",
    "        )\n",
    "#         self.relu = nn.ReLU(inplace=True)\n",
    "#         self.conv = nn.Conv2d(in_channels=out_channels, out_channels=out_channels, kernel_size=(3, 3), stride=1, padding=1)\n",
    "#         self.bn = norm_layer(out_channels)\n",
    "        self.downsample = downsample\n",
    "        \n",
    "    def forward(self, x):\n",
    "        identity = x\n",
    "        \n",
    "#         print('--> id shape: ', x.shape)\n",
    "        \n",
    "        out = self.layer1(x)\n",
    "        if self.downsample is not None:\n",
    "            identity = self.downsample(x)\n",
    "#             print('----> down shape: ', identity.shape)\n",
    "        \n",
    "#         print('--> out shape: ', out.shape)\n",
    "        \n",
    "        out += identity\n",
    "        \n",
    "        return out \n",
    "\n",
    "class ResTCN(nn.Module):\n",
    "    def __init__(self, max_len=300, feat_dim=150, debug=False):\n",
    "        super(ResTCN, self).__init__()\n",
    "        self.debug = debug\n",
    "        self.input_layer = nn.Conv1d(in_channels=feat_dim, out_channels=64, kernel_size=8, padding='same')\n",
    "        \n",
    "        downsample = lambda i, o: nn.Sequential(\n",
    "                nn.Conv1d(i, o, kernel_size=1, stride=2, padding=0),\n",
    "#                 nn.BatchNorm1d(o, momentum=0.99, eps=1e-3),\n",
    "            )\n",
    "#         self.layer = nn.Sequential(\n",
    "#             ResBlock(64, 150,  stride = 1, downsample=dd(64, 150)), *[ \n",
    "#             ResBlock(150, 150,  stride = 1) for _ in range(2)\n",
    "#         ])\n",
    "        self.layer1 = nn.Sequential(\n",
    "            ResBlock(64, 64,  stride = 1),\n",
    "            ResBlock(64, 64,  stride = 1),\n",
    "            ResBlock(64, 64,  stride = 1)\n",
    "        )\n",
    "        self.layer2 = nn.Sequential(\n",
    "            ResBlock(64, 128, 2, downsample=downsample(64, 128)),\n",
    "            ResBlock(128, 128, 1),\n",
    "            ResBlock(128, 128, 1)\n",
    "        )\n",
    "        self.layer3 = nn.Sequential(\n",
    "            ResBlock(128, 256, 2, downsample=downsample(128, 256)),\n",
    "            ResBlock(256, 256, 1),\n",
    "            ResBlock(256, 256, 1)\n",
    "        )\n",
    "        \n",
    "        self.layer_final = nn.Sequential(\n",
    "            nn.BatchNorm1d(256),\n",
    "            nn.ReLU()\n",
    "        )\n",
    "        \n",
    "        self.avgpool = nn.AvgPool1d(75, stride=1, )\n",
    "        \n",
    "        self.fc = nn.Sequential(\n",
    "            nn.Linear(256, 60),\n",
    "            nn.Softmax(dim=1)\n",
    "        )\n",
    "    \n",
    "    def forward(self, x):\n",
    "        if self.debug:\n",
    "            print('input: ', x.shape)\n",
    "        out = self.input_layer(x)\n",
    "#         if self.debug: \n",
    "#             print('layer input: ',out.shape)\n",
    "#         out = self.layer(out)\n",
    "\n",
    "        if self.debug:\n",
    "            print('layer1 input: ',out.shape)\n",
    "        out = self.layer1(out)\n",
    "        \n",
    "        if self.debug:\n",
    "            print('layer2 input: ', out.shape)\n",
    "        out = self.layer2(out)\n",
    "        \n",
    "        if self.debug:\n",
    "            print('layer3 input: ', out.shape)\n",
    "        out = self.layer3(out)\n",
    "        \n",
    "        if self.debug:\n",
    "            print('layer final input: ', out.shape)\n",
    "        out = self.layer_final(out)\n",
    "    \n",
    "        out = torch.mean(out, dim=-1, keepdim=False)\n",
    "    \n",
    "#         if self.debug:\n",
    "#             print('layer avg pool input: ', out.shape)        \n",
    "#         out = self.avgpool(out)\n",
    "        \n",
    "#         if self.debug:\n",
    "#             print('layer flatten input: ', out.shape)\n",
    "#         out = torch.flatten(out, 1)\n",
    "        \n",
    "        if self.debug:\n",
    "            print('layer fc input: ', out.shape)\n",
    "        \n",
    "        return self.fc(out)"
   ]
  },
  {
   "cell_type": "code",
   "execution_count": 33,
   "id": "0dc1f54d",
   "metadata": {},
   "outputs": [],
   "source": [
    "def initialize_weights(m):\n",
    "    if isinstance(m, nn.Conv1d):\n",
    "        nn.init.kaiming_normal_(m.weight.data,nonlinearity='relu')\n",
    "        if m.bias is not None:\n",
    "            nn.init.constant_(m.bias.data, 0)\n",
    "    elif isinstance(m, nn.BatchNorm1d):\n",
    "        nn.init.constant_(m.weight.data, 1)\n",
    "        nn.init.constant_(m.bias.data, 0)\n",
    "    elif isinstance(m, nn.Linear):\n",
    "        nn.init.kaiming_normal_(m.weight.data)\n",
    "        nn.init.constant_(m.bias.data, 0)"
   ]
  },
  {
   "cell_type": "code",
   "execution_count": 34,
   "id": "f74cc88b",
   "metadata": {},
   "outputs": [
    {
     "name": "stdout",
     "output_type": "stream",
     "text": [
      "cuda\n"
     ]
    }
   ],
   "source": [
    "device = torch.device('cuda' if torch.cuda.is_available() else 'cpu')\n",
    "print(device)"
   ]
  },
  {
   "cell_type": "code",
   "execution_count": null,
   "id": "b197be75",
   "metadata": {},
   "outputs": [],
   "source": [
    "ex_input = torch.randn((10, 32, 10)).to(device)\n",
    "# m = nn.AvgPool2d(kernel_size = (256, 1), stride = (1, 1))\n",
    "m = nn.AvgPool1d(10).to(device)\n",
    "ex_output = m(ex_input)\n",
    "print(ex_output.shape)\n",
    "print(ex_input)\n",
    "print(ex_output)"
   ]
  },
  {
   "cell_type": "code",
   "execution_count": 30,
   "id": "580098ac",
   "metadata": {
    "scrolled": false
   },
   "outputs": [
    {
     "name": "stdout",
     "output_type": "stream",
     "text": [
      "input:  torch.Size([2, 150, 300])\n",
      "layer1 input:  torch.Size([2, 64, 300])\n",
      "layer2 input:  torch.Size([2, 64, 300])\n"
     ]
    },
    {
     "ename": "RuntimeError",
     "evalue": "The size of tensor a (149) must match the size of tensor b (150) at non-singleton dimension 2",
     "output_type": "error",
     "traceback": [
      "\u001b[1;31m---------------------------------------------------------------------------\u001b[0m",
      "\u001b[1;31mRuntimeError\u001b[0m                              Traceback (most recent call last)",
      "Cell \u001b[1;32mIn[30], line 2\u001b[0m\n\u001b[0;32m      1\u001b[0m \u001b[38;5;28;01mimport\u001b[39;00m \u001b[38;5;21;01mtorchsummary\u001b[39;00m\n\u001b[1;32m----> 2\u001b[0m \u001b[43mtorchsummary\u001b[49m\u001b[38;5;241;43m.\u001b[39;49m\u001b[43msummary\u001b[49m\u001b[43m(\u001b[49m\u001b[43mResTCN\u001b[49m\u001b[43m(\u001b[49m\u001b[43mfeat_dim\u001b[49m\u001b[38;5;241;43m=\u001b[39;49m\u001b[38;5;241;43m150\u001b[39;49m\u001b[43m,\u001b[49m\u001b[43mdebug\u001b[49m\u001b[38;5;241;43m=\u001b[39;49m\u001b[38;5;28;43;01mTrue\u001b[39;49;00m\u001b[43m)\u001b[49m\u001b[38;5;241;43m.\u001b[39;49m\u001b[43mto\u001b[49m\u001b[43m(\u001b[49m\u001b[43mdevice\u001b[49m\u001b[43m)\u001b[49m\u001b[43m,\u001b[49m\u001b[43m \u001b[49m\u001b[43minput_size\u001b[49m\u001b[38;5;241;43m=\u001b[39;49m\u001b[43m(\u001b[49m\u001b[38;5;241;43m150\u001b[39;49m\u001b[43m,\u001b[49m\u001b[43m \u001b[49m\u001b[38;5;241;43m300\u001b[39;49m\u001b[43m)\u001b[49m\u001b[43m,\u001b[49m\u001b[43m \u001b[49m\u001b[43mbatch_size\u001b[49m\u001b[38;5;241;43m=\u001b[39;49m\u001b[38;5;241;43m128\u001b[39;49m\u001b[43m)\u001b[49m\n",
      "File \u001b[1;32m~\\anaconda3\\lib\\site-packages\\torchsummary\\torchsummary.py:72\u001b[0m, in \u001b[0;36msummary\u001b[1;34m(model, input_size, batch_size, device)\u001b[0m\n\u001b[0;32m     68\u001b[0m model\u001b[38;5;241m.\u001b[39mapply(register_hook)\n\u001b[0;32m     70\u001b[0m \u001b[38;5;66;03m# make a forward pass\u001b[39;00m\n\u001b[0;32m     71\u001b[0m \u001b[38;5;66;03m# print(x.shape)\u001b[39;00m\n\u001b[1;32m---> 72\u001b[0m \u001b[43mmodel\u001b[49m\u001b[43m(\u001b[49m\u001b[38;5;241;43m*\u001b[39;49m\u001b[43mx\u001b[49m\u001b[43m)\u001b[49m\n\u001b[0;32m     74\u001b[0m \u001b[38;5;66;03m# remove these hooks\u001b[39;00m\n\u001b[0;32m     75\u001b[0m \u001b[38;5;28;01mfor\u001b[39;00m h \u001b[38;5;129;01min\u001b[39;00m hooks:\n",
      "File \u001b[1;32m~\\anaconda3\\lib\\site-packages\\torch\\nn\\modules\\module.py:1518\u001b[0m, in \u001b[0;36mModule._wrapped_call_impl\u001b[1;34m(self, *args, **kwargs)\u001b[0m\n\u001b[0;32m   1516\u001b[0m     \u001b[38;5;28;01mreturn\u001b[39;00m \u001b[38;5;28mself\u001b[39m\u001b[38;5;241m.\u001b[39m_compiled_call_impl(\u001b[38;5;241m*\u001b[39margs, \u001b[38;5;241m*\u001b[39m\u001b[38;5;241m*\u001b[39mkwargs)  \u001b[38;5;66;03m# type: ignore[misc]\u001b[39;00m\n\u001b[0;32m   1517\u001b[0m \u001b[38;5;28;01melse\u001b[39;00m:\n\u001b[1;32m-> 1518\u001b[0m     \u001b[38;5;28;01mreturn\u001b[39;00m \u001b[38;5;28mself\u001b[39m\u001b[38;5;241m.\u001b[39m_call_impl(\u001b[38;5;241m*\u001b[39margs, \u001b[38;5;241m*\u001b[39m\u001b[38;5;241m*\u001b[39mkwargs)\n",
      "File \u001b[1;32m~\\anaconda3\\lib\\site-packages\\torch\\nn\\modules\\module.py:1527\u001b[0m, in \u001b[0;36mModule._call_impl\u001b[1;34m(self, *args, **kwargs)\u001b[0m\n\u001b[0;32m   1522\u001b[0m \u001b[38;5;66;03m# If we don't have any hooks, we want to skip the rest of the logic in\u001b[39;00m\n\u001b[0;32m   1523\u001b[0m \u001b[38;5;66;03m# this function, and just call forward.\u001b[39;00m\n\u001b[0;32m   1524\u001b[0m \u001b[38;5;28;01mif\u001b[39;00m \u001b[38;5;129;01mnot\u001b[39;00m (\u001b[38;5;28mself\u001b[39m\u001b[38;5;241m.\u001b[39m_backward_hooks \u001b[38;5;129;01mor\u001b[39;00m \u001b[38;5;28mself\u001b[39m\u001b[38;5;241m.\u001b[39m_backward_pre_hooks \u001b[38;5;129;01mor\u001b[39;00m \u001b[38;5;28mself\u001b[39m\u001b[38;5;241m.\u001b[39m_forward_hooks \u001b[38;5;129;01mor\u001b[39;00m \u001b[38;5;28mself\u001b[39m\u001b[38;5;241m.\u001b[39m_forward_pre_hooks\n\u001b[0;32m   1525\u001b[0m         \u001b[38;5;129;01mor\u001b[39;00m _global_backward_pre_hooks \u001b[38;5;129;01mor\u001b[39;00m _global_backward_hooks\n\u001b[0;32m   1526\u001b[0m         \u001b[38;5;129;01mor\u001b[39;00m _global_forward_hooks \u001b[38;5;129;01mor\u001b[39;00m _global_forward_pre_hooks):\n\u001b[1;32m-> 1527\u001b[0m     \u001b[38;5;28;01mreturn\u001b[39;00m forward_call(\u001b[38;5;241m*\u001b[39margs, \u001b[38;5;241m*\u001b[39m\u001b[38;5;241m*\u001b[39mkwargs)\n\u001b[0;32m   1529\u001b[0m \u001b[38;5;28;01mtry\u001b[39;00m:\n\u001b[0;32m   1530\u001b[0m     result \u001b[38;5;241m=\u001b[39m \u001b[38;5;28;01mNone\u001b[39;00m\n",
      "Cell \u001b[1;32mIn[29], line 104\u001b[0m, in \u001b[0;36mResTCN.forward\u001b[1;34m(self, x)\u001b[0m\n\u001b[0;32m    102\u001b[0m \u001b[38;5;28;01mif\u001b[39;00m \u001b[38;5;28mself\u001b[39m\u001b[38;5;241m.\u001b[39mdebug:\n\u001b[0;32m    103\u001b[0m     \u001b[38;5;28mprint\u001b[39m(\u001b[38;5;124m'\u001b[39m\u001b[38;5;124mlayer2 input: \u001b[39m\u001b[38;5;124m'\u001b[39m, out\u001b[38;5;241m.\u001b[39mshape)\n\u001b[1;32m--> 104\u001b[0m out \u001b[38;5;241m=\u001b[39m \u001b[38;5;28;43mself\u001b[39;49m\u001b[38;5;241;43m.\u001b[39;49m\u001b[43mlayer2\u001b[49m\u001b[43m(\u001b[49m\u001b[43mout\u001b[49m\u001b[43m)\u001b[49m\n\u001b[0;32m    106\u001b[0m \u001b[38;5;28;01mif\u001b[39;00m \u001b[38;5;28mself\u001b[39m\u001b[38;5;241m.\u001b[39mdebug:\n\u001b[0;32m    107\u001b[0m     \u001b[38;5;28mprint\u001b[39m(\u001b[38;5;124m'\u001b[39m\u001b[38;5;124mlayer3 input: \u001b[39m\u001b[38;5;124m'\u001b[39m, out\u001b[38;5;241m.\u001b[39mshape)\n",
      "File \u001b[1;32m~\\anaconda3\\lib\\site-packages\\torch\\nn\\modules\\module.py:1518\u001b[0m, in \u001b[0;36mModule._wrapped_call_impl\u001b[1;34m(self, *args, **kwargs)\u001b[0m\n\u001b[0;32m   1516\u001b[0m     \u001b[38;5;28;01mreturn\u001b[39;00m \u001b[38;5;28mself\u001b[39m\u001b[38;5;241m.\u001b[39m_compiled_call_impl(\u001b[38;5;241m*\u001b[39margs, \u001b[38;5;241m*\u001b[39m\u001b[38;5;241m*\u001b[39mkwargs)  \u001b[38;5;66;03m# type: ignore[misc]\u001b[39;00m\n\u001b[0;32m   1517\u001b[0m \u001b[38;5;28;01melse\u001b[39;00m:\n\u001b[1;32m-> 1518\u001b[0m     \u001b[38;5;28;01mreturn\u001b[39;00m \u001b[38;5;28mself\u001b[39m\u001b[38;5;241m.\u001b[39m_call_impl(\u001b[38;5;241m*\u001b[39margs, \u001b[38;5;241m*\u001b[39m\u001b[38;5;241m*\u001b[39mkwargs)\n",
      "File \u001b[1;32m~\\anaconda3\\lib\\site-packages\\torch\\nn\\modules\\module.py:1527\u001b[0m, in \u001b[0;36mModule._call_impl\u001b[1;34m(self, *args, **kwargs)\u001b[0m\n\u001b[0;32m   1522\u001b[0m \u001b[38;5;66;03m# If we don't have any hooks, we want to skip the rest of the logic in\u001b[39;00m\n\u001b[0;32m   1523\u001b[0m \u001b[38;5;66;03m# this function, and just call forward.\u001b[39;00m\n\u001b[0;32m   1524\u001b[0m \u001b[38;5;28;01mif\u001b[39;00m \u001b[38;5;129;01mnot\u001b[39;00m (\u001b[38;5;28mself\u001b[39m\u001b[38;5;241m.\u001b[39m_backward_hooks \u001b[38;5;129;01mor\u001b[39;00m \u001b[38;5;28mself\u001b[39m\u001b[38;5;241m.\u001b[39m_backward_pre_hooks \u001b[38;5;129;01mor\u001b[39;00m \u001b[38;5;28mself\u001b[39m\u001b[38;5;241m.\u001b[39m_forward_hooks \u001b[38;5;129;01mor\u001b[39;00m \u001b[38;5;28mself\u001b[39m\u001b[38;5;241m.\u001b[39m_forward_pre_hooks\n\u001b[0;32m   1525\u001b[0m         \u001b[38;5;129;01mor\u001b[39;00m _global_backward_pre_hooks \u001b[38;5;129;01mor\u001b[39;00m _global_backward_hooks\n\u001b[0;32m   1526\u001b[0m         \u001b[38;5;129;01mor\u001b[39;00m _global_forward_hooks \u001b[38;5;129;01mor\u001b[39;00m _global_forward_pre_hooks):\n\u001b[1;32m-> 1527\u001b[0m     \u001b[38;5;28;01mreturn\u001b[39;00m forward_call(\u001b[38;5;241m*\u001b[39margs, \u001b[38;5;241m*\u001b[39m\u001b[38;5;241m*\u001b[39mkwargs)\n\u001b[0;32m   1529\u001b[0m \u001b[38;5;28;01mtry\u001b[39;00m:\n\u001b[0;32m   1530\u001b[0m     result \u001b[38;5;241m=\u001b[39m \u001b[38;5;28;01mNone\u001b[39;00m\n",
      "File \u001b[1;32m~\\anaconda3\\lib\\site-packages\\torch\\nn\\modules\\container.py:215\u001b[0m, in \u001b[0;36mSequential.forward\u001b[1;34m(self, input)\u001b[0m\n\u001b[0;32m    213\u001b[0m \u001b[38;5;28;01mdef\u001b[39;00m \u001b[38;5;21mforward\u001b[39m(\u001b[38;5;28mself\u001b[39m, \u001b[38;5;28minput\u001b[39m):\n\u001b[0;32m    214\u001b[0m     \u001b[38;5;28;01mfor\u001b[39;00m module \u001b[38;5;129;01min\u001b[39;00m \u001b[38;5;28mself\u001b[39m:\n\u001b[1;32m--> 215\u001b[0m         \u001b[38;5;28minput\u001b[39m \u001b[38;5;241m=\u001b[39m \u001b[43mmodule\u001b[49m\u001b[43m(\u001b[49m\u001b[38;5;28;43minput\u001b[39;49m\u001b[43m)\u001b[49m\n\u001b[0;32m    216\u001b[0m     \u001b[38;5;28;01mreturn\u001b[39;00m \u001b[38;5;28minput\u001b[39m\n",
      "File \u001b[1;32m~\\anaconda3\\lib\\site-packages\\torch\\nn\\modules\\module.py:1518\u001b[0m, in \u001b[0;36mModule._wrapped_call_impl\u001b[1;34m(self, *args, **kwargs)\u001b[0m\n\u001b[0;32m   1516\u001b[0m     \u001b[38;5;28;01mreturn\u001b[39;00m \u001b[38;5;28mself\u001b[39m\u001b[38;5;241m.\u001b[39m_compiled_call_impl(\u001b[38;5;241m*\u001b[39margs, \u001b[38;5;241m*\u001b[39m\u001b[38;5;241m*\u001b[39mkwargs)  \u001b[38;5;66;03m# type: ignore[misc]\u001b[39;00m\n\u001b[0;32m   1517\u001b[0m \u001b[38;5;28;01melse\u001b[39;00m:\n\u001b[1;32m-> 1518\u001b[0m     \u001b[38;5;28;01mreturn\u001b[39;00m \u001b[38;5;28mself\u001b[39m\u001b[38;5;241m.\u001b[39m_call_impl(\u001b[38;5;241m*\u001b[39margs, \u001b[38;5;241m*\u001b[39m\u001b[38;5;241m*\u001b[39mkwargs)\n",
      "File \u001b[1;32m~\\anaconda3\\lib\\site-packages\\torch\\nn\\modules\\module.py:1568\u001b[0m, in \u001b[0;36mModule._call_impl\u001b[1;34m(self, *args, **kwargs)\u001b[0m\n\u001b[0;32m   1565\u001b[0m     bw_hook \u001b[38;5;241m=\u001b[39m hooks\u001b[38;5;241m.\u001b[39mBackwardHook(\u001b[38;5;28mself\u001b[39m, full_backward_hooks, backward_pre_hooks)\n\u001b[0;32m   1566\u001b[0m     args \u001b[38;5;241m=\u001b[39m bw_hook\u001b[38;5;241m.\u001b[39msetup_input_hook(args)\n\u001b[1;32m-> 1568\u001b[0m result \u001b[38;5;241m=\u001b[39m forward_call(\u001b[38;5;241m*\u001b[39margs, \u001b[38;5;241m*\u001b[39m\u001b[38;5;241m*\u001b[39mkwargs)\n\u001b[0;32m   1569\u001b[0m \u001b[38;5;28;01mif\u001b[39;00m _global_forward_hooks \u001b[38;5;129;01mor\u001b[39;00m \u001b[38;5;28mself\u001b[39m\u001b[38;5;241m.\u001b[39m_forward_hooks:\n\u001b[0;32m   1570\u001b[0m     \u001b[38;5;28;01mfor\u001b[39;00m hook_id, hook \u001b[38;5;129;01min\u001b[39;00m (\n\u001b[0;32m   1571\u001b[0m         \u001b[38;5;241m*\u001b[39m_global_forward_hooks\u001b[38;5;241m.\u001b[39mitems(),\n\u001b[0;32m   1572\u001b[0m         \u001b[38;5;241m*\u001b[39m\u001b[38;5;28mself\u001b[39m\u001b[38;5;241m.\u001b[39m_forward_hooks\u001b[38;5;241m.\u001b[39mitems(),\n\u001b[0;32m   1573\u001b[0m     ):\n\u001b[0;32m   1574\u001b[0m         \u001b[38;5;66;03m# mark that always called hook is run\u001b[39;00m\n",
      "Cell \u001b[1;32mIn[29], line 44\u001b[0m, in \u001b[0;36mResBlock.forward\u001b[1;34m(self, x)\u001b[0m\n\u001b[0;32m     39\u001b[0m             identity \u001b[38;5;241m=\u001b[39m \u001b[38;5;28mself\u001b[39m\u001b[38;5;241m.\u001b[39mdownsample(x)\n\u001b[0;32m     40\u001b[0m \u001b[38;5;66;03m#             print('----> down shape: ', identity.shape)\u001b[39;00m\n\u001b[0;32m     41\u001b[0m         \n\u001b[0;32m     42\u001b[0m \u001b[38;5;66;03m#         print('--> out shape: ', out.shape)\u001b[39;00m\n\u001b[1;32m---> 44\u001b[0m         out \u001b[38;5;241m+\u001b[39m\u001b[38;5;241m=\u001b[39m identity\n\u001b[0;32m     46\u001b[0m         \u001b[38;5;28;01mreturn\u001b[39;00m out\n",
      "\u001b[1;31mRuntimeError\u001b[0m: The size of tensor a (149) must match the size of tensor b (150) at non-singleton dimension 2"
     ]
    }
   ],
   "source": [
    "import torchsummary\n",
    "torchsummary.summary(ResTCN(feat_dim=150,debug=True).to(device), input_size=(150, 300), batch_size=128)"
   ]
  },
  {
   "cell_type": "code",
   "execution_count": 27,
   "id": "dc700d02",
   "metadata": {},
   "outputs": [
    {
     "data": {
      "text/plain": [
       "torch.Size([256])"
      ]
     },
     "execution_count": 27,
     "metadata": {},
     "output_type": "execute_result"
    }
   ],
   "source": [
    "model.layer_final[0].bias.shape"
   ]
  },
  {
   "cell_type": "code",
   "execution_count": null,
   "id": "13cd9f35",
   "metadata": {},
   "outputs": [],
   "source": [
    "tmp = next(iter(train_dataloader))[1]"
   ]
  },
  {
   "cell_type": "code",
   "execution_count": null,
   "id": "a9976fc3",
   "metadata": {},
   "outputs": [],
   "source": [
    "print(tmp.shape)\n",
    "print(tmp.max(dim=1)[1].shape)"
   ]
  },
  {
   "cell_type": "code",
   "execution_count": 15,
   "id": "42bf3d1b",
   "metadata": {},
   "outputs": [],
   "source": [
    "def model_train(model:ResTCN, data_loader, loss_fn, optimizer, device):\n",
    "    model.train()\n",
    "    \n",
    "    running_size = 0\n",
    "    running_loss = 0\n",
    "    corr = 0\n",
    "    \n",
    "    prograss_bar = tqdm(data_loader)\n",
    "    \n",
    "    total_corr = 0\n",
    "    \n",
    "    # mini-batch 학습을 시작합니다.\n",
    "    for batch_idx, (img, lbl) in enumerate(prograss_bar, start=1):\n",
    "        img, lbl = img.to(device), lbl.to(device)\n",
    "        optimizer.zero_grad()\n",
    "        \n",
    "        output = model(img)\n",
    "        \n",
    "        loss = loss_fn(output, lbl) # Cross Entropy with Sum over \n",
    "#         l1_lambda = 1e-4\n",
    "#         l1_norm = sum(torch.linalg.norm(w.reshape((-1, 1)), 1) for w in [model.input_layer.weight,\n",
    "#             model.layer1[0].layer1[3].weight,\n",
    "#             model.layer1[1].layer1[3].weight,\n",
    "#             model.layer1[2].layer1[3].weight,\n",
    "#             model.layer2[0].layer1[3].weight,\n",
    "#             model.layer2[0].downsample[0].weight,\n",
    "#             model.layer2[1].layer1[3].weight,\n",
    "#             model.layer2[2].layer1[3].weight,\n",
    "#             model.layer3[0].layer1[3].weight,\n",
    "#             model.layer3[0].downsample[0].weight,\n",
    "#             model.layer3[1].layer1[3].weight,\n",
    "#             model.layer3[2].layer1[3].weight,])\n",
    "        \n",
    "#         loss = loss + (l1_lambda * l1_norm).to(device)\n",
    "        \n",
    "        loss.backward()\n",
    "        \n",
    "        optimizer.step()\n",
    "        pred = output.argmax(dim=1)\n",
    "        label = lbl.argmax(dim=1)\n",
    "        \n",
    "#         corr += pred.eq(label).sum().item()\n",
    "#         corr = metric(pred, label)\n",
    "        \n",
    "        running_loss += loss.item()\n",
    "        running_size += img.size(0)\n",
    "        total_corr += (pred == label).sum().item()\n",
    "        \n",
    "#         prograss_bar.set_description(f'[Training] loss: {running_loss / running_size:.4f}, accuracy: {corr / running_size:.4f}')\n",
    "        prograss_bar.set_description(f'[Training] loss: {running_loss / running_size:.4f}, accuracy: {total_corr/running_size:.4f}')\n",
    "        \n",
    "    # 누적된 정답수를 전체 개수로 나누어 주면 정확도가 산출됩니다.\n",
    "#     acc = corr / len(data_loader.dataset)\n",
    "    acc = total_corr / len(data_loader.dataset)\n",
    "    \n",
    "    # 평균 손실(loss)과 정확도를 반환합니다.\n",
    "    # train_loss, train_acc\n",
    "    return running_loss / len(data_loader.dataset), acc"
   ]
  },
  {
   "cell_type": "code",
   "execution_count": 16,
   "id": "13229e88",
   "metadata": {},
   "outputs": [
    {
     "ename": "NameError",
     "evalue": "name 'model' is not defined",
     "output_type": "error",
     "traceback": [
      "\u001b[1;31m---------------------------------------------------------------------------\u001b[0m",
      "\u001b[1;31mNameError\u001b[0m                                 Traceback (most recent call last)",
      "Cell \u001b[1;32mIn[16], line 1\u001b[0m\n\u001b[1;32m----> 1\u001b[0m [\u001b[43mmodel\u001b[49m\u001b[38;5;241m.\u001b[39minput_layer\u001b[38;5;241m.\u001b[39mweight,\n\u001b[0;32m      2\u001b[0m model\u001b[38;5;241m.\u001b[39mlayer1[\u001b[38;5;241m0\u001b[39m]\u001b[38;5;241m.\u001b[39mlayer1[\u001b[38;5;241m3\u001b[39m]\u001b[38;5;241m.\u001b[39mweight,\n\u001b[0;32m      3\u001b[0m model\u001b[38;5;241m.\u001b[39mlayer1[\u001b[38;5;241m1\u001b[39m]\u001b[38;5;241m.\u001b[39mlayer1[\u001b[38;5;241m3\u001b[39m]\u001b[38;5;241m.\u001b[39mweight,\n\u001b[0;32m      4\u001b[0m model\u001b[38;5;241m.\u001b[39mlayer1[\u001b[38;5;241m2\u001b[39m]\u001b[38;5;241m.\u001b[39mlayer1[\u001b[38;5;241m3\u001b[39m]\u001b[38;5;241m.\u001b[39mweight,\n\u001b[0;32m      5\u001b[0m model\u001b[38;5;241m.\u001b[39mlayer2[\u001b[38;5;241m0\u001b[39m]\u001b[38;5;241m.\u001b[39mlayer1[\u001b[38;5;241m3\u001b[39m]\u001b[38;5;241m.\u001b[39mweight,\n\u001b[0;32m      6\u001b[0m model\u001b[38;5;241m.\u001b[39mlayer2[\u001b[38;5;241m0\u001b[39m]\u001b[38;5;241m.\u001b[39mdownsample[\u001b[38;5;241m0\u001b[39m]\u001b[38;5;241m.\u001b[39mweight,\n\u001b[0;32m      7\u001b[0m model\u001b[38;5;241m.\u001b[39mlayer2[\u001b[38;5;241m1\u001b[39m]\u001b[38;5;241m.\u001b[39mlayer1[\u001b[38;5;241m3\u001b[39m]\u001b[38;5;241m.\u001b[39mweight,\n\u001b[0;32m      8\u001b[0m model\u001b[38;5;241m.\u001b[39mlayer2[\u001b[38;5;241m2\u001b[39m]\u001b[38;5;241m.\u001b[39mlayer1[\u001b[38;5;241m3\u001b[39m]\u001b[38;5;241m.\u001b[39mweight,\n\u001b[0;32m      9\u001b[0m model\u001b[38;5;241m.\u001b[39mlayer3[\u001b[38;5;241m0\u001b[39m]\u001b[38;5;241m.\u001b[39mlayer1[\u001b[38;5;241m3\u001b[39m]\u001b[38;5;241m.\u001b[39mweight,\n\u001b[0;32m     10\u001b[0m model\u001b[38;5;241m.\u001b[39mlayer3[\u001b[38;5;241m0\u001b[39m]\u001b[38;5;241m.\u001b[39mdownsample[\u001b[38;5;241m0\u001b[39m]\u001b[38;5;241m.\u001b[39mweight,\n\u001b[0;32m     11\u001b[0m model\u001b[38;5;241m.\u001b[39mlayer3[\u001b[38;5;241m1\u001b[39m]\u001b[38;5;241m.\u001b[39mlayer1[\u001b[38;5;241m3\u001b[39m]\u001b[38;5;241m.\u001b[39mweight,\n\u001b[0;32m     12\u001b[0m model\u001b[38;5;241m.\u001b[39mlayer3[\u001b[38;5;241m2\u001b[39m]\u001b[38;5;241m.\u001b[39mlayer1[\u001b[38;5;241m3\u001b[39m]\u001b[38;5;241m.\u001b[39mweight,]\n",
      "\u001b[1;31mNameError\u001b[0m: name 'model' is not defined"
     ]
    }
   ],
   "source": [
    "[model.input_layer.weight,\n",
    "model.layer1[0].layer1[3].weight,\n",
    "model.layer1[1].layer1[3].weight,\n",
    "model.layer1[2].layer1[3].weight,\n",
    "model.layer2[0].layer1[3].weight,\n",
    "model.layer2[0].downsample[0].weight,\n",
    "model.layer2[1].layer1[3].weight,\n",
    "model.layer2[2].layer1[3].weight,\n",
    "model.layer3[0].layer1[3].weight,\n",
    "model.layer3[0].downsample[0].weight,\n",
    "model.layer3[1].layer1[3].weight,\n",
    "model.layer3[2].layer1[3].weight,]"
   ]
  },
  {
   "cell_type": "code",
   "execution_count": null,
   "id": "6bb93f23",
   "metadata": {},
   "outputs": [],
   "source": [
    "(img, lbl) = next(iter(test_dataloader))"
   ]
  },
  {
   "cell_type": "code",
   "execution_count": null,
   "id": "02937400",
   "metadata": {},
   "outputs": [],
   "source": [
    "metric = MulticlassAccuracy(num_classes=60, average='macro').to(device)\n",
    "\n",
    "img, lbl = img.to(device), lbl.to(device)\n",
    "output = model(img)\n",
    "corr1 = metric(output, lbl.argmax(dim=1))\n",
    "corr2 = metric(output.argmax(dim=1), lbl.argmax(dim=1))\n",
    "print(output.argmax(dim=1))\n",
    "print(lbl.argmax(dim=1))\n",
    "print(corr1.shape, corr1)\n",
    "print(corr2.shape, corr2)\n",
    "print((output.argmax(dim=1) == lbl.argmax(dim=1)).sum().item()/128)"
   ]
  },
  {
   "cell_type": "code",
   "execution_count": null,
   "id": "94a9350c",
   "metadata": {},
   "outputs": [],
   "source": [
    "met = MulticlassAccuracy(num_classes=5, average='none')\n",
    "print(met(torch.FloatTensor([1, 1, 2, 3, 0]), torch.LongTensor([3, 1, 2, 0, 4])))"
   ]
  },
  {
   "cell_type": "code",
   "execution_count": 17,
   "id": "ee23d7bd",
   "metadata": {},
   "outputs": [],
   "source": [
    "def model_evaluate(model, data_loader, loss_fn, device):\n",
    "    # model.eval()은 모델을 평가모드로 설정을 바꾸어 줍니다. \n",
    "    # dropout과 같은 layer의 역할 변경을 위하여 evaluation 진행시 꼭 필요한 절차 입니다.\n",
    "    model.eval()\n",
    "    prograss_bar = tqdm(data_loader)\n",
    "    \n",
    "    # Gradient가 업데이트 되는 것을 방지 하기 위하여 반드시 필요합니다.\n",
    "    with torch.no_grad():\n",
    "        # loss와 accuracy 계산을 위한 임시 변수 입니다. 0으로 초기화합니다.\n",
    "        corr = 0\n",
    "        running_loss = 0\n",
    "        running_size = 0\n",
    "        \n",
    "        total_corr = 0\n",
    "        # 배치별 evaluation을 진행합니다.\n",
    "        for batch_idx, (img, lbl) in enumerate(prograss_bar, start=1):\n",
    "            # device에 데이터를 올립니다.\n",
    "            img, lbl = img.to(device), lbl.to(device)\n",
    "            \n",
    "            # 모델에 Forward Propagation을 하여 결과를 도출합니다.\n",
    "            output = model(img)\n",
    "            \n",
    "            pred = output.argmax(dim=1)\n",
    "            label = lbl.argmax(dim=1)\n",
    "\n",
    "            running_loss += loss_fn(output, lbl).item()\n",
    "            running_size += img.size(0)\n",
    "            total_corr += (pred == label).sum().item()\n",
    "\n",
    "    #         prograss_bar.set_description(f'[Training] loss: {running_loss / running_size:.4f}, accuracy: {corr / running_size:.4f}')\n",
    "            prograss_bar.set_description(f'[Test] loss: {running_loss / running_size:.4f}, accuracy: {total_corr/running_size:.4f}')\n",
    "\n",
    "        # 누적된 정답수를 전체 개수로 나누어 주면 정확도가 산출됩니다.\n",
    "    #     acc = corr / len(data_loader.dataset)\n",
    "        \n",
    "        acc = total_corr / len(data_loader.dataset)\n",
    "#         sample = output.argmax(dim=1) == lbl.argmax(dim=1)\n",
    "#         print(sample.shape, sample.sum().item())\n",
    "        # 결과를 반환합니다.\n",
    "        # val_loss, val_acc\n",
    "        return running_loss / len(data_loader.dataset), acc"
   ]
  },
  {
   "cell_type": "code",
   "execution_count": 18,
   "id": "085f3827",
   "metadata": {},
   "outputs": [],
   "source": [
    "CNT = 0"
   ]
  },
  {
   "cell_type": "code",
   "execution_count": 35,
   "id": "1c1c381a",
   "metadata": {},
   "outputs": [],
   "source": [
    "LR = 1e-4\n",
    "NUM_EPOCHS = 200\n",
    "\n",
    "model = ResTCN(feat_dim=150).to(device)\n",
    "model.apply(initialize_weights)\n",
    "\n",
    "# 옵티마이저를 정의합니다. 옵티마이저에는 model.parameters()를 지정해야 합니다.\n",
    "# optimizer = optim.SGD(model.parameters(), lr=LR, momentum=0.9, weight_decay=0.0, nesterov=True)\n",
    "optimizer = optim.Adam(model.parameters(), lr=LR)\n",
    "\n",
    "scheduler = optim.lr_scheduler.ReduceLROnPlateau(optimizer, factor=0.1, cooldown=3, min_lr=1e-4, verbose=True)\n",
    "# scheduler = optim.lr_scheduler.CosineAnnealingLR(optimizer, T_max=5, eta_min=1e-4, )\n",
    "\n",
    "loss_fn = nn.CrossEntropyLoss(reduction='sum')"
   ]
  },
  {
   "cell_type": "code",
   "execution_count": 36,
   "id": "cdec2539",
   "metadata": {},
   "outputs": [
    {
     "data": {
      "text/html": [
       "Finishing last run (ID:g9oaqctf) before initializing another..."
      ],
      "text/plain": [
       "<IPython.core.display.HTML object>"
      ]
     },
     "metadata": {},
     "output_type": "display_data"
    },
    {
     "data": {
      "application/vnd.jupyter.widget-view+json": {
       "model_id": "",
       "version_major": 2,
       "version_minor": 0
      },
      "text/plain": [
       "VBox(children=(Label(value='0.001 MB of 0.001 MB uploaded\\r'), FloatProgress(value=1.0, max=1.0)))"
      ]
     },
     "metadata": {},
     "output_type": "display_data"
    },
    {
     "data": {
      "text/html": [
       "<style>\n",
       "    table.wandb td:nth-child(1) { padding: 0 10px; text-align: left ; width: auto;} td:nth-child(2) {text-align: left ; width: 100%}\n",
       "    .wandb-row { display: flex; flex-direction: row; flex-wrap: wrap; justify-content: flex-start; width: 100% }\n",
       "    .wandb-col { display: flex; flex-direction: column; flex-basis: 100%; flex: 1; padding: 10px; }\n",
       "    </style>\n",
       "<div class=\"wandb-row\"><div class=\"wandb-col\"><h3>Run history:</h3><br/><table class=\"wandb\"><tr><td>train_acc</td><td>▁▂▂▃▃▄▄▄▅▅▅▆▆▆▆▆▆▆▇▇▇▇▇▇▇▇▇▇▇▇▇████████</td></tr><tr><td>train_loss</td><td>█▇▇▆▆▆▅▅▅▄▄▄▃▃▃▃▃▃▃▂▂▂▂▂▂▂▂▂▂▂▂▂▁▁▁▁▁▁▁</td></tr><tr><td>val_acc</td><td>▁▂▂▃▃▃▄▄▄▅▅▆▆▆▆▆▆▆▆▇▇▇▇▇▇▇▆▇▇▇▇▇▇██████</td></tr><tr><td>val_loss</td><td>█▇▇▇▆▆▆▅▅▄▄▄▄▃▃▃▃▃▃▂▂▂▂▂▂▂▃▂▂▂▂▂▂▁▁▁▁▁▁</td></tr></table><br/></div><div class=\"wandb-col\"><h3>Run summary:</h3><br/><table class=\"wandb\"><tr><td>train_acc</td><td>0.30297</td></tr><tr><td>train_loss</td><td>3.83158</td></tr><tr><td>val_acc</td><td>0.29079</td></tr><tr><td>val_loss</td><td>3.83851</td></tr></table><br/></div></div>"
      ],
      "text/plain": [
       "<IPython.core.display.HTML object>"
      ]
     },
     "metadata": {},
     "output_type": "display_data"
    },
    {
     "data": {
      "text/html": [
       " View run <strong style=\"color:#cdcd00\">iconic-armadillo-67</strong> at: <a href='https://wandb.ai/tngus5851/RVP/runs/g9oaqctf' target=\"_blank\">https://wandb.ai/tngus5851/RVP/runs/g9oaqctf</a><br/>Synced 6 W&B file(s), 0 media file(s), 0 artifact file(s) and 0 other file(s)"
      ],
      "text/plain": [
       "<IPython.core.display.HTML object>"
      ]
     },
     "metadata": {},
     "output_type": "display_data"
    },
    {
     "data": {
      "text/html": [
       "Find logs at: <code>.\\wandb\\run-20231221_135446-g9oaqctf\\logs</code>"
      ],
      "text/plain": [
       "<IPython.core.display.HTML object>"
      ]
     },
     "metadata": {},
     "output_type": "display_data"
    },
    {
     "data": {
      "text/html": [
       "Successfully finished last run (ID:g9oaqctf). Initializing new run:<br/>"
      ],
      "text/plain": [
       "<IPython.core.display.HTML object>"
      ]
     },
     "metadata": {},
     "output_type": "display_data"
    },
    {
     "data": {
      "application/vnd.jupyter.widget-view+json": {
       "model_id": "5fe69d60d242468e9d1e72978111edcf",
       "version_major": 2,
       "version_minor": 0
      },
      "text/plain": [
       "VBox(children=(Label(value='Waiting for wandb.init()...\\r'), FloatProgress(value=0.011277777777932999, max=1.0…"
      ]
     },
     "metadata": {},
     "output_type": "display_data"
    },
    {
     "data": {
      "text/html": [
       "Tracking run with wandb version 0.16.1"
      ],
      "text/plain": [
       "<IPython.core.display.HTML object>"
      ]
     },
     "metadata": {},
     "output_type": "display_data"
    },
    {
     "data": {
      "text/html": [
       "Run data is saved locally in <code>C:\\Users\\tngus\\OneDrive - 중앙대학교\\과제\\2023-2\\RobotVisionProject\\ProjectStudy\\ResTCN\\wandb\\run-20231221_164804-s0rmvz9q</code>"
      ],
      "text/plain": [
       "<IPython.core.display.HTML object>"
      ]
     },
     "metadata": {},
     "output_type": "display_data"
    },
    {
     "data": {
      "text/html": [
       "Syncing run <strong><a href='https://wandb.ai/tngus5851/RVP/runs/s0rmvz9q' target=\"_blank\">astral-firebrand-68</a></strong> to <a href='https://wandb.ai/tngus5851/RVP' target=\"_blank\">Weights & Biases</a> (<a href='https://wandb.me/run' target=\"_blank\">docs</a>)<br/>"
      ],
      "text/plain": [
       "<IPython.core.display.HTML object>"
      ]
     },
     "metadata": {},
     "output_type": "display_data"
    },
    {
     "data": {
      "text/html": [
       " View project at <a href='https://wandb.ai/tngus5851/RVP' target=\"_blank\">https://wandb.ai/tngus5851/RVP</a>"
      ],
      "text/plain": [
       "<IPython.core.display.HTML object>"
      ]
     },
     "metadata": {},
     "output_type": "display_data"
    },
    {
     "data": {
      "text/html": [
       " View run at <a href='https://wandb.ai/tngus5851/RVP/runs/s0rmvz9q' target=\"_blank\">https://wandb.ai/tngus5851/RVP/runs/s0rmvz9q</a>"
      ],
      "text/plain": [
       "<IPython.core.display.HTML object>"
      ]
     },
     "metadata": {},
     "output_type": "display_data"
    }
   ],
   "source": [
    "import wandb\n",
    "\n",
    "MODEL_NAME = f'ResTCN_{CNT}_{LR}_HE_Origin_Final'\n",
    "\n",
    "wandb.init(\n",
    "    # set the wandb project where this run will be logged\n",
    "    project=\"RVP\",\n",
    "    \n",
    "    # track hyperparameters and run metadata\n",
    "    config={\n",
    "    \"learning_rate\": LR,\n",
    "    \"architecture\": MODEL_NAME,\n",
    "    \"epochs\": NUM_EPOCHS,\n",
    "    }\n",
    ")\n",
    "CNT += 1"
   ]
  },
  {
   "cell_type": "code",
   "execution_count": 37,
   "id": "356e0c18",
   "metadata": {
    "scrolled": true
   },
   "outputs": [
    {
     "name": "stderr",
     "output_type": "stream",
     "text": [
      "[Training] loss: 4.0663, accuracy: 0.0594: 100%|█████████████████████████████████████| 312/312 [01:07<00:00,  4.66it/s]\n",
      "[Test] loss: 4.0552, accuracy: 0.0701: 100%|█████████████████████████████████████████| 129/129 [00:29<00:00,  4.43it/s]\n"
     ]
    },
    {
     "name": "stdout",
     "output_type": "stream",
     "text": [
      "[INFO] val_loss has been improved from inf to 4.05515. Saving Model!\n",
      "epoch 01, loss: 4.06633, acc: 0.05941, val_loss: 4.05515, val_accuracy: 0.07010\n"
     ]
    },
    {
     "name": "stderr",
     "output_type": "stream",
     "text": [
      "[Training] loss: 4.0407, accuracy: 0.0835: 100%|█████████████████████████████████████| 312/312 [01:05<00:00,  4.78it/s]\n",
      "[Test] loss: 4.0379, accuracy: 0.0996: 100%|█████████████████████████████████████████| 129/129 [00:27<00:00,  4.71it/s]\n"
     ]
    },
    {
     "name": "stdout",
     "output_type": "stream",
     "text": [
      "[INFO] val_loss has been improved from 4.05515 to 4.03785. Saving Model!\n",
      "epoch 02, loss: 4.04071, acc: 0.08348, val_loss: 4.03785, val_accuracy: 0.09957\n"
     ]
    },
    {
     "name": "stderr",
     "output_type": "stream",
     "text": [
      "[Training] loss: 4.0251, accuracy: 0.1062: 100%|█████████████████████████████████████| 312/312 [01:05<00:00,  4.75it/s]\n",
      "[Test] loss: 4.0222, accuracy: 0.1075: 100%|█████████████████████████████████████████| 129/129 [00:26<00:00,  4.90it/s]\n"
     ]
    },
    {
     "name": "stdout",
     "output_type": "stream",
     "text": [
      "[INFO] val_loss has been improved from 4.03785 to 4.02221. Saving Model!\n",
      "epoch 03, loss: 4.02511, acc: 0.10619, val_loss: 4.02221, val_accuracy: 0.10750\n"
     ]
    },
    {
     "name": "stderr",
     "output_type": "stream",
     "text": [
      "[Training] loss: 4.0104, accuracy: 0.1192: 100%|█████████████████████████████████████| 312/312 [01:05<00:00,  4.73it/s]\n",
      "[Test] loss: 4.0211, accuracy: 0.1068: 100%|█████████████████████████████████████████| 129/129 [00:26<00:00,  4.79it/s]\n"
     ]
    },
    {
     "name": "stdout",
     "output_type": "stream",
     "text": [
      "[INFO] val_loss has been improved from 4.02221 to 4.02112. Saving Model!\n",
      "epoch 04, loss: 4.01042, acc: 0.11918, val_loss: 4.02112, val_accuracy: 0.10683\n"
     ]
    },
    {
     "name": "stderr",
     "output_type": "stream",
     "text": [
      "[Training] loss: 3.9960, accuracy: 0.1369: 100%|█████████████████████████████████████| 312/312 [01:05<00:00,  4.74it/s]\n",
      "[Test] loss: 4.0042, accuracy: 0.1212: 100%|█████████████████████████████████████████| 129/129 [00:27<00:00,  4.72it/s]\n"
     ]
    },
    {
     "name": "stdout",
     "output_type": "stream",
     "text": [
      "[INFO] val_loss has been improved from 4.02112 to 4.00421. Saving Model!\n",
      "epoch 05, loss: 3.99598, acc: 0.13685, val_loss: 4.00421, val_accuracy: 0.12117\n"
     ]
    },
    {
     "name": "stderr",
     "output_type": "stream",
     "text": [
      "[Training] loss: 3.9829, accuracy: 0.1544: 100%|█████████████████████████████████████| 312/312 [01:05<00:00,  4.74it/s]\n",
      "[Test] loss: 3.9789, accuracy: 0.1602: 100%|█████████████████████████████████████████| 129/129 [00:26<00:00,  4.96it/s]\n"
     ]
    },
    {
     "name": "stdout",
     "output_type": "stream",
     "text": [
      "[INFO] val_loss has been improved from 4.00421 to 3.97894. Saving Model!\n",
      "epoch 06, loss: 3.98288, acc: 0.15443, val_loss: 3.97894, val_accuracy: 0.16022\n"
     ]
    },
    {
     "name": "stderr",
     "output_type": "stream",
     "text": [
      "[Training] loss: 3.9702, accuracy: 0.1748: 100%|█████████████████████████████████████| 312/312 [01:06<00:00,  4.68it/s]\n",
      "[Test] loss: 3.9662, accuracy: 0.1735: 100%|█████████████████████████████████████████| 129/129 [00:27<00:00,  4.67it/s]\n"
     ]
    },
    {
     "name": "stdout",
     "output_type": "stream",
     "text": [
      "[INFO] val_loss has been improved from 3.97894 to 3.96616. Saving Model!\n",
      "epoch 07, loss: 3.97024, acc: 0.17479, val_loss: 3.96616, val_accuracy: 0.17352\n"
     ]
    },
    {
     "name": "stderr",
     "output_type": "stream",
     "text": [
      "[Training] loss: 3.9584, accuracy: 0.1890: 100%|█████████████████████████████████████| 312/312 [01:06<00:00,  4.72it/s]\n",
      "[Test] loss: 3.9535, accuracy: 0.1856: 100%|█████████████████████████████████████████| 129/129 [00:27<00:00,  4.68it/s]\n"
     ]
    },
    {
     "name": "stdout",
     "output_type": "stream",
     "text": [
      "[INFO] val_loss has been improved from 3.96616 to 3.95347. Saving Model!\n",
      "epoch 08, loss: 3.95839, acc: 0.18905, val_loss: 3.95347, val_accuracy: 0.18560\n"
     ]
    },
    {
     "name": "stderr",
     "output_type": "stream",
     "text": [
      "[Training] loss: 3.9509, accuracy: 0.1919: 100%|█████████████████████████████████████| 312/312 [01:05<00:00,  4.74it/s]\n",
      "[Test] loss: 3.9557, accuracy: 0.1788: 100%|█████████████████████████████████████████| 129/129 [00:27<00:00,  4.75it/s]\n"
     ]
    },
    {
     "name": "stdout",
     "output_type": "stream",
     "text": [
      "epoch 09, loss: 3.95091, acc: 0.19188, val_loss: 3.95566, val_accuracy: 0.17877\n"
     ]
    },
    {
     "name": "stderr",
     "output_type": "stream",
     "text": [
      "[Training] loss: 3.9447, accuracy: 0.1967: 100%|█████████████████████████████████████| 312/312 [01:06<00:00,  4.72it/s]\n",
      "[Test] loss: 3.9539, accuracy: 0.1772: 100%|█████████████████████████████████████████| 129/129 [00:26<00:00,  4.89it/s]\n"
     ]
    },
    {
     "name": "stdout",
     "output_type": "stream",
     "text": [
      "epoch 10, loss: 3.94465, acc: 0.19672, val_loss: 3.95394, val_accuracy: 0.17724\n"
     ]
    },
    {
     "name": "stderr",
     "output_type": "stream",
     "text": [
      "[Training] loss: 3.9373, accuracy: 0.2021: 100%|█████████████████████████████████████| 312/312 [01:05<00:00,  4.77it/s]\n",
      "[Test] loss: 3.9341, accuracy: 0.2027: 100%|█████████████████████████████████████████| 129/129 [00:27<00:00,  4.74it/s]\n"
     ]
    },
    {
     "name": "stdout",
     "output_type": "stream",
     "text": [
      "[INFO] val_loss has been improved from 3.95347 to 3.93409. Saving Model!\n",
      "epoch 11, loss: 3.93734, acc: 0.20211, val_loss: 3.93409, val_accuracy: 0.20275\n"
     ]
    },
    {
     "name": "stderr",
     "output_type": "stream",
     "text": [
      "[Training] loss: 3.9275, accuracy: 0.2162: 100%|█████████████████████████████████████| 312/312 [01:06<00:00,  4.72it/s]\n",
      "[Test] loss: 3.9425, accuracy: 0.1929: 100%|█████████████████████████████████████████| 129/129 [00:27<00:00,  4.62it/s]\n"
     ]
    },
    {
     "name": "stdout",
     "output_type": "stream",
     "text": [
      "epoch 12, loss: 3.92747, acc: 0.21620, val_loss: 3.94247, val_accuracy: 0.19286\n"
     ]
    },
    {
     "name": "stderr",
     "output_type": "stream",
     "text": [
      "[Training] loss: 3.9222, accuracy: 0.2202: 100%|█████████████████████████████████████| 312/312 [01:05<00:00,  4.74it/s]\n",
      "[Test] loss: 3.9253, accuracy: 0.2094: 100%|█████████████████████████████████████████| 129/129 [00:27<00:00,  4.64it/s]\n"
     ]
    },
    {
     "name": "stdout",
     "output_type": "stream",
     "text": [
      "[INFO] val_loss has been improved from 3.93409 to 3.92530. Saving Model!\n",
      "epoch 13, loss: 3.92216, acc: 0.22016, val_loss: 3.92530, val_accuracy: 0.20940\n"
     ]
    },
    {
     "name": "stderr",
     "output_type": "stream",
     "text": [
      "[Training] loss: 3.9138, accuracy: 0.2291: 100%|█████████████████████████████████████| 312/312 [01:07<00:00,  4.64it/s]\n",
      "[Test] loss: 3.9226, accuracy: 0.2118: 100%|█████████████████████████████████████████| 129/129 [00:27<00:00,  4.65it/s]\n"
     ]
    },
    {
     "name": "stdout",
     "output_type": "stream",
     "text": [
      "[INFO] val_loss has been improved from 3.92530 to 3.92257. Saving Model!\n",
      "epoch 14, loss: 3.91382, acc: 0.22914, val_loss: 3.92257, val_accuracy: 0.21184\n"
     ]
    },
    {
     "name": "stderr",
     "output_type": "stream",
     "text": [
      "[Training] loss: 3.9080, accuracy: 0.2345: 100%|█████████████████████████████████████| 312/312 [01:06<00:00,  4.70it/s]\n",
      "[Test] loss: 3.9113, accuracy: 0.2236: 100%|█████████████████████████████████████████| 129/129 [00:27<00:00,  4.64it/s]\n"
     ]
    },
    {
     "name": "stdout",
     "output_type": "stream",
     "text": [
      "[INFO] val_loss has been improved from 3.92257 to 3.91126. Saving Model!\n",
      "epoch 15, loss: 3.90798, acc: 0.23445, val_loss: 3.91126, val_accuracy: 0.22355\n"
     ]
    },
    {
     "name": "stderr",
     "output_type": "stream",
     "text": [
      "[Training] loss: 3.9013, accuracy: 0.2439: 100%|█████████████████████████████████████| 312/312 [01:06<00:00,  4.69it/s]\n",
      "[Test] loss: 3.9172, accuracy: 0.2157: 100%|█████████████████████████████████████████| 129/129 [00:28<00:00,  4.60it/s]\n"
     ]
    },
    {
     "name": "stdout",
     "output_type": "stream",
     "text": [
      "epoch 16, loss: 3.90127, acc: 0.24385, val_loss: 3.91716, val_accuracy: 0.21574\n"
     ]
    },
    {
     "name": "stderr",
     "output_type": "stream",
     "text": [
      "[Training] loss: 3.8965, accuracy: 0.2452: 100%|█████████████████████████████████████| 312/312 [01:06<00:00,  4.70it/s]\n",
      "[Test] loss: 3.9058, accuracy: 0.2292: 100%|█████████████████████████████████████████| 129/129 [00:27<00:00,  4.68it/s]\n"
     ]
    },
    {
     "name": "stdout",
     "output_type": "stream",
     "text": [
      "[INFO] val_loss has been improved from 3.91126 to 3.90581. Saving Model!\n",
      "epoch 17, loss: 3.89645, acc: 0.24518, val_loss: 3.90581, val_accuracy: 0.22923\n"
     ]
    },
    {
     "name": "stderr",
     "output_type": "stream",
     "text": [
      "[Training] loss: 3.8891, accuracy: 0.2538: 100%|█████████████████████████████████████| 312/312 [01:06<00:00,  4.71it/s]\n",
      "[Test] loss: 3.8853, accuracy: 0.2511: 100%|█████████████████████████████████████████| 129/129 [00:27<00:00,  4.69it/s]\n"
     ]
    },
    {
     "name": "stdout",
     "output_type": "stream",
     "text": [
      "[INFO] val_loss has been improved from 3.90581 to 3.88532. Saving Model!\n",
      "epoch 18, loss: 3.88908, acc: 0.25383, val_loss: 3.88532, val_accuracy: 0.25107\n"
     ]
    },
    {
     "name": "stderr",
     "output_type": "stream",
     "text": [
      "[Training] loss: 3.8770, accuracy: 0.2674: 100%|█████████████████████████████████████| 312/312 [01:05<00:00,  4.73it/s]\n",
      "[Test] loss: 3.8801, accuracy: 0.2531: 100%|█████████████████████████████████████████| 129/129 [00:27<00:00,  4.76it/s]\n"
     ]
    },
    {
     "name": "stdout",
     "output_type": "stream",
     "text": [
      "[INFO] val_loss has been improved from 3.88532 to 3.88013. Saving Model!\n",
      "epoch 19, loss: 3.87698, acc: 0.26742, val_loss: 3.88013, val_accuracy: 0.25308\n"
     ]
    },
    {
     "name": "stderr",
     "output_type": "stream",
     "text": [
      "[Training] loss: 3.8705, accuracy: 0.2726: 100%|█████████████████████████████████████| 312/312 [01:05<00:00,  4.74it/s]\n",
      "[Test] loss: 3.8856, accuracy: 0.2451: 100%|█████████████████████████████████████████| 129/129 [00:27<00:00,  4.66it/s]\n"
     ]
    },
    {
     "name": "stdout",
     "output_type": "stream",
     "text": [
      "epoch 20, loss: 3.87054, acc: 0.27256, val_loss: 3.88562, val_accuracy: 0.24515\n"
     ]
    },
    {
     "name": "stderr",
     "output_type": "stream",
     "text": [
      "[Training] loss: 3.8651, accuracy: 0.2765: 100%|█████████████████████████████████████| 312/312 [01:06<00:00,  4.72it/s]\n",
      "[Test] loss: 3.8694, accuracy: 0.2637: 100%|█████████████████████████████████████████| 129/129 [00:27<00:00,  4.67it/s]\n"
     ]
    },
    {
     "name": "stdout",
     "output_type": "stream",
     "text": [
      "[INFO] val_loss has been improved from 3.88013 to 3.86939. Saving Model!\n",
      "epoch 21, loss: 3.86506, acc: 0.27654, val_loss: 3.86939, val_accuracy: 0.26370\n"
     ]
    },
    {
     "name": "stderr",
     "output_type": "stream",
     "text": [
      "[Training] loss: 3.8616, accuracy: 0.2784: 100%|█████████████████████████████████████| 312/312 [01:06<00:00,  4.72it/s]\n",
      "[Test] loss: 3.8745, accuracy: 0.2556: 100%|█████████████████████████████████████████| 129/129 [00:27<00:00,  4.63it/s]\n"
     ]
    },
    {
     "name": "stdout",
     "output_type": "stream",
     "text": [
      "epoch 22, loss: 3.86155, acc: 0.27837, val_loss: 3.87451, val_accuracy: 0.25558\n"
     ]
    },
    {
     "name": "stderr",
     "output_type": "stream",
     "text": [
      "[Training] loss: 3.8580, accuracy: 0.2805: 100%|█████████████████████████████████████| 312/312 [01:07<00:00,  4.64it/s]\n",
      "[Test] loss: 3.8664, accuracy: 0.2649: 100%|█████████████████████████████████████████| 129/129 [00:28<00:00,  4.60it/s]\n"
     ]
    },
    {
     "name": "stdout",
     "output_type": "stream",
     "text": [
      "[INFO] val_loss has been improved from 3.86939 to 3.86642. Saving Model!\n",
      "epoch 23, loss: 3.85799, acc: 0.28048, val_loss: 3.86642, val_accuracy: 0.26486\n"
     ]
    },
    {
     "name": "stderr",
     "output_type": "stream",
     "text": [
      "[Training] loss: 3.8550, accuracy: 0.2825: 100%|█████████████████████████████████████| 312/312 [01:06<00:00,  4.72it/s]\n",
      "[Test] loss: 3.8505, accuracy: 0.2808: 100%|█████████████████████████████████████████| 129/129 [00:27<00:00,  4.70it/s]\n"
     ]
    },
    {
     "name": "stdout",
     "output_type": "stream",
     "text": [
      "[INFO] val_loss has been improved from 3.86642 to 3.85051. Saving Model!\n",
      "epoch 24, loss: 3.85498, acc: 0.28246, val_loss: 3.85051, val_accuracy: 0.28084\n"
     ]
    },
    {
     "name": "stderr",
     "output_type": "stream",
     "text": [
      "[Training] loss: 3.8530, accuracy: 0.2841: 100%|█████████████████████████████████████| 312/312 [01:05<00:00,  4.73it/s]\n",
      "[Test] loss: 3.8555, accuracy: 0.2768: 100%|█████████████████████████████████████████| 129/129 [00:27<00:00,  4.76it/s]\n"
     ]
    },
    {
     "name": "stdout",
     "output_type": "stream",
     "text": [
      "epoch 25, loss: 3.85298, acc: 0.28414, val_loss: 3.85554, val_accuracy: 0.27675\n"
     ]
    },
    {
     "name": "stderr",
     "output_type": "stream",
     "text": [
      "[Training] loss: 3.8502, accuracy: 0.2863: 100%|█████████████████████████████████████| 312/312 [01:06<00:00,  4.71it/s]\n",
      "[Test] loss: 3.8585, accuracy: 0.2734: 100%|█████████████████████████████████████████| 129/129 [00:27<00:00,  4.65it/s]\n"
     ]
    },
    {
     "name": "stdout",
     "output_type": "stream",
     "text": [
      "epoch 26, loss: 3.85024, acc: 0.28634, val_loss: 3.85853, val_accuracy: 0.27340\n"
     ]
    },
    {
     "name": "stderr",
     "output_type": "stream",
     "text": [
      "[Training] loss: 3.8444, accuracy: 0.2954: 100%|█████████████████████████████████████| 312/312 [01:07<00:00,  4.65it/s]\n",
      "[Test] loss: 3.8571, accuracy: 0.2730: 100%|█████████████████████████████████████████| 129/129 [00:27<00:00,  4.77it/s]\n"
     ]
    },
    {
     "name": "stdout",
     "output_type": "stream",
     "text": [
      "epoch 27, loss: 3.84442, acc: 0.29542, val_loss: 3.85712, val_accuracy: 0.27303\n"
     ]
    },
    {
     "name": "stderr",
     "output_type": "stream",
     "text": [
      "[Training] loss: 3.8384, accuracy: 0.3008: 100%|█████████████████████████████████████| 312/312 [01:06<00:00,  4.71it/s]\n",
      "[Test] loss: 3.8421, accuracy: 0.2905: 100%|█████████████████████████████████████████| 129/129 [00:26<00:00,  4.82it/s]\n"
     ]
    },
    {
     "name": "stdout",
     "output_type": "stream",
     "text": [
      "[INFO] val_loss has been improved from 3.85051 to 3.84208. Saving Model!\n",
      "epoch 28, loss: 3.83844, acc: 0.30083, val_loss: 3.84208, val_accuracy: 0.29048\n"
     ]
    },
    {
     "name": "stderr",
     "output_type": "stream",
     "text": [
      "[Training] loss: 3.8344, accuracy: 0.3051: 100%|█████████████████████████████████████| 312/312 [01:06<00:00,  4.69it/s]\n",
      "[Test] loss: 3.8347, accuracy: 0.2979: 100%|█████████████████████████████████████████| 129/129 [00:27<00:00,  4.65it/s]\n"
     ]
    },
    {
     "name": "stdout",
     "output_type": "stream",
     "text": [
      "[INFO] val_loss has been improved from 3.84208 to 3.83465. Saving Model!\n",
      "epoch 29, loss: 3.83437, acc: 0.30507, val_loss: 3.83465, val_accuracy: 0.29793\n"
     ]
    },
    {
     "name": "stderr",
     "output_type": "stream",
     "text": [
      "[Training] loss: 3.8301, accuracy: 0.3098: 100%|█████████████████████████████████████| 312/312 [01:06<00:00,  4.68it/s]\n",
      "[Test] loss: 3.8444, accuracy: 0.2882: 100%|█████████████████████████████████████████| 129/129 [00:27<00:00,  4.67it/s]\n"
     ]
    },
    {
     "name": "stdout",
     "output_type": "stream",
     "text": [
      "epoch 30, loss: 3.83010, acc: 0.30978, val_loss: 3.84441, val_accuracy: 0.28822\n"
     ]
    },
    {
     "name": "stderr",
     "output_type": "stream",
     "text": [
      "[Training] loss: 3.8282, accuracy: 0.3094: 100%|█████████████████████████████████████| 312/312 [01:06<00:00,  4.73it/s]\n",
      "[Test] loss: 3.8402, accuracy: 0.2913: 100%|█████████████████████████████████████████| 129/129 [00:27<00:00,  4.63it/s]\n"
     ]
    },
    {
     "name": "stdout",
     "output_type": "stream",
     "text": [
      "epoch 31, loss: 3.82822, acc: 0.30943, val_loss: 3.84018, val_accuracy: 0.29128\n"
     ]
    },
    {
     "name": "stderr",
     "output_type": "stream",
     "text": [
      "[Training] loss: 3.8250, accuracy: 0.3119: 100%|█████████████████████████████████████| 312/312 [01:05<00:00,  4.74it/s]\n",
      "[Test] loss: 3.8351, accuracy: 0.2948: 100%|█████████████████████████████████████████| 129/129 [00:27<00:00,  4.76it/s]\n"
     ]
    },
    {
     "name": "stdout",
     "output_type": "stream",
     "text": [
      "epoch 32, loss: 3.82500, acc: 0.31187, val_loss: 3.83511, val_accuracy: 0.29481\n"
     ]
    },
    {
     "name": "stderr",
     "output_type": "stream",
     "text": [
      "[Training] loss: 3.8216, accuracy: 0.3154: 100%|█████████████████████████████████████| 312/312 [01:05<00:00,  4.73it/s]\n",
      "[Test] loss: 3.8358, accuracy: 0.2944: 100%|█████████████████████████████████████████| 129/129 [00:27<00:00,  4.65it/s]\n"
     ]
    },
    {
     "name": "stdout",
     "output_type": "stream",
     "text": [
      "epoch 33, loss: 3.82165, acc: 0.31538, val_loss: 3.83576, val_accuracy: 0.29445\n"
     ]
    },
    {
     "name": "stderr",
     "output_type": "stream",
     "text": [
      "[Training] loss: 3.8186, accuracy: 0.3191: 100%|█████████████████████████████████████| 312/312 [01:05<00:00,  4.75it/s]\n",
      "[Test] loss: 3.8205, accuracy: 0.3092: 100%|█████████████████████████████████████████| 129/129 [00:27<00:00,  4.64it/s]\n"
     ]
    },
    {
     "name": "stdout",
     "output_type": "stream",
     "text": [
      "[INFO] val_loss has been improved from 3.83465 to 3.82045. Saving Model!\n",
      "epoch 34, loss: 3.81865, acc: 0.31906, val_loss: 3.82045, val_accuracy: 0.30921\n"
     ]
    },
    {
     "name": "stderr",
     "output_type": "stream",
     "text": [
      "[Training] loss: 3.8143, accuracy: 0.3248: 100%|█████████████████████████████████████| 312/312 [01:06<00:00,  4.69it/s]\n",
      "[Test] loss: 3.8122, accuracy: 0.3200: 100%|█████████████████████████████████████████| 129/129 [00:27<00:00,  4.66it/s]\n"
     ]
    },
    {
     "name": "stdout",
     "output_type": "stream",
     "text": [
      "[INFO] val_loss has been improved from 3.82045 to 3.81216. Saving Model!\n",
      "epoch 35, loss: 3.81432, acc: 0.32478, val_loss: 3.81216, val_accuracy: 0.32001\n"
     ]
    },
    {
     "name": "stderr",
     "output_type": "stream",
     "text": [
      "[Training] loss: 3.8116, accuracy: 0.3258: 100%|█████████████████████████████████████| 312/312 [01:05<00:00,  4.73it/s]\n",
      "[Test] loss: 3.8298, accuracy: 0.3022: 100%|█████████████████████████████████████████| 129/129 [00:27<00:00,  4.73it/s]\n"
     ]
    },
    {
     "name": "stdout",
     "output_type": "stream",
     "text": [
      "epoch 36, loss: 3.81157, acc: 0.32583, val_loss: 3.82984, val_accuracy: 0.30220\n"
     ]
    },
    {
     "name": "stderr",
     "output_type": "stream",
     "text": [
      "[Training] loss: 3.8057, accuracy: 0.3338: 100%|█████████████████████████████████████| 312/312 [01:06<00:00,  4.71it/s]\n",
      "[Test] loss: 3.8064, accuracy: 0.3256: 100%|█████████████████████████████████████████| 129/129 [00:27<00:00,  4.69it/s]\n"
     ]
    },
    {
     "name": "stdout",
     "output_type": "stream",
     "text": [
      "[INFO] val_loss has been improved from 3.81216 to 3.80640. Saving Model!\n",
      "epoch 37, loss: 3.80575, acc: 0.33380, val_loss: 3.80640, val_accuracy: 0.32556\n"
     ]
    },
    {
     "name": "stderr",
     "output_type": "stream",
     "text": [
      "[Training] loss: 3.7994, accuracy: 0.3400: 100%|█████████████████████████████████████| 312/312 [01:05<00:00,  4.78it/s]\n",
      "[Test] loss: 3.8145, accuracy: 0.3174: 100%|█████████████████████████████████████████| 129/129 [00:27<00:00,  4.74it/s]\n"
     ]
    },
    {
     "name": "stdout",
     "output_type": "stream",
     "text": [
      "epoch 38, loss: 3.79941, acc: 0.33997, val_loss: 3.81455, val_accuracy: 0.31745\n"
     ]
    },
    {
     "name": "stderr",
     "output_type": "stream",
     "text": [
      "[Training] loss: 3.7926, accuracy: 0.3475: 100%|█████████████████████████████████████| 312/312 [01:05<00:00,  4.75it/s]\n",
      "[Test] loss: 3.7956, accuracy: 0.3408: 100%|█████████████████████████████████████████| 129/129 [00:26<00:00,  4.83it/s]\n"
     ]
    },
    {
     "name": "stdout",
     "output_type": "stream",
     "text": [
      "[INFO] val_loss has been improved from 3.80640 to 3.79559. Saving Model!\n",
      "epoch 39, loss: 3.79265, acc: 0.34754, val_loss: 3.79559, val_accuracy: 0.34082\n"
     ]
    },
    {
     "name": "stderr",
     "output_type": "stream",
     "text": [
      "[Training] loss: 3.7883, accuracy: 0.3541: 100%|█████████████████████████████████████| 312/312 [01:05<00:00,  4.74it/s]\n",
      "[Test] loss: 3.7938, accuracy: 0.3415: 100%|█████████████████████████████████████████| 129/129 [00:29<00:00,  4.42it/s]\n"
     ]
    },
    {
     "name": "stdout",
     "output_type": "stream",
     "text": [
      "[INFO] val_loss has been improved from 3.79559 to 3.79375. Saving Model!\n",
      "epoch 40, loss: 3.78825, acc: 0.35413, val_loss: 3.79375, val_accuracy: 0.34149\n"
     ]
    },
    {
     "name": "stderr",
     "output_type": "stream",
     "text": [
      "[Training] loss: 3.7827, accuracy: 0.3601: 100%|█████████████████████████████████████| 312/312 [01:05<00:00,  4.75it/s]\n",
      "[Test] loss: 3.8206, accuracy: 0.3106: 100%|█████████████████████████████████████████| 129/129 [00:29<00:00,  4.44it/s]\n"
     ]
    },
    {
     "name": "stdout",
     "output_type": "stream",
     "text": [
      "epoch 41, loss: 3.78271, acc: 0.36010, val_loss: 3.82063, val_accuracy: 0.31056\n"
     ]
    },
    {
     "name": "stderr",
     "output_type": "stream",
     "text": [
      "[Training] loss: 3.7783, accuracy: 0.3639: 100%|█████████████████████████████████████| 312/312 [01:05<00:00,  4.80it/s]\n",
      "[Test] loss: 3.7977, accuracy: 0.3357: 100%|█████████████████████████████████████████| 129/129 [00:29<00:00,  4.40it/s]\n"
     ]
    },
    {
     "name": "stdout",
     "output_type": "stream",
     "text": [
      "epoch 42, loss: 3.77833, acc: 0.36391, val_loss: 3.79773, val_accuracy: 0.33569\n"
     ]
    },
    {
     "name": "stderr",
     "output_type": "stream",
     "text": [
      "[Training] loss: 3.7750, accuracy: 0.3665: 100%|█████████████████████████████████████| 312/312 [01:04<00:00,  4.80it/s]\n",
      "[Test] loss: 3.7870, accuracy: 0.3453: 100%|█████████████████████████████████████████| 129/129 [00:29<00:00,  4.40it/s]\n"
     ]
    },
    {
     "name": "stdout",
     "output_type": "stream",
     "text": [
      "[INFO] val_loss has been improved from 3.79375 to 3.78702. Saving Model!\n",
      "epoch 43, loss: 3.77499, acc: 0.36649, val_loss: 3.78702, val_accuracy: 0.34533\n"
     ]
    },
    {
     "name": "stderr",
     "output_type": "stream",
     "text": [
      "[Training] loss: 3.7698, accuracy: 0.3725: 100%|█████████████████████████████████████| 312/312 [01:05<00:00,  4.74it/s]\n",
      "[Test] loss: 3.7741, accuracy: 0.3583: 100%|█████████████████████████████████████████| 129/129 [00:29<00:00,  4.43it/s]\n"
     ]
    },
    {
     "name": "stdout",
     "output_type": "stream",
     "text": [
      "[INFO] val_loss has been improved from 3.78702 to 3.77415. Saving Model!\n",
      "epoch 44, loss: 3.76975, acc: 0.37246, val_loss: 3.77415, val_accuracy: 0.35833\n"
     ]
    },
    {
     "name": "stderr",
     "output_type": "stream",
     "text": [
      "[Training] loss: 3.7585, accuracy: 0.3832: 100%|█████████████████████████████████████| 312/312 [01:04<00:00,  4.80it/s]\n",
      "[Test] loss: 3.7791, accuracy: 0.3523: 100%|█████████████████████████████████████████| 129/129 [00:29<00:00,  4.43it/s]\n"
     ]
    },
    {
     "name": "stdout",
     "output_type": "stream",
     "text": [
      "epoch 45, loss: 3.75850, acc: 0.38316, val_loss: 3.77906, val_accuracy: 0.35235\n"
     ]
    },
    {
     "name": "stderr",
     "output_type": "stream",
     "text": [
      "[Training] loss: 3.7537, accuracy: 0.3871: 100%|█████████████████████████████████████| 312/312 [01:04<00:00,  4.80it/s]\n",
      "[Test] loss: 3.7735, accuracy: 0.3583: 100%|█████████████████████████████████████████| 129/129 [00:29<00:00,  4.40it/s]\n"
     ]
    },
    {
     "name": "stdout",
     "output_type": "stream",
     "text": [
      "[INFO] val_loss has been improved from 3.77415 to 3.77355. Saving Model!\n",
      "epoch 46, loss: 3.75373, acc: 0.38710, val_loss: 3.77355, val_accuracy: 0.35833\n"
     ]
    },
    {
     "name": "stderr",
     "output_type": "stream",
     "text": [
      "[Training] loss: 3.7511, accuracy: 0.3898: 100%|█████████████████████████████████████| 312/312 [01:04<00:00,  4.81it/s]\n",
      "[Test] loss: 3.7709, accuracy: 0.3601: 100%|█████████████████████████████████████████| 129/129 [00:29<00:00,  4.40it/s]\n"
     ]
    },
    {
     "name": "stdout",
     "output_type": "stream",
     "text": [
      "[INFO] val_loss has been improved from 3.77355 to 3.77085. Saving Model!\n",
      "epoch 47, loss: 3.75105, acc: 0.38978, val_loss: 3.77085, val_accuracy: 0.36010\n"
     ]
    },
    {
     "name": "stderr",
     "output_type": "stream",
     "text": [
      "[Training] loss: 3.7482, accuracy: 0.3907: 100%|█████████████████████████████████████| 312/312 [01:05<00:00,  4.75it/s]\n",
      "[Test] loss: 3.7636, accuracy: 0.3678: 100%|█████████████████████████████████████████| 129/129 [00:28<00:00,  4.46it/s]\n"
     ]
    },
    {
     "name": "stdout",
     "output_type": "stream",
     "text": [
      "[INFO] val_loss has been improved from 3.77085 to 3.76359. Saving Model!\n",
      "epoch 48, loss: 3.74818, acc: 0.39073, val_loss: 3.76359, val_accuracy: 0.36785\n"
     ]
    },
    {
     "name": "stderr",
     "output_type": "stream",
     "text": [
      "[Training] loss: 3.7454, accuracy: 0.3937: 100%|█████████████████████████████████████| 312/312 [01:05<00:00,  4.76it/s]\n",
      "[Test] loss: 3.7571, accuracy: 0.3735: 100%|█████████████████████████████████████████| 129/129 [00:28<00:00,  4.48it/s]\n"
     ]
    },
    {
     "name": "stdout",
     "output_type": "stream",
     "text": [
      "[INFO] val_loss has been improved from 3.76359 to 3.75715. Saving Model!\n",
      "epoch 49, loss: 3.74542, acc: 0.39367, val_loss: 3.75715, val_accuracy: 0.37346\n"
     ]
    },
    {
     "name": "stderr",
     "output_type": "stream",
     "text": [
      "[Training] loss: 3.7436, accuracy: 0.3943: 100%|█████████████████████████████████████| 312/312 [01:05<00:00,  4.76it/s]\n",
      "[Test] loss: 3.7559, accuracy: 0.3750: 100%|█████████████████████████████████████████| 129/129 [00:27<00:00,  4.69it/s]\n"
     ]
    },
    {
     "name": "stdout",
     "output_type": "stream",
     "text": [
      "[INFO] val_loss has been improved from 3.75715 to 3.75588. Saving Model!\n",
      "epoch 50, loss: 3.74365, acc: 0.39427, val_loss: 3.75588, val_accuracy: 0.37498\n"
     ]
    },
    {
     "name": "stderr",
     "output_type": "stream",
     "text": [
      "[Training] loss: 3.7421, accuracy: 0.3961: 100%|█████████████████████████████████████| 312/312 [01:05<00:00,  4.79it/s]\n",
      "[Test] loss: 3.7555, accuracy: 0.3744: 100%|█████████████████████████████████████████| 129/129 [00:28<00:00,  4.47it/s]\n"
     ]
    },
    {
     "name": "stdout",
     "output_type": "stream",
     "text": [
      "[INFO] val_loss has been improved from 3.75588 to 3.75548. Saving Model!\n",
      "epoch 51, loss: 3.74208, acc: 0.39607, val_loss: 3.75548, val_accuracy: 0.37444\n"
     ]
    },
    {
     "name": "stderr",
     "output_type": "stream",
     "text": [
      "[Training] loss: 3.7399, accuracy: 0.3981: 100%|█████████████████████████████████████| 312/312 [01:05<00:00,  4.80it/s]\n",
      "[Test] loss: 3.7661, accuracy: 0.3641: 100%|█████████████████████████████████████████| 129/129 [00:29<00:00,  4.44it/s]\n"
     ]
    },
    {
     "name": "stdout",
     "output_type": "stream",
     "text": [
      "epoch 52, loss: 3.73985, acc: 0.39805, val_loss: 3.76605, val_accuracy: 0.36406\n"
     ]
    },
    {
     "name": "stderr",
     "output_type": "stream",
     "text": [
      "[Training] loss: 3.7364, accuracy: 0.4013: 100%|█████████████████████████████████████| 312/312 [01:05<00:00,  4.77it/s]\n",
      "[Test] loss: 3.7472, accuracy: 0.3817: 100%|█████████████████████████████████████████| 129/129 [00:29<00:00,  4.38it/s]\n"
     ]
    },
    {
     "name": "stdout",
     "output_type": "stream",
     "text": [
      "[INFO] val_loss has been improved from 3.75548 to 3.74718. Saving Model!\n",
      "epoch 53, loss: 3.73637, acc: 0.40131, val_loss: 3.74718, val_accuracy: 0.38170\n"
     ]
    },
    {
     "name": "stderr",
     "output_type": "stream",
     "text": [
      "[Training] loss: 3.7325, accuracy: 0.4067: 100%|█████████████████████████████████████| 312/312 [01:05<00:00,  4.78it/s]\n",
      "[Test] loss: 3.7303, accuracy: 0.4019: 100%|█████████████████████████████████████████| 129/129 [00:29<00:00,  4.44it/s]\n"
     ]
    },
    {
     "name": "stdout",
     "output_type": "stream",
     "text": [
      "[INFO] val_loss has been improved from 3.74718 to 3.73030. Saving Model!\n",
      "epoch 54, loss: 3.73253, acc: 0.40668, val_loss: 3.73030, val_accuracy: 0.40189\n"
     ]
    },
    {
     "name": "stderr",
     "output_type": "stream",
     "text": [
      "[Training] loss: 3.7210, accuracy: 0.4181: 100%|█████████████████████████████████████| 312/312 [01:04<00:00,  4.82it/s]\n",
      "[Test] loss: 3.7462, accuracy: 0.3851: 100%|█████████████████████████████████████████| 129/129 [00:28<00:00,  4.47it/s]\n"
     ]
    },
    {
     "name": "stdout",
     "output_type": "stream",
     "text": [
      "epoch 55, loss: 3.72097, acc: 0.41814, val_loss: 3.74615, val_accuracy: 0.38511\n"
     ]
    },
    {
     "name": "stderr",
     "output_type": "stream",
     "text": [
      "[Training] loss: 3.7172, accuracy: 0.4222: 100%|█████████████████████████████████████| 312/312 [01:04<00:00,  4.80it/s]\n",
      "[Test] loss: 3.7384, accuracy: 0.3912: 100%|█████████████████████████████████████████| 129/129 [00:29<00:00,  4.38it/s]\n"
     ]
    },
    {
     "name": "stdout",
     "output_type": "stream",
     "text": [
      "epoch 56, loss: 3.71723, acc: 0.42220, val_loss: 3.73841, val_accuracy: 0.39121\n"
     ]
    },
    {
     "name": "stderr",
     "output_type": "stream",
     "text": [
      "[Training] loss: 3.7147, accuracy: 0.4248: 100%|█████████████████████████████████████| 312/312 [01:05<00:00,  4.78it/s]\n",
      "[Test] loss: 3.7322, accuracy: 0.3993: 100%|█████████████████████████████████████████| 129/129 [00:29<00:00,  4.44it/s]\n"
     ]
    },
    {
     "name": "stdout",
     "output_type": "stream",
     "text": [
      "epoch 57, loss: 3.71470, acc: 0.42478, val_loss: 3.73216, val_accuracy: 0.39927\n"
     ]
    },
    {
     "name": "stderr",
     "output_type": "stream",
     "text": [
      "[Training] loss: 3.7140, accuracy: 0.4242: 100%|█████████████████████████████████████| 312/312 [01:05<00:00,  4.78it/s]\n",
      "[Test] loss: 3.7436, accuracy: 0.3865: 100%|█████████████████████████████████████████| 129/129 [00:29<00:00,  4.44it/s]\n"
     ]
    },
    {
     "name": "stdout",
     "output_type": "stream",
     "text": [
      "epoch 58, loss: 3.71403, acc: 0.42418, val_loss: 3.74364, val_accuracy: 0.38646\n"
     ]
    },
    {
     "name": "stderr",
     "output_type": "stream",
     "text": [
      "[Training] loss: 3.7120, accuracy: 0.4270: 100%|█████████████████████████████████████| 312/312 [01:05<00:00,  4.74it/s]\n",
      "[Test] loss: 3.7375, accuracy: 0.3918: 100%|█████████████████████████████████████████| 129/129 [00:28<00:00,  4.49it/s]\n"
     ]
    },
    {
     "name": "stdout",
     "output_type": "stream",
     "text": [
      "epoch 59, loss: 3.71195, acc: 0.42696, val_loss: 3.73754, val_accuracy: 0.39182\n"
     ]
    },
    {
     "name": "stderr",
     "output_type": "stream",
     "text": [
      "[Training] loss: 3.7092, accuracy: 0.4291: 100%|█████████████████████████████████████| 312/312 [01:05<00:00,  4.79it/s]\n",
      "[Test] loss: 3.7149, accuracy: 0.4155: 100%|█████████████████████████████████████████| 129/129 [00:29<00:00,  4.40it/s]\n"
     ]
    },
    {
     "name": "stdout",
     "output_type": "stream",
     "text": [
      "[INFO] val_loss has been improved from 3.73030 to 3.71486. Saving Model!\n",
      "epoch 60, loss: 3.70919, acc: 0.42914, val_loss: 3.71486, val_accuracy: 0.41550\n"
     ]
    },
    {
     "name": "stderr",
     "output_type": "stream",
     "text": [
      "[Training] loss: 3.7085, accuracy: 0.4297: 100%|█████████████████████████████████████| 312/312 [01:05<00:00,  4.78it/s]\n",
      "[Test] loss: 3.7233, accuracy: 0.4061: 100%|█████████████████████████████████████████| 129/129 [00:29<00:00,  4.36it/s]\n"
     ]
    },
    {
     "name": "stdout",
     "output_type": "stream",
     "text": [
      "epoch 61, loss: 3.70854, acc: 0.42974, val_loss: 3.72334, val_accuracy: 0.40610\n"
     ]
    },
    {
     "name": "stderr",
     "output_type": "stream",
     "text": [
      "[Training] loss: 3.7048, accuracy: 0.4348: 100%|█████████████████████████████████████| 312/312 [01:04<00:00,  4.80it/s]\n",
      "[Test] loss: 3.7270, accuracy: 0.4029: 100%|█████████████████████████████████████████| 129/129 [00:29<00:00,  4.43it/s]\n"
     ]
    },
    {
     "name": "stdout",
     "output_type": "stream",
     "text": [
      "epoch 62, loss: 3.70478, acc: 0.43476, val_loss: 3.72699, val_accuracy: 0.40293\n"
     ]
    },
    {
     "name": "stderr",
     "output_type": "stream",
     "text": [
      "[Training] loss: 3.7039, accuracy: 0.4353: 100%|█████████████████████████████████████| 312/312 [01:06<00:00,  4.71it/s]\n",
      "[Test] loss: 3.7414, accuracy: 0.3883: 100%|█████████████████████████████████████████| 129/129 [00:29<00:00,  4.35it/s]\n"
     ]
    },
    {
     "name": "stdout",
     "output_type": "stream",
     "text": [
      "epoch 63, loss: 3.70388, acc: 0.43526, val_loss: 3.74139, val_accuracy: 0.38829\n"
     ]
    },
    {
     "name": "stderr",
     "output_type": "stream",
     "text": [
      "[Training] loss: 3.7015, accuracy: 0.4372: 100%|█████████████████████████████████████| 312/312 [01:05<00:00,  4.76it/s]\n",
      "[Test] loss: 3.7289, accuracy: 0.3993: 100%|█████████████████████████████████████████| 129/129 [00:29<00:00,  4.44it/s]\n"
     ]
    },
    {
     "name": "stdout",
     "output_type": "stream",
     "text": [
      "epoch 64, loss: 3.70153, acc: 0.43724, val_loss: 3.72890, val_accuracy: 0.39927\n"
     ]
    },
    {
     "name": "stderr",
     "output_type": "stream",
     "text": [
      "[Training] loss: 3.6987, accuracy: 0.4396: 100%|█████████████████████████████████████| 312/312 [01:05<00:00,  4.79it/s]\n",
      "[Test] loss: 3.7183, accuracy: 0.4108: 100%|█████████████████████████████████████████| 129/129 [00:29<00:00,  4.41it/s]\n"
     ]
    },
    {
     "name": "stdout",
     "output_type": "stream",
     "text": [
      "epoch 65, loss: 3.69871, acc: 0.43959, val_loss: 3.71826, val_accuracy: 0.41080\n"
     ]
    },
    {
     "name": "stderr",
     "output_type": "stream",
     "text": [
      "[Training] loss: 3.6958, accuracy: 0.4432: 100%|█████████████████████████████████████| 312/312 [01:05<00:00,  4.80it/s]\n",
      "[Test] loss: 3.7206, accuracy: 0.4087: 100%|█████████████████████████████████████████| 129/129 [00:29<00:00,  4.38it/s]\n"
     ]
    },
    {
     "name": "stdout",
     "output_type": "stream",
     "text": [
      "epoch 66, loss: 3.69585, acc: 0.44318, val_loss: 3.72061, val_accuracy: 0.40872\n"
     ]
    },
    {
     "name": "stderr",
     "output_type": "stream",
     "text": [
      "[Training] loss: 3.6932, accuracy: 0.4459: 100%|█████████████████████████████████████| 312/312 [01:05<00:00,  4.80it/s]\n",
      "[Test] loss: 3.7129, accuracy: 0.4165: 100%|█████████████████████████████████████████| 129/129 [00:29<00:00,  4.39it/s]\n"
     ]
    },
    {
     "name": "stdout",
     "output_type": "stream",
     "text": [
      "[INFO] val_loss has been improved from 3.71486 to 3.71288. Saving Model!\n",
      "epoch 67, loss: 3.69317, acc: 0.44589, val_loss: 3.71288, val_accuracy: 0.41653\n"
     ]
    },
    {
     "name": "stderr",
     "output_type": "stream",
     "text": [
      "[Training] loss: 3.6929, accuracy: 0.4447: 100%|█████████████████████████████████████| 312/312 [01:05<00:00,  4.77it/s]\n",
      "[Test] loss: 3.7163, accuracy: 0.4128: 100%|█████████████████████████████████████████| 129/129 [00:29<00:00,  4.38it/s]\n"
     ]
    },
    {
     "name": "stdout",
     "output_type": "stream",
     "text": [
      "epoch 68, loss: 3.69288, acc: 0.44466, val_loss: 3.71634, val_accuracy: 0.41281\n"
     ]
    },
    {
     "name": "stderr",
     "output_type": "stream",
     "text": [
      "[Training] loss: 3.6907, accuracy: 0.4479: 100%|█████████████████████████████████████| 312/312 [01:05<00:00,  4.77it/s]\n",
      "[Test] loss: 3.7362, accuracy: 0.3930: 100%|█████████████████████████████████████████| 129/129 [00:28<00:00,  4.55it/s]\n"
     ]
    },
    {
     "name": "stdout",
     "output_type": "stream",
     "text": [
      "epoch 69, loss: 3.69071, acc: 0.44792, val_loss: 3.73625, val_accuracy: 0.39298\n"
     ]
    },
    {
     "name": "stderr",
     "output_type": "stream",
     "text": [
      "[Training] loss: 3.6906, accuracy: 0.4469: 100%|█████████████████████████████████████| 312/312 [01:04<00:00,  4.81it/s]\n",
      "[Test] loss: 3.7174, accuracy: 0.4113: 100%|█████████████████████████████████████████| 129/129 [00:29<00:00,  4.40it/s]\n"
     ]
    },
    {
     "name": "stdout",
     "output_type": "stream",
     "text": [
      "epoch 70, loss: 3.69061, acc: 0.44692, val_loss: 3.71735, val_accuracy: 0.41135\n"
     ]
    },
    {
     "name": "stderr",
     "output_type": "stream",
     "text": [
      "[Training] loss: 3.6874, accuracy: 0.4498: 100%|█████████████████████████████████████| 312/312 [01:04<00:00,  4.83it/s]\n",
      "[Test] loss: 3.7015, accuracy: 0.4263: 100%|█████████████████████████████████████████| 129/129 [00:29<00:00,  4.44it/s]\n"
     ]
    },
    {
     "name": "stdout",
     "output_type": "stream",
     "text": [
      "[INFO] val_loss has been improved from 3.71288 to 3.70154. Saving Model!\n",
      "epoch 71, loss: 3.68740, acc: 0.44977, val_loss: 3.70154, val_accuracy: 0.42630\n"
     ]
    },
    {
     "name": "stderr",
     "output_type": "stream",
     "text": [
      "[Training] loss: 3.6866, accuracy: 0.4503: 100%|█████████████████████████████████████| 312/312 [01:05<00:00,  4.77it/s]\n",
      "[Test] loss: 3.7012, accuracy: 0.4276: 100%|█████████████████████████████████████████| 129/129 [00:28<00:00,  4.52it/s]\n"
     ]
    },
    {
     "name": "stdout",
     "output_type": "stream",
     "text": [
      "[INFO] val_loss has been improved from 3.70154 to 3.70123. Saving Model!\n",
      "epoch 72, loss: 3.68663, acc: 0.45027, val_loss: 3.70123, val_accuracy: 0.42758\n"
     ]
    },
    {
     "name": "stderr",
     "output_type": "stream",
     "text": [
      "[Training] loss: 3.6859, accuracy: 0.4505: 100%|█████████████████████████████████████| 312/312 [01:04<00:00,  4.81it/s]\n",
      "[Test] loss: 3.7091, accuracy: 0.4193: 100%|█████████████████████████████████████████| 129/129 [00:29<00:00,  4.42it/s]\n"
     ]
    },
    {
     "name": "stdout",
     "output_type": "stream",
     "text": [
      "epoch 73, loss: 3.68588, acc: 0.45053, val_loss: 3.70907, val_accuracy: 0.41928\n"
     ]
    },
    {
     "name": "stderr",
     "output_type": "stream",
     "text": [
      "[Training] loss: 3.6842, accuracy: 0.4512: 100%|█████████████████████████████████████| 312/312 [01:05<00:00,  4.75it/s]\n",
      "[Test] loss: 3.7147, accuracy: 0.4121: 100%|█████████████████████████████████████████| 129/129 [00:29<00:00,  4.34it/s]\n"
     ]
    },
    {
     "name": "stdout",
     "output_type": "stream",
     "text": [
      "epoch 74, loss: 3.68422, acc: 0.45123, val_loss: 3.71471, val_accuracy: 0.41214\n"
     ]
    },
    {
     "name": "stderr",
     "output_type": "stream",
     "text": [
      "[Training] loss: 3.6841, accuracy: 0.4518: 100%|█████████████████████████████████████| 312/312 [01:04<00:00,  4.82it/s]\n",
      "[Test] loss: 3.7048, accuracy: 0.4250: 100%|█████████████████████████████████████████| 129/129 [00:29<00:00,  4.42it/s]\n"
     ]
    },
    {
     "name": "stdout",
     "output_type": "stream",
     "text": [
      "epoch 75, loss: 3.68406, acc: 0.45180, val_loss: 3.70479, val_accuracy: 0.42502\n"
     ]
    },
    {
     "name": "stderr",
     "output_type": "stream",
     "text": [
      "[Training] loss: 3.6822, accuracy: 0.4533: 100%|█████████████████████████████████████| 312/312 [01:04<00:00,  4.84it/s]\n",
      "[Test] loss: 3.6980, accuracy: 0.4309: 100%|█████████████████████████████████████████| 129/129 [00:29<00:00,  4.37it/s]\n"
     ]
    },
    {
     "name": "stdout",
     "output_type": "stream",
     "text": [
      "[INFO] val_loss has been improved from 3.70123 to 3.69802. Saving Model!\n",
      "epoch 76, loss: 3.68222, acc: 0.45326, val_loss: 3.69802, val_accuracy: 0.43093\n"
     ]
    },
    {
     "name": "stderr",
     "output_type": "stream",
     "text": [
      "[Training] loss: 3.6792, accuracy: 0.4569: 100%|█████████████████████████████████████| 312/312 [01:05<00:00,  4.77it/s]\n",
      "[Test] loss: 3.7027, accuracy: 0.4256: 100%|█████████████████████████████████████████| 129/129 [00:28<00:00,  4.50it/s]\n"
     ]
    },
    {
     "name": "stdout",
     "output_type": "stream",
     "text": [
      "epoch 77, loss: 3.67922, acc: 0.45692, val_loss: 3.70273, val_accuracy: 0.42563\n"
     ]
    },
    {
     "name": "stderr",
     "output_type": "stream",
     "text": [
      "[Training] loss: 3.6792, accuracy: 0.4559: 100%|█████████████████████████████████████| 312/312 [01:05<00:00,  4.78it/s]\n",
      "[Test] loss: 3.7050, accuracy: 0.4234: 100%|█████████████████████████████████████████| 129/129 [00:28<00:00,  4.45it/s]\n"
     ]
    },
    {
     "name": "stdout",
     "output_type": "stream",
     "text": [
      "epoch 78, loss: 3.67916, acc: 0.45592, val_loss: 3.70504, val_accuracy: 0.42343\n"
     ]
    },
    {
     "name": "stderr",
     "output_type": "stream",
     "text": [
      "[Training] loss: 3.6776, accuracy: 0.4582: 100%|█████████████████████████████████████| 312/312 [01:04<00:00,  4.81it/s]\n",
      "[Test] loss: 3.7020, accuracy: 0.4261: 100%|█████████████████████████████████████████| 129/129 [00:29<00:00,  4.36it/s]\n"
     ]
    },
    {
     "name": "stdout",
     "output_type": "stream",
     "text": [
      "epoch 79, loss: 3.67764, acc: 0.45822, val_loss: 3.70204, val_accuracy: 0.42605\n"
     ]
    },
    {
     "name": "stderr",
     "output_type": "stream",
     "text": [
      "[Training] loss: 3.6760, accuracy: 0.4597: 100%|█████████████████████████████████████| 312/312 [01:05<00:00,  4.77it/s]\n",
      "[Test] loss: 3.7151, accuracy: 0.4112: 100%|█████████████████████████████████████████| 129/129 [00:29<00:00,  4.39it/s]\n"
     ]
    },
    {
     "name": "stdout",
     "output_type": "stream",
     "text": [
      "epoch 80, loss: 3.67599, acc: 0.45965, val_loss: 3.71515, val_accuracy: 0.41123\n"
     ]
    },
    {
     "name": "stderr",
     "output_type": "stream",
     "text": [
      "[Training] loss: 3.6761, accuracy: 0.4586: 100%|█████████████████████████████████████| 312/312 [01:06<00:00,  4.72it/s]\n",
      "[Test] loss: 3.6973, accuracy: 0.4313: 100%|█████████████████████████████████████████| 129/129 [00:29<00:00,  4.43it/s]\n"
     ]
    },
    {
     "name": "stdout",
     "output_type": "stream",
     "text": [
      "[INFO] val_loss has been improved from 3.69802 to 3.69733. Saving Model!\n",
      "epoch 81, loss: 3.67609, acc: 0.45865, val_loss: 3.69733, val_accuracy: 0.43130\n"
     ]
    },
    {
     "name": "stderr",
     "output_type": "stream",
     "text": [
      "[Training] loss: 3.6733, accuracy: 0.4614: 100%|█████████████████████████████████████| 312/312 [01:04<00:00,  4.81it/s]\n",
      "[Test] loss: 3.7021, accuracy: 0.4254: 100%|█████████████████████████████████████████| 129/129 [00:29<00:00,  4.37it/s]\n"
     ]
    },
    {
     "name": "stdout",
     "output_type": "stream",
     "text": [
      "epoch 82, loss: 3.67329, acc: 0.46141, val_loss: 3.70214, val_accuracy: 0.42544\n"
     ]
    },
    {
     "name": "stderr",
     "output_type": "stream",
     "text": [
      "[Training] loss: 3.6751, accuracy: 0.4591: 100%|█████████████████████████████████████| 312/312 [01:05<00:00,  4.77it/s]\n",
      "[Test] loss: 3.7021, accuracy: 0.4255: 100%|█████████████████████████████████████████| 129/129 [00:29<00:00,  4.37it/s]\n"
     ]
    },
    {
     "name": "stdout",
     "output_type": "stream",
     "text": [
      "epoch 83, loss: 3.67508, acc: 0.45915, val_loss: 3.70212, val_accuracy: 0.42550\n"
     ]
    },
    {
     "name": "stderr",
     "output_type": "stream",
     "text": [
      "[Training] loss: 3.6726, accuracy: 0.4619: 100%|█████████████████████████████████████| 312/312 [01:05<00:00,  4.77it/s]\n",
      "[Test] loss: 3.7053, accuracy: 0.4213: 100%|█████████████████████████████████████████| 129/129 [00:28<00:00,  4.46it/s]\n"
     ]
    },
    {
     "name": "stdout",
     "output_type": "stream",
     "text": [
      "epoch 84, loss: 3.67261, acc: 0.46191, val_loss: 3.70526, val_accuracy: 0.42129\n"
     ]
    },
    {
     "name": "stderr",
     "output_type": "stream",
     "text": [
      "[Training] loss: 3.6685, accuracy: 0.4662: 100%|█████████████████████████████████████| 312/312 [01:05<00:00,  4.80it/s]\n",
      "[Test] loss: 3.6782, accuracy: 0.4509: 100%|█████████████████████████████████████████| 129/129 [00:29<00:00,  4.44it/s]\n"
     ]
    },
    {
     "name": "stdout",
     "output_type": "stream",
     "text": [
      "[INFO] val_loss has been improved from 3.69733 to 3.67822. Saving Model!\n",
      "epoch 85, loss: 3.66852, acc: 0.46624, val_loss: 3.67822, val_accuracy: 0.45088\n"
     ]
    },
    {
     "name": "stderr",
     "output_type": "stream",
     "text": [
      "[Training] loss: 3.6614, accuracy: 0.4742: 100%|█████████████████████████████████████| 312/312 [01:05<00:00,  4.79it/s]\n",
      "[Test] loss: 3.6829, accuracy: 0.4447: 100%|█████████████████████████████████████████| 129/129 [00:28<00:00,  4.49it/s]\n"
     ]
    },
    {
     "name": "stdout",
     "output_type": "stream",
     "text": [
      "epoch 86, loss: 3.66141, acc: 0.47424, val_loss: 3.68290, val_accuracy: 0.44472\n"
     ]
    },
    {
     "name": "stderr",
     "output_type": "stream",
     "text": [
      "[Training] loss: 3.6578, accuracy: 0.4775: 100%|█████████████████████████████████████| 312/312 [01:05<00:00,  4.76it/s]\n",
      "[Test] loss: 3.6798, accuracy: 0.4480: 100%|█████████████████████████████████████████| 129/129 [00:28<00:00,  4.49it/s]\n"
     ]
    },
    {
     "name": "stdout",
     "output_type": "stream",
     "text": [
      "epoch 87, loss: 3.65782, acc: 0.47753, val_loss: 3.67978, val_accuracy: 0.44796\n"
     ]
    },
    {
     "name": "stderr",
     "output_type": "stream",
     "text": [
      "[Training] loss: 3.6582, accuracy: 0.4762: 100%|█████████████████████████████████████| 312/312 [01:05<00:00,  4.73it/s]\n",
      "[Test] loss: 3.6763, accuracy: 0.4521: 100%|█████████████████████████████████████████| 129/129 [00:28<00:00,  4.48it/s]\n"
     ]
    },
    {
     "name": "stdout",
     "output_type": "stream",
     "text": [
      "[INFO] val_loss has been improved from 3.67822 to 3.67627. Saving Model!\n",
      "epoch 88, loss: 3.65825, acc: 0.47620, val_loss: 3.67627, val_accuracy: 0.45210\n"
     ]
    },
    {
     "name": "stderr",
     "output_type": "stream",
     "text": [
      "[Training] loss: 3.6563, accuracy: 0.4785: 100%|█████████████████████████████████████| 312/312 [01:04<00:00,  4.84it/s]\n",
      "[Test] loss: 3.6957, accuracy: 0.4313: 100%|█████████████████████████████████████████| 129/129 [00:29<00:00,  4.37it/s]\n"
     ]
    },
    {
     "name": "stdout",
     "output_type": "stream",
     "text": [
      "epoch 89, loss: 3.65633, acc: 0.47845, val_loss: 3.69570, val_accuracy: 0.43130\n"
     ]
    },
    {
     "name": "stderr",
     "output_type": "stream",
     "text": [
      "[Training] loss: 3.6555, accuracy: 0.4787: 100%|█████████████████████████████████████| 312/312 [01:05<00:00,  4.78it/s]\n",
      "[Test] loss: 3.6829, accuracy: 0.4452: 100%|█████████████████████████████████████████| 129/129 [00:29<00:00,  4.43it/s]\n"
     ]
    },
    {
     "name": "stdout",
     "output_type": "stream",
     "text": [
      "epoch 90, loss: 3.65546, acc: 0.47870, val_loss: 3.68290, val_accuracy: 0.44521\n"
     ]
    },
    {
     "name": "stderr",
     "output_type": "stream",
     "text": [
      "[Training] loss: 3.6548, accuracy: 0.4802: 100%|█████████████████████████████████████| 312/312 [01:05<00:00,  4.76it/s]\n",
      "[Test] loss: 3.6839, accuracy: 0.4437: 100%|█████████████████████████████████████████| 129/129 [00:29<00:00,  4.39it/s]\n"
     ]
    },
    {
     "name": "stdout",
     "output_type": "stream",
     "text": [
      "epoch 91, loss: 3.65482, acc: 0.48018, val_loss: 3.68387, val_accuracy: 0.44369\n"
     ]
    },
    {
     "name": "stderr",
     "output_type": "stream",
     "text": [
      "[Training] loss: 3.6540, accuracy: 0.4797: 100%|█████████████████████████████████████| 312/312 [01:05<00:00,  4.78it/s]\n",
      "[Test] loss: 3.6988, accuracy: 0.4281: 100%|█████████████████████████████████████████| 129/129 [00:29<00:00,  4.40it/s]\n"
     ]
    },
    {
     "name": "stdout",
     "output_type": "stream",
     "text": [
      "epoch 92, loss: 3.65404, acc: 0.47966, val_loss: 3.69882, val_accuracy: 0.42813\n"
     ]
    },
    {
     "name": "stderr",
     "output_type": "stream",
     "text": [
      "[Training] loss: 3.6517, accuracy: 0.4824: 100%|█████████████████████████████████████| 312/312 [01:04<00:00,  4.81it/s]\n",
      "[Test] loss: 3.6726, accuracy: 0.4543: 100%|█████████████████████████████████████████| 129/129 [00:29<00:00,  4.33it/s]\n"
     ]
    },
    {
     "name": "stdout",
     "output_type": "stream",
     "text": [
      "[INFO] val_loss has been improved from 3.67627 to 3.67263. Saving Model!\n",
      "epoch 93, loss: 3.65174, acc: 0.48239, val_loss: 3.67263, val_accuracy: 0.45430\n"
     ]
    },
    {
     "name": "stderr",
     "output_type": "stream",
     "text": [
      "[Training] loss: 3.6505, accuracy: 0.4838: 100%|█████████████████████████████████████| 312/312 [01:05<00:00,  4.79it/s]\n",
      "[Test] loss: 3.6763, accuracy: 0.4516: 100%|█████████████████████████████████████████| 129/129 [00:29<00:00,  4.40it/s]\n"
     ]
    },
    {
     "name": "stdout",
     "output_type": "stream",
     "text": [
      "epoch 94, loss: 3.65055, acc: 0.48382, val_loss: 3.67630, val_accuracy: 0.45162\n"
     ]
    },
    {
     "name": "stderr",
     "output_type": "stream",
     "text": [
      "[Training] loss: 3.6517, accuracy: 0.4809: 100%|█████████████████████████████████████| 312/312 [01:05<00:00,  4.75it/s]\n",
      "[Test] loss: 3.6830, accuracy: 0.4440: 100%|█████████████████████████████████████████| 129/129 [00:29<00:00,  4.44it/s]\n"
     ]
    },
    {
     "name": "stdout",
     "output_type": "stream",
     "text": [
      "epoch 95, loss: 3.65167, acc: 0.48086, val_loss: 3.68299, val_accuracy: 0.44399\n"
     ]
    },
    {
     "name": "stderr",
     "output_type": "stream",
     "text": [
      "[Training] loss: 3.6488, accuracy: 0.4856: 100%|█████████████████████████████████████| 312/312 [01:05<00:00,  4.79it/s]\n",
      "[Test] loss: 3.6845, accuracy: 0.4439: 100%|█████████████████████████████████████████| 129/129 [00:29<00:00,  4.43it/s]\n"
     ]
    },
    {
     "name": "stdout",
     "output_type": "stream",
     "text": [
      "epoch 96, loss: 3.64880, acc: 0.48565, val_loss: 3.68450, val_accuracy: 0.44393\n"
     ]
    },
    {
     "name": "stderr",
     "output_type": "stream",
     "text": [
      "[Training] loss: 3.6485, accuracy: 0.4848: 100%|█████████████████████████████████████| 312/312 [01:05<00:00,  4.80it/s]\n",
      "[Test] loss: 3.6763, accuracy: 0.4497: 100%|█████████████████████████████████████████| 129/129 [00:29<00:00,  4.45it/s]\n"
     ]
    },
    {
     "name": "stdout",
     "output_type": "stream",
     "text": [
      "epoch 97, loss: 3.64848, acc: 0.48485, val_loss: 3.67634, val_accuracy: 0.44973\n"
     ]
    },
    {
     "name": "stderr",
     "output_type": "stream",
     "text": [
      "[Training] loss: 3.6492, accuracy: 0.4841: 100%|█████████████████████████████████████| 312/312 [01:05<00:00,  4.78it/s]\n",
      "[Test] loss: 3.6729, accuracy: 0.4550: 100%|█████████████████████████████████████████| 129/129 [00:28<00:00,  4.57it/s]\n"
     ]
    },
    {
     "name": "stdout",
     "output_type": "stream",
     "text": [
      "epoch 98, loss: 3.64919, acc: 0.48409, val_loss: 3.67286, val_accuracy: 0.45497\n"
     ]
    },
    {
     "name": "stderr",
     "output_type": "stream",
     "text": [
      "[Training] loss: 3.6471, accuracy: 0.4862: 100%|█████████████████████████████████████| 312/312 [01:05<00:00,  4.80it/s]\n",
      "[Test] loss: 3.6890, accuracy: 0.4375: 100%|█████████████████████████████████████████| 129/129 [00:29<00:00,  4.42it/s]\n"
     ]
    },
    {
     "name": "stdout",
     "output_type": "stream",
     "text": [
      "epoch 99, loss: 3.64706, acc: 0.48617, val_loss: 3.68902, val_accuracy: 0.43752\n"
     ]
    },
    {
     "name": "stderr",
     "output_type": "stream",
     "text": [
      "[Training] loss: 3.6478, accuracy: 0.4858: 100%|█████████████████████████████████████| 312/312 [01:05<00:00,  4.79it/s]\n",
      "[Test] loss: 3.6715, accuracy: 0.4569: 100%|█████████████████████████████████████████| 129/129 [00:28<00:00,  4.49it/s]\n"
     ]
    },
    {
     "name": "stdout",
     "output_type": "stream",
     "text": [
      "[INFO] val_loss has been improved from 3.67263 to 3.67146. Saving Model!\n",
      "epoch 100, loss: 3.64784, acc: 0.48582, val_loss: 3.67146, val_accuracy: 0.45692\n"
     ]
    },
    {
     "name": "stderr",
     "output_type": "stream",
     "text": [
      "[Training] loss: 3.6462, accuracy: 0.4871: 100%|█████████████████████████████████████| 312/312 [01:05<00:00,  4.77it/s]\n",
      "[Test] loss: 3.6858, accuracy: 0.4427: 100%|█████████████████████████████████████████| 129/129 [00:29<00:00,  4.36it/s]\n"
     ]
    },
    {
     "name": "stdout",
     "output_type": "stream",
     "text": [
      "epoch 101, loss: 3.64617, acc: 0.48710, val_loss: 3.68579, val_accuracy: 0.44271\n"
     ]
    },
    {
     "name": "stderr",
     "output_type": "stream",
     "text": [
      "[Training] loss: 3.6441, accuracy: 0.4888: 100%|█████████████████████████████████████| 312/312 [01:04<00:00,  4.80it/s]\n",
      "[Test] loss: 3.6813, accuracy: 0.4447: 100%|█████████████████████████████████████████| 129/129 [00:28<00:00,  4.46it/s]\n"
     ]
    },
    {
     "name": "stdout",
     "output_type": "stream",
     "text": [
      "epoch 102, loss: 3.64409, acc: 0.48878, val_loss: 3.68131, val_accuracy: 0.44466\n"
     ]
    },
    {
     "name": "stderr",
     "output_type": "stream",
     "text": [
      "[Training] loss: 3.6435, accuracy: 0.4898: 100%|█████████████████████████████████████| 312/312 [01:04<00:00,  4.81it/s]\n",
      "[Test] loss: 3.6854, accuracy: 0.4406: 100%|█████████████████████████████████████████| 129/129 [00:29<00:00,  4.39it/s]\n"
     ]
    },
    {
     "name": "stdout",
     "output_type": "stream",
     "text": [
      "epoch 103, loss: 3.64350, acc: 0.48978, val_loss: 3.68535, val_accuracy: 0.44057\n"
     ]
    },
    {
     "name": "stderr",
     "output_type": "stream",
     "text": [
      "[Training] loss: 3.6434, accuracy: 0.4893: 100%|█████████████████████████████████████| 312/312 [01:05<00:00,  4.78it/s]\n",
      "[Test] loss: 3.6901, accuracy: 0.4364: 100%|█████████████████████████████████████████| 129/129 [00:29<00:00,  4.33it/s]\n"
     ]
    },
    {
     "name": "stdout",
     "output_type": "stream",
     "text": [
      "epoch 104, loss: 3.64343, acc: 0.48926, val_loss: 3.69009, val_accuracy: 0.43642\n"
     ]
    },
    {
     "name": "stderr",
     "output_type": "stream",
     "text": [
      "[Training] loss: 3.6425, accuracy: 0.4900: 100%|█████████████████████████████████████| 312/312 [01:10<00:00,  4.41it/s]\n",
      "[Test] loss: 3.6671, accuracy: 0.4599: 100%|█████████████████████████████████████████| 129/129 [00:27<00:00,  4.69it/s]\n"
     ]
    },
    {
     "name": "stdout",
     "output_type": "stream",
     "text": [
      "[INFO] val_loss has been improved from 3.67146 to 3.66711. Saving Model!\n",
      "epoch 105, loss: 3.64249, acc: 0.48996, val_loss: 3.66711, val_accuracy: 0.45991\n"
     ]
    },
    {
     "name": "stderr",
     "output_type": "stream",
     "text": [
      "[Training] loss: 3.6414, accuracy: 0.4916: 100%|█████████████████████████████████████| 312/312 [01:05<00:00,  4.75it/s]\n",
      "[Test] loss: 3.6900, accuracy: 0.4388: 100%|█████████████████████████████████████████| 129/129 [00:27<00:00,  4.73it/s]\n"
     ]
    },
    {
     "name": "stdout",
     "output_type": "stream",
     "text": [
      "epoch 106, loss: 3.64143, acc: 0.49164, val_loss: 3.69004, val_accuracy: 0.43880\n"
     ]
    },
    {
     "name": "stderr",
     "output_type": "stream",
     "text": [
      "[Training] loss: 3.6411, accuracy: 0.4920: 100%|█████████████████████████████████████| 312/312 [01:05<00:00,  4.79it/s]\n",
      "[Test] loss: 3.6780, accuracy: 0.4489: 100%|█████████████████████████████████████████| 129/129 [00:27<00:00,  4.74it/s]\n"
     ]
    },
    {
     "name": "stdout",
     "output_type": "stream",
     "text": [
      "epoch 107, loss: 3.64115, acc: 0.49197, val_loss: 3.67797, val_accuracy: 0.44887\n"
     ]
    },
    {
     "name": "stderr",
     "output_type": "stream",
     "text": [
      "[Training] loss: 3.6404, accuracy: 0.4920: 100%|█████████████████████████████████████| 312/312 [01:06<00:00,  4.70it/s]\n",
      "[Test] loss: 3.6666, accuracy: 0.4602: 100%|█████████████████████████████████████████| 129/129 [00:27<00:00,  4.65it/s]\n"
     ]
    },
    {
     "name": "stdout",
     "output_type": "stream",
     "text": [
      "[INFO] val_loss has been improved from 3.66711 to 3.66660. Saving Model!\n",
      "epoch 108, loss: 3.64039, acc: 0.49204, val_loss: 3.66660, val_accuracy: 0.46016\n"
     ]
    },
    {
     "name": "stderr",
     "output_type": "stream",
     "text": [
      "[Training] loss: 3.6396, accuracy: 0.4923: 100%|█████████████████████████████████████| 312/312 [01:05<00:00,  4.79it/s]\n",
      "[Test] loss: 3.6729, accuracy: 0.4545: 100%|█████████████████████████████████████████| 129/129 [00:27<00:00,  4.66it/s]\n"
     ]
    },
    {
     "name": "stdout",
     "output_type": "stream",
     "text": [
      "epoch 109, loss: 3.63960, acc: 0.49232, val_loss: 3.67289, val_accuracy: 0.45448\n"
     ]
    },
    {
     "name": "stderr",
     "output_type": "stream",
     "text": [
      "[Training] loss: 3.6383, accuracy: 0.4941: 100%|█████████████████████████████████████| 312/312 [01:05<00:00,  4.78it/s]\n",
      "[Test] loss: 3.6755, accuracy: 0.4507: 100%|█████████████████████████████████████████| 129/129 [00:26<00:00,  4.81it/s]\n"
     ]
    },
    {
     "name": "stdout",
     "output_type": "stream",
     "text": [
      "epoch 110, loss: 3.63833, acc: 0.49415, val_loss: 3.67546, val_accuracy: 0.45070\n"
     ]
    },
    {
     "name": "stderr",
     "output_type": "stream",
     "text": [
      "[Training] loss: 3.6385, accuracy: 0.4934: 100%|█████████████████████████████████████| 312/312 [01:05<00:00,  4.80it/s]\n",
      "[Test] loss: 3.6701, accuracy: 0.4567: 100%|█████████████████████████████████████████| 129/129 [00:26<00:00,  4.79it/s]\n"
     ]
    },
    {
     "name": "stdout",
     "output_type": "stream",
     "text": [
      "epoch 111, loss: 3.63852, acc: 0.49344, val_loss: 3.67011, val_accuracy: 0.45668\n"
     ]
    },
    {
     "name": "stderr",
     "output_type": "stream",
     "text": [
      "[Training] loss: 3.6362, accuracy: 0.4954: 100%|█████████████████████████████████████| 312/312 [01:04<00:00,  4.83it/s]\n",
      "[Test] loss: 3.6808, accuracy: 0.4458: 100%|█████████████████████████████████████████| 129/129 [00:26<00:00,  4.92it/s]\n"
     ]
    },
    {
     "name": "stdout",
     "output_type": "stream",
     "text": [
      "epoch 112, loss: 3.63622, acc: 0.49540, val_loss: 3.68081, val_accuracy: 0.44582\n"
     ]
    },
    {
     "name": "stderr",
     "output_type": "stream",
     "text": [
      "[Training] loss: 3.6367, accuracy: 0.4959: 100%|█████████████████████████████████████| 312/312 [01:04<00:00,  4.82it/s]\n",
      "[Test] loss: 3.6624, accuracy: 0.4653: 100%|█████████████████████████████████████████| 129/129 [00:27<00:00,  4.78it/s]\n"
     ]
    },
    {
     "name": "stdout",
     "output_type": "stream",
     "text": [
      "[INFO] val_loss has been improved from 3.66660 to 3.66235. Saving Model!\n",
      "epoch 113, loss: 3.63672, acc: 0.49588, val_loss: 3.66235, val_accuracy: 0.46534\n"
     ]
    },
    {
     "name": "stderr",
     "output_type": "stream",
     "text": [
      "[Training] loss: 3.6362, accuracy: 0.4965: 100%|█████████████████████████████████████| 312/312 [01:05<00:00,  4.77it/s]\n",
      "[Test] loss: 3.6649, accuracy: 0.4615: 100%|█████████████████████████████████████████| 129/129 [00:27<00:00,  4.74it/s]\n"
     ]
    },
    {
     "name": "stdout",
     "output_type": "stream",
     "text": [
      "epoch 114, loss: 3.63625, acc: 0.49648, val_loss: 3.66487, val_accuracy: 0.46150\n"
     ]
    },
    {
     "name": "stderr",
     "output_type": "stream",
     "text": [
      "[Training] loss: 3.6342, accuracy: 0.4973: 100%|█████████████████████████████████████| 312/312 [01:05<00:00,  4.75it/s]\n",
      "[Test] loss: 3.6675, accuracy: 0.4595: 100%|█████████████████████████████████████████| 129/129 [00:27<00:00,  4.77it/s]\n"
     ]
    },
    {
     "name": "stdout",
     "output_type": "stream",
     "text": [
      "epoch 115, loss: 3.63425, acc: 0.49731, val_loss: 3.66750, val_accuracy: 0.45955\n"
     ]
    },
    {
     "name": "stderr",
     "output_type": "stream",
     "text": [
      "[Training] loss: 3.6356, accuracy: 0.4969: 100%|█████████████████████████████████████| 312/312 [01:04<00:00,  4.81it/s]\n",
      "[Test] loss: 3.6659, accuracy: 0.4609: 100%|█████████████████████████████████████████| 129/129 [00:27<00:00,  4.71it/s]\n"
     ]
    },
    {
     "name": "stdout",
     "output_type": "stream",
     "text": [
      "epoch 116, loss: 3.63560, acc: 0.49690, val_loss: 3.66594, val_accuracy: 0.46089\n"
     ]
    },
    {
     "name": "stderr",
     "output_type": "stream",
     "text": [
      "[Training] loss: 3.6326, accuracy: 0.4996: 100%|█████████████████████████████████████| 312/312 [01:04<00:00,  4.85it/s]\n",
      "[Test] loss: 3.6662, accuracy: 0.4606: 100%|█████████████████████████████████████████| 129/129 [00:27<00:00,  4.75it/s]\n"
     ]
    },
    {
     "name": "stdout",
     "output_type": "stream",
     "text": [
      "epoch 117, loss: 3.63263, acc: 0.49956, val_loss: 3.66617, val_accuracy: 0.46059\n"
     ]
    },
    {
     "name": "stderr",
     "output_type": "stream",
     "text": [
      "[Training] loss: 3.6338, accuracy: 0.4981: 100%|█████████████████████████████████████| 312/312 [01:05<00:00,  4.79it/s]\n",
      "[Test] loss: 3.6635, accuracy: 0.4631: 100%|█████████████████████████████████████████| 129/129 [00:27<00:00,  4.76it/s]\n"
     ]
    },
    {
     "name": "stdout",
     "output_type": "stream",
     "text": [
      "epoch 118, loss: 3.63378, acc: 0.49808, val_loss: 3.66355, val_accuracy: 0.46309\n"
     ]
    },
    {
     "name": "stderr",
     "output_type": "stream",
     "text": [
      "[Training] loss: 3.6328, accuracy: 0.4990: 100%|█████████████████████████████████████| 312/312 [01:05<00:00,  4.76it/s]\n",
      "[Test] loss: 3.6708, accuracy: 0.4566: 100%|█████████████████████████████████████████| 129/129 [00:27<00:00,  4.75it/s]\n"
     ]
    },
    {
     "name": "stdout",
     "output_type": "stream",
     "text": [
      "epoch 119, loss: 3.63279, acc: 0.49901, val_loss: 3.67076, val_accuracy: 0.45662\n"
     ]
    },
    {
     "name": "stderr",
     "output_type": "stream",
     "text": [
      "[Training] loss: 3.6314, accuracy: 0.5009: 100%|█████████████████████████████████████| 312/312 [01:05<00:00,  4.78it/s]\n",
      "[Test] loss: 3.6571, accuracy: 0.4691: 100%|█████████████████████████████████████████| 129/129 [00:27<00:00,  4.69it/s]\n"
     ]
    },
    {
     "name": "stdout",
     "output_type": "stream",
     "text": [
      "[INFO] val_loss has been improved from 3.66235 to 3.65708. Saving Model!\n",
      "epoch 120, loss: 3.63137, acc: 0.50086, val_loss: 3.65708, val_accuracy: 0.46913\n"
     ]
    },
    {
     "name": "stderr",
     "output_type": "stream",
     "text": [
      "[Training] loss: 3.6308, accuracy: 0.5007: 100%|█████████████████████████████████████| 312/312 [01:05<00:00,  4.79it/s]\n",
      "[Test] loss: 3.6741, accuracy: 0.4519: 100%|█████████████████████████████████████████| 129/129 [00:27<00:00,  4.76it/s]\n"
     ]
    },
    {
     "name": "stdout",
     "output_type": "stream",
     "text": [
      "epoch 121, loss: 3.63076, acc: 0.50071, val_loss: 3.67408, val_accuracy: 0.45192\n"
     ]
    },
    {
     "name": "stderr",
     "output_type": "stream",
     "text": [
      "[Training] loss: 3.6318, accuracy: 0.4991: 100%|█████████████████████████████████████| 312/312 [01:05<00:00,  4.78it/s]\n",
      "[Test] loss: 3.6728, accuracy: 0.4539: 100%|█████████████████████████████████████████| 129/129 [00:27<00:00,  4.70it/s]\n"
     ]
    },
    {
     "name": "stdout",
     "output_type": "stream",
     "text": [
      "epoch 122, loss: 3.63177, acc: 0.49911, val_loss: 3.67278, val_accuracy: 0.45394\n"
     ]
    },
    {
     "name": "stderr",
     "output_type": "stream",
     "text": [
      "[Training] loss: 3.6302, accuracy: 0.5011: 100%|█████████████████████████████████████| 312/312 [01:07<00:00,  4.61it/s]\n",
      "[Test] loss: 3.6623, accuracy: 0.4646: 100%|█████████████████████████████████████████| 129/129 [00:26<00:00,  4.79it/s]\n"
     ]
    },
    {
     "name": "stdout",
     "output_type": "stream",
     "text": [
      "epoch 123, loss: 3.63022, acc: 0.50112, val_loss: 3.66228, val_accuracy: 0.46461\n"
     ]
    },
    {
     "name": "stderr",
     "output_type": "stream",
     "text": [
      "[Training] loss: 3.6289, accuracy: 0.5024: 100%|█████████████████████████████████████| 312/312 [01:05<00:00,  4.75it/s]\n",
      "[Test] loss: 3.6736, accuracy: 0.4529: 100%|█████████████████████████████████████████| 129/129 [00:27<00:00,  4.73it/s]\n"
     ]
    },
    {
     "name": "stdout",
     "output_type": "stream",
     "text": [
      "epoch 124, loss: 3.62894, acc: 0.50237, val_loss: 3.67357, val_accuracy: 0.45290\n"
     ]
    },
    {
     "name": "stderr",
     "output_type": "stream",
     "text": [
      "[Training] loss: 3.6279, accuracy: 0.5033: 100%|█████████████████████████████████████| 312/312 [01:05<00:00,  4.79it/s]\n",
      "[Test] loss: 3.6696, accuracy: 0.4554: 100%|█████████████████████████████████████████| 129/129 [00:27<00:00,  4.69it/s]\n"
     ]
    },
    {
     "name": "stdout",
     "output_type": "stream",
     "text": [
      "epoch 125, loss: 3.62787, acc: 0.50330, val_loss: 3.66961, val_accuracy: 0.45540\n"
     ]
    },
    {
     "name": "stderr",
     "output_type": "stream",
     "text": [
      "[Training] loss: 3.6286, accuracy: 0.5022: 100%|█████████████████████████████████████| 312/312 [01:05<00:00,  4.79it/s]\n",
      "[Test] loss: 3.6651, accuracy: 0.4617: 100%|█████████████████████████████████████████| 129/129 [00:27<00:00,  4.76it/s]\n"
     ]
    },
    {
     "name": "stdout",
     "output_type": "stream",
     "text": [
      "epoch 126, loss: 3.62864, acc: 0.50224, val_loss: 3.66512, val_accuracy: 0.46168\n"
     ]
    },
    {
     "name": "stderr",
     "output_type": "stream",
     "text": [
      "[Training] loss: 3.6270, accuracy: 0.5039: 100%|█████████████████████████████████████| 312/312 [01:05<00:00,  4.79it/s]\n",
      "[Test] loss: 3.6671, accuracy: 0.4589: 100%|█████████████████████████████████████████| 129/129 [00:27<00:00,  4.76it/s]\n"
     ]
    },
    {
     "name": "stdout",
     "output_type": "stream",
     "text": [
      "epoch 127, loss: 3.62705, acc: 0.50390, val_loss: 3.66707, val_accuracy: 0.45894\n"
     ]
    },
    {
     "name": "stderr",
     "output_type": "stream",
     "text": [
      "[Training] loss: 3.6284, accuracy: 0.5023: 100%|█████████████████████████████████████| 312/312 [01:05<00:00,  4.79it/s]\n",
      "[Test] loss: 3.6605, accuracy: 0.4660: 100%|█████████████████████████████████████████| 129/129 [00:27<00:00,  4.73it/s]\n"
     ]
    },
    {
     "name": "stdout",
     "output_type": "stream",
     "text": [
      "epoch 128, loss: 3.62835, acc: 0.50232, val_loss: 3.66053, val_accuracy: 0.46595\n"
     ]
    },
    {
     "name": "stderr",
     "output_type": "stream",
     "text": [
      "[Training] loss: 3.6281, accuracy: 0.5028: 100%|█████████████████████████████████████| 312/312 [01:05<00:00,  4.78it/s]\n",
      "[Test] loss: 3.6698, accuracy: 0.4568: 100%|█████████████████████████████████████████| 129/129 [00:26<00:00,  4.91it/s]\n"
     ]
    },
    {
     "name": "stdout",
     "output_type": "stream",
     "text": [
      "epoch 129, loss: 3.62807, acc: 0.50282, val_loss: 3.66977, val_accuracy: 0.45680\n"
     ]
    },
    {
     "name": "stderr",
     "output_type": "stream",
     "text": [
      "[Training] loss: 3.6270, accuracy: 0.5030: 100%|█████████████████████████████████████| 312/312 [01:04<00:00,  4.82it/s]\n",
      "[Test] loss: 3.6780, accuracy: 0.4479: 100%|█████████████████████████████████████████| 129/129 [00:27<00:00,  4.72it/s]\n"
     ]
    },
    {
     "name": "stdout",
     "output_type": "stream",
     "text": [
      "epoch 130, loss: 3.62705, acc: 0.50305, val_loss: 3.67801, val_accuracy: 0.44790\n"
     ]
    },
    {
     "name": "stderr",
     "output_type": "stream",
     "text": [
      "[Training] loss: 3.6269, accuracy: 0.5041: 100%|█████████████████████████████████████| 312/312 [01:04<00:00,  4.80it/s]\n",
      "[Test] loss: 3.6555, accuracy: 0.4702: 100%|█████████████████████████████████████████| 129/129 [00:26<00:00,  4.79it/s]\n"
     ]
    },
    {
     "name": "stdout",
     "output_type": "stream",
     "text": [
      "[INFO] val_loss has been improved from 3.65708 to 3.65549. Saving Model!\n",
      "epoch 131, loss: 3.62692, acc: 0.50407, val_loss: 3.65549, val_accuracy: 0.47023\n"
     ]
    },
    {
     "name": "stderr",
     "output_type": "stream",
     "text": [
      "[Training] loss: 3.6250, accuracy: 0.5056: 100%|█████████████████████████████████████| 312/312 [01:05<00:00,  4.79it/s]\n",
      "[Test] loss: 3.6589, accuracy: 0.4670: 100%|█████████████████████████████████████████| 129/129 [00:27<00:00,  4.66it/s]\n"
     ]
    },
    {
     "name": "stdout",
     "output_type": "stream",
     "text": [
      "epoch 132, loss: 3.62504, acc: 0.50560, val_loss: 3.65891, val_accuracy: 0.46699\n"
     ]
    },
    {
     "name": "stderr",
     "output_type": "stream",
     "text": [
      "[Training] loss: 3.6234, accuracy: 0.5071: 100%|█████████████████████████████████████| 312/312 [01:04<00:00,  4.81it/s]\n",
      "[Test] loss: 3.6571, accuracy: 0.4691: 100%|█████████████████████████████████████████| 129/129 [00:27<00:00,  4.74it/s]\n"
     ]
    },
    {
     "name": "stdout",
     "output_type": "stream",
     "text": [
      "epoch 133, loss: 3.62337, acc: 0.50708, val_loss: 3.65708, val_accuracy: 0.46907\n"
     ]
    },
    {
     "name": "stderr",
     "output_type": "stream",
     "text": [
      "[Training] loss: 3.6239, accuracy: 0.5058: 100%|█████████████████████████████████████| 312/312 [01:05<00:00,  4.78it/s]\n",
      "[Test] loss: 3.6641, accuracy: 0.4622: 100%|█████████████████████████████████████████| 129/129 [00:27<00:00,  4.72it/s]\n"
     ]
    },
    {
     "name": "stdout",
     "output_type": "stream",
     "text": [
      "epoch 134, loss: 3.62388, acc: 0.50578, val_loss: 3.66411, val_accuracy: 0.46223\n"
     ]
    },
    {
     "name": "stderr",
     "output_type": "stream",
     "text": [
      "[Training] loss: 3.6222, accuracy: 0.5077: 100%|█████████████████████████████████████| 312/312 [01:05<00:00,  4.79it/s]\n",
      "[Test] loss: 3.6609, accuracy: 0.4652: 100%|█████████████████████████████████████████| 129/129 [00:27<00:00,  4.74it/s]\n"
     ]
    },
    {
     "name": "stdout",
     "output_type": "stream",
     "text": [
      "epoch 135, loss: 3.62216, acc: 0.50773, val_loss: 3.66088, val_accuracy: 0.46522\n"
     ]
    },
    {
     "name": "stderr",
     "output_type": "stream",
     "text": [
      "[Training] loss: 3.6233, accuracy: 0.5068: 100%|█████████████████████████████████████| 312/312 [01:05<00:00,  4.78it/s]\n",
      "[Test] loss: 3.6684, accuracy: 0.4574: 100%|█████████████████████████████████████████| 129/129 [00:27<00:00,  4.73it/s]\n"
     ]
    },
    {
     "name": "stdout",
     "output_type": "stream",
     "text": [
      "epoch 136, loss: 3.62327, acc: 0.50683, val_loss: 3.66835, val_accuracy: 0.45741\n"
     ]
    },
    {
     "name": "stderr",
     "output_type": "stream",
     "text": [
      "[Training] loss: 3.6225, accuracy: 0.5076: 100%|█████████████████████████████████████| 312/312 [01:05<00:00,  4.76it/s]\n",
      "[Test] loss: 3.6549, accuracy: 0.4709: 100%|█████████████████████████████████████████| 129/129 [00:27<00:00,  4.76it/s]\n"
     ]
    },
    {
     "name": "stdout",
     "output_type": "stream",
     "text": [
      "[INFO] val_loss has been improved from 3.65549 to 3.65490. Saving Model!\n",
      "epoch 137, loss: 3.62249, acc: 0.50758, val_loss: 3.65490, val_accuracy: 0.47090\n"
     ]
    },
    {
     "name": "stderr",
     "output_type": "stream",
     "text": [
      "[Training] loss: 3.6212, accuracy: 0.5090: 100%|█████████████████████████████████████| 312/312 [01:05<00:00,  4.79it/s]\n",
      "[Test] loss: 3.6548, accuracy: 0.4719: 100%|█████████████████████████████████████████| 129/129 [00:27<00:00,  4.72it/s]\n"
     ]
    },
    {
     "name": "stdout",
     "output_type": "stream",
     "text": [
      "[INFO] val_loss has been improved from 3.65490 to 3.65482. Saving Model!\n",
      "epoch 138, loss: 3.62120, acc: 0.50899, val_loss: 3.65482, val_accuracy: 0.47187\n"
     ]
    },
    {
     "name": "stderr",
     "output_type": "stream",
     "text": [
      "[Training] loss: 3.6206, accuracy: 0.5097: 100%|█████████████████████████████████████| 312/312 [01:05<00:00,  4.76it/s]\n",
      "[Test] loss: 3.6545, accuracy: 0.4719: 100%|█████████████████████████████████████████| 129/129 [00:27<00:00,  4.65it/s]\n"
     ]
    },
    {
     "name": "stdout",
     "output_type": "stream",
     "text": [
      "[INFO] val_loss has been improved from 3.65482 to 3.65454. Saving Model!\n",
      "epoch 139, loss: 3.62059, acc: 0.50974, val_loss: 3.65454, val_accuracy: 0.47193\n"
     ]
    },
    {
     "name": "stderr",
     "output_type": "stream",
     "text": [
      "[Training] loss: 3.6218, accuracy: 0.5083: 100%|█████████████████████████████████████| 312/312 [01:04<00:00,  4.81it/s]\n",
      "[Test] loss: 3.6599, accuracy: 0.4648: 100%|█████████████████████████████████████████| 129/129 [00:27<00:00,  4.70it/s]\n"
     ]
    },
    {
     "name": "stdout",
     "output_type": "stream",
     "text": [
      "epoch 140, loss: 3.62181, acc: 0.50826, val_loss: 3.65991, val_accuracy: 0.46480\n"
     ]
    },
    {
     "name": "stderr",
     "output_type": "stream",
     "text": [
      "[Training] loss: 3.6202, accuracy: 0.5102: 100%|█████████████████████████████████████| 312/312 [01:04<00:00,  4.81it/s]\n",
      "[Test] loss: 3.6598, accuracy: 0.4666: 100%|█████████████████████████████████████████| 129/129 [00:27<00:00,  4.77it/s]\n"
     ]
    },
    {
     "name": "stdout",
     "output_type": "stream",
     "text": [
      "epoch 141, loss: 3.62020, acc: 0.51024, val_loss: 3.65984, val_accuracy: 0.46656\n"
     ]
    },
    {
     "name": "stderr",
     "output_type": "stream",
     "text": [
      "[Training] loss: 3.6186, accuracy: 0.5116: 100%|█████████████████████████████████████| 312/312 [01:05<00:00,  4.75it/s]\n",
      "[Test] loss: 3.6608, accuracy: 0.4656: 100%|█████████████████████████████████████████| 129/129 [00:26<00:00,  4.91it/s]\n"
     ]
    },
    {
     "name": "stdout",
     "output_type": "stream",
     "text": [
      "epoch 142, loss: 3.61862, acc: 0.51164, val_loss: 3.66076, val_accuracy: 0.46565\n"
     ]
    },
    {
     "name": "stderr",
     "output_type": "stream",
     "text": [
      "[Training] loss: 3.6200, accuracy: 0.5109: 100%|█████████████████████████████████████| 312/312 [01:05<00:00,  4.80it/s]\n",
      "[Test] loss: 3.6520, accuracy: 0.4746: 100%|█████████████████████████████████████████| 129/129 [00:27<00:00,  4.75it/s]\n"
     ]
    },
    {
     "name": "stdout",
     "output_type": "stream",
     "text": [
      "[INFO] val_loss has been improved from 3.65454 to 3.65199. Saving Model!\n",
      "epoch 143, loss: 3.61996, acc: 0.51089, val_loss: 3.65199, val_accuracy: 0.47462\n"
     ]
    },
    {
     "name": "stderr",
     "output_type": "stream",
     "text": [
      "[Training] loss: 3.6183, accuracy: 0.5125: 100%|█████████████████████████████████████| 312/312 [01:04<00:00,  4.80it/s]\n",
      "[Test] loss: 3.6590, accuracy: 0.4671: 100%|█████████████████████████████████████████| 129/129 [00:29<00:00,  4.42it/s]\n"
     ]
    },
    {
     "name": "stdout",
     "output_type": "stream",
     "text": [
      "epoch 144, loss: 3.61832, acc: 0.51252, val_loss: 3.65902, val_accuracy: 0.46705\n"
     ]
    },
    {
     "name": "stderr",
     "output_type": "stream",
     "text": [
      "[Training] loss: 3.6202, accuracy: 0.5094: 100%|█████████████████████████████████████| 312/312 [01:04<00:00,  4.86it/s]\n",
      "[Test] loss: 3.6584, accuracy: 0.4681: 100%|█████████████████████████████████████████| 129/129 [00:29<00:00,  4.44it/s]\n"
     ]
    },
    {
     "name": "stdout",
     "output_type": "stream",
     "text": [
      "epoch 145, loss: 3.62019, acc: 0.50944, val_loss: 3.65842, val_accuracy: 0.46809\n"
     ]
    },
    {
     "name": "stderr",
     "output_type": "stream",
     "text": [
      "[Training] loss: 3.6180, accuracy: 0.5122: 100%|█████████████████████████████████████| 312/312 [01:04<00:00,  4.86it/s]\n",
      "[Test] loss: 3.6596, accuracy: 0.4651: 100%|█████████████████████████████████████████| 129/129 [00:28<00:00,  4.48it/s]\n"
     ]
    },
    {
     "name": "stdout",
     "output_type": "stream",
     "text": [
      "epoch 146, loss: 3.61798, acc: 0.51217, val_loss: 3.65958, val_accuracy: 0.46510\n"
     ]
    },
    {
     "name": "stderr",
     "output_type": "stream",
     "text": [
      "[Training] loss: 3.6189, accuracy: 0.5106: 100%|█████████████████████████████████████| 312/312 [01:04<00:00,  4.81it/s]\n",
      "[Test] loss: 3.6661, accuracy: 0.4595: 100%|█████████████████████████████████████████| 129/129 [00:29<00:00,  4.42it/s]\n"
     ]
    },
    {
     "name": "stdout",
     "output_type": "stream",
     "text": [
      "epoch 147, loss: 3.61892, acc: 0.51059, val_loss: 3.66610, val_accuracy: 0.45949\n"
     ]
    },
    {
     "name": "stderr",
     "output_type": "stream",
     "text": [
      "[Training] loss: 3.6170, accuracy: 0.5131: 100%|█████████████████████████████████████| 312/312 [01:04<00:00,  4.80it/s]\n",
      "[Test] loss: 3.6614, accuracy: 0.4642: 100%|█████████████████████████████████████████| 129/129 [00:28<00:00,  4.45it/s]\n"
     ]
    },
    {
     "name": "stdout",
     "output_type": "stream",
     "text": [
      "epoch 148, loss: 3.61699, acc: 0.51310, val_loss: 3.66142, val_accuracy: 0.46425\n"
     ]
    },
    {
     "name": "stderr",
     "output_type": "stream",
     "text": [
      "[Training] loss: 3.6165, accuracy: 0.5133: 100%|█████████████████████████████████████| 312/312 [01:05<00:00,  4.79it/s]\n",
      "[Test] loss: 3.6578, accuracy: 0.4676: 100%|█████████████████████████████████████████| 129/129 [00:28<00:00,  4.45it/s]\n"
     ]
    },
    {
     "name": "stdout",
     "output_type": "stream",
     "text": [
      "epoch 149, loss: 3.61650, acc: 0.51330, val_loss: 3.65779, val_accuracy: 0.46760\n"
     ]
    },
    {
     "name": "stderr",
     "output_type": "stream",
     "text": [
      "[Training] loss: 3.6168, accuracy: 0.5134: 100%|█████████████████████████████████████| 312/312 [01:04<00:00,  4.82it/s]\n",
      "[Test] loss: 3.6621, accuracy: 0.4630: 100%|█████████████████████████████████████████| 129/129 [00:29<00:00,  4.42it/s]\n"
     ]
    },
    {
     "name": "stdout",
     "output_type": "stream",
     "text": [
      "epoch 150, loss: 3.61679, acc: 0.51337, val_loss: 3.66205, val_accuracy: 0.46303\n"
     ]
    },
    {
     "name": "stderr",
     "output_type": "stream",
     "text": [
      "[Training] loss: 3.6161, accuracy: 0.5139: 100%|█████████████████████████████████████| 312/312 [01:04<00:00,  4.86it/s]\n",
      "[Test] loss: 3.6661, accuracy: 0.4601: 100%|█████████████████████████████████████████| 129/129 [00:29<00:00,  4.38it/s]\n"
     ]
    },
    {
     "name": "stdout",
     "output_type": "stream",
     "text": [
      "epoch 151, loss: 3.61608, acc: 0.51385, val_loss: 3.66614, val_accuracy: 0.46010\n"
     ]
    },
    {
     "name": "stderr",
     "output_type": "stream",
     "text": [
      "[Training] loss: 3.6169, accuracy: 0.5133: 100%|█████████████████████████████████████| 312/312 [01:06<00:00,  4.73it/s]\n",
      "[Test] loss: 3.6611, accuracy: 0.4652: 100%|█████████████████████████████████████████| 129/129 [00:23<00:00,  5.60it/s]\n"
     ]
    },
    {
     "name": "stdout",
     "output_type": "stream",
     "text": [
      "epoch 152, loss: 3.61690, acc: 0.51332, val_loss: 3.66106, val_accuracy: 0.46516\n"
     ]
    },
    {
     "name": "stderr",
     "output_type": "stream",
     "text": [
      "[Training] loss: 3.6139, accuracy: 0.5157: 100%|█████████████████████████████████████| 312/312 [01:06<00:00,  4.69it/s]\n",
      "[Test] loss: 3.6543, accuracy: 0.4714: 100%|█████████████████████████████████████████| 129/129 [00:25<00:00,  4.98it/s]\n"
     ]
    },
    {
     "name": "stdout",
     "output_type": "stream",
     "text": [
      "epoch 153, loss: 3.61388, acc: 0.51573, val_loss: 3.65434, val_accuracy: 0.47145\n"
     ]
    },
    {
     "name": "stderr",
     "output_type": "stream",
     "text": [
      "[Training] loss: 3.6150, accuracy: 0.5146: 100%|█████████████████████████████████████| 312/312 [01:06<00:00,  4.68it/s]\n",
      "[Test] loss: 3.6558, accuracy: 0.4698: 100%|█████████████████████████████████████████| 129/129 [00:26<00:00,  4.87it/s]\n"
     ]
    },
    {
     "name": "stdout",
     "output_type": "stream",
     "text": [
      "epoch 154, loss: 3.61497, acc: 0.51463, val_loss: 3.65579, val_accuracy: 0.46980\n"
     ]
    },
    {
     "name": "stderr",
     "output_type": "stream",
     "text": [
      "[Training] loss: 3.6133, accuracy: 0.5162: 100%|█████████████████████████████████████| 312/312 [01:05<00:00,  4.80it/s]\n",
      "[Test] loss: 3.6628, accuracy: 0.4627: 100%|█████████████████████████████████████████| 129/129 [00:23<00:00,  5.45it/s]\n"
     ]
    },
    {
     "name": "stdout",
     "output_type": "stream",
     "text": [
      "epoch 155, loss: 3.61329, acc: 0.51618, val_loss: 3.66284, val_accuracy: 0.46272\n"
     ]
    },
    {
     "name": "stderr",
     "output_type": "stream",
     "text": [
      "[Training] loss: 3.6134, accuracy: 0.5163: 100%|█████████████████████████████████████| 312/312 [01:01<00:00,  5.04it/s]\n",
      "[Test] loss: 3.6543, accuracy: 0.4718: 100%|█████████████████████████████████████████| 129/129 [00:24<00:00,  5.33it/s]\n"
     ]
    },
    {
     "name": "stdout",
     "output_type": "stream",
     "text": [
      "epoch 156, loss: 3.61335, acc: 0.51626, val_loss: 3.65431, val_accuracy: 0.47175\n"
     ]
    },
    {
     "name": "stderr",
     "output_type": "stream",
     "text": [
      "[Training] loss: 3.6133, accuracy: 0.5161: 100%|█████████████████████████████████████| 312/312 [01:03<00:00,  4.90it/s]\n",
      "[Test] loss: 3.6560, accuracy: 0.4688: 100%|█████████████████████████████████████████| 129/129 [00:24<00:00,  5.33it/s]\n"
     ]
    },
    {
     "name": "stdout",
     "output_type": "stream",
     "text": [
      "epoch 157, loss: 3.61328, acc: 0.51613, val_loss: 3.65598, val_accuracy: 0.46876\n"
     ]
    },
    {
     "name": "stderr",
     "output_type": "stream",
     "text": [
      "[Training] loss: 3.6126, accuracy: 0.5163: 100%|█████████████████████████████████████| 312/312 [01:03<00:00,  4.94it/s]\n",
      "[Test] loss: 3.6483, accuracy: 0.4775: 100%|█████████████████████████████████████████| 129/129 [00:23<00:00,  5.46it/s]\n"
     ]
    },
    {
     "name": "stdout",
     "output_type": "stream",
     "text": [
      "[INFO] val_loss has been improved from 3.65199 to 3.64831. Saving Model!\n",
      "epoch 158, loss: 3.61260, acc: 0.51633, val_loss: 3.64831, val_accuracy: 0.47749\n"
     ]
    },
    {
     "name": "stderr",
     "output_type": "stream",
     "text": [
      "[Training] loss: 3.6130, accuracy: 0.5167: 100%|█████████████████████████████████████| 312/312 [01:01<00:00,  5.04it/s]\n",
      "[Test] loss: 3.6522, accuracy: 0.4743: 100%|█████████████████████████████████████████| 129/129 [00:23<00:00,  5.41it/s]\n"
     ]
    },
    {
     "name": "stdout",
     "output_type": "stream",
     "text": [
      "epoch 159, loss: 3.61302, acc: 0.51673, val_loss: 3.65223, val_accuracy: 0.47431\n"
     ]
    },
    {
     "name": "stderr",
     "output_type": "stream",
     "text": [
      "[Training] loss: 3.6125, accuracy: 0.5173: 100%|█████████████████████████████████████| 312/312 [01:02<00:00,  4.99it/s]\n",
      "[Test] loss: 3.6554, accuracy: 0.4702: 100%|█████████████████████████████████████████| 129/129 [00:23<00:00,  5.55it/s]\n"
     ]
    },
    {
     "name": "stdout",
     "output_type": "stream",
     "text": [
      "epoch 160, loss: 3.61251, acc: 0.51731, val_loss: 3.65540, val_accuracy: 0.47016\n"
     ]
    },
    {
     "name": "stderr",
     "output_type": "stream",
     "text": [
      "[Training] loss: 3.6109, accuracy: 0.5184: 100%|█████████████████████████████████████| 312/312 [01:02<00:00,  4.99it/s]\n",
      "[Test] loss: 3.6478, accuracy: 0.4783: 100%|█████████████████████████████████████████| 129/129 [00:23<00:00,  5.38it/s]\n"
     ]
    },
    {
     "name": "stdout",
     "output_type": "stream",
     "text": [
      "[INFO] val_loss has been improved from 3.64831 to 3.64784. Saving Model!\n",
      "epoch 161, loss: 3.61091, acc: 0.51844, val_loss: 3.64784, val_accuracy: 0.47828\n"
     ]
    },
    {
     "name": "stderr",
     "output_type": "stream",
     "text": [
      "[Training] loss: 3.6111, accuracy: 0.5185: 100%|█████████████████████████████████████| 312/312 [01:02<00:00,  4.99it/s]\n",
      "[Test] loss: 3.6692, accuracy: 0.4566: 100%|█████████████████████████████████████████| 129/129 [00:23<00:00,  5.58it/s]\n"
     ]
    },
    {
     "name": "stdout",
     "output_type": "stream",
     "text": [
      "epoch 162, loss: 3.61107, acc: 0.51846, val_loss: 3.66921, val_accuracy: 0.45662\n"
     ]
    },
    {
     "name": "stderr",
     "output_type": "stream",
     "text": [
      "[Training] loss: 3.6103, accuracy: 0.5192: 100%|█████████████████████████████████████| 312/312 [01:01<00:00,  5.05it/s]\n",
      "[Test] loss: 3.6487, accuracy: 0.4769: 100%|█████████████████████████████████████████| 129/129 [00:24<00:00,  5.22it/s]\n"
     ]
    },
    {
     "name": "stdout",
     "output_type": "stream",
     "text": [
      "epoch 163, loss: 3.61028, acc: 0.51924, val_loss: 3.64873, val_accuracy: 0.47688\n"
     ]
    },
    {
     "name": "stderr",
     "output_type": "stream",
     "text": [
      "[Training] loss: 3.6097, accuracy: 0.5190: 100%|█████████████████████████████████████| 312/312 [01:01<00:00,  5.05it/s]\n",
      "[Test] loss: 3.6523, accuracy: 0.4724: 100%|█████████████████████████████████████████| 129/129 [00:24<00:00,  5.31it/s]\n"
     ]
    },
    {
     "name": "stdout",
     "output_type": "stream",
     "text": [
      "epoch 164, loss: 3.60973, acc: 0.51902, val_loss: 3.65234, val_accuracy: 0.47242\n"
     ]
    },
    {
     "name": "stderr",
     "output_type": "stream",
     "text": [
      "[Training] loss: 3.6093, accuracy: 0.5203: 100%|█████████████████████████████████████| 312/312 [01:04<00:00,  4.82it/s]\n",
      "[Test] loss: 3.6533, accuracy: 0.4708: 100%|█████████████████████████████████████████| 129/129 [00:23<00:00,  5.55it/s]\n"
     ]
    },
    {
     "name": "stdout",
     "output_type": "stream",
     "text": [
      "epoch 165, loss: 3.60928, acc: 0.52032, val_loss: 3.65332, val_accuracy: 0.47084\n"
     ]
    },
    {
     "name": "stderr",
     "output_type": "stream",
     "text": [
      "[Training] loss: 3.6084, accuracy: 0.5212: 100%|█████████████████████████████████████| 312/312 [01:03<00:00,  4.89it/s]\n",
      "[Test] loss: 3.6486, accuracy: 0.4779: 100%|█████████████████████████████████████████| 129/129 [00:24<00:00,  5.23it/s]\n"
     ]
    },
    {
     "name": "stdout",
     "output_type": "stream",
     "text": [
      "epoch 166, loss: 3.60835, acc: 0.52122, val_loss: 3.64858, val_accuracy: 0.47791\n"
     ]
    },
    {
     "name": "stderr",
     "output_type": "stream",
     "text": [
      "[Training] loss: 3.6105, accuracy: 0.5195: 100%|█████████████████████████████████████| 312/312 [01:05<00:00,  4.77it/s]\n",
      "[Test] loss: 3.6587, accuracy: 0.4666: 100%|█████████████████████████████████████████| 129/129 [00:24<00:00,  5.20it/s]\n"
     ]
    },
    {
     "name": "stdout",
     "output_type": "stream",
     "text": [
      "epoch 167, loss: 3.61055, acc: 0.51952, val_loss: 3.65867, val_accuracy: 0.46656\n"
     ]
    },
    {
     "name": "stderr",
     "output_type": "stream",
     "text": [
      "[Training] loss: 3.6083, accuracy: 0.5209: 100%|█████████████████████████████████████| 312/312 [01:06<00:00,  4.73it/s]\n",
      "[Test] loss: 3.6556, accuracy: 0.4712: 100%|█████████████████████████████████████████| 129/129 [00:25<00:00,  5.10it/s]\n"
     ]
    },
    {
     "name": "stdout",
     "output_type": "stream",
     "text": [
      "epoch 168, loss: 3.60835, acc: 0.52092, val_loss: 3.65561, val_accuracy: 0.47120\n"
     ]
    },
    {
     "name": "stderr",
     "output_type": "stream",
     "text": [
      "[Training] loss: 3.6103, accuracy: 0.5190: 100%|█████████████████████████████████████| 312/312 [01:07<00:00,  4.64it/s]\n",
      "[Test] loss: 3.6556, accuracy: 0.4703: 100%|█████████████████████████████████████████| 129/129 [00:23<00:00,  5.38it/s]\n"
     ]
    },
    {
     "name": "stdout",
     "output_type": "stream",
     "text": [
      "epoch 169, loss: 3.61029, acc: 0.51902, val_loss: 3.65563, val_accuracy: 0.47029\n"
     ]
    },
    {
     "name": "stderr",
     "output_type": "stream",
     "text": [
      "[Training] loss: 3.6080, accuracy: 0.5210: 100%|█████████████████████████████████████| 312/312 [01:04<00:00,  4.80it/s]\n",
      "[Test] loss: 3.6481, accuracy: 0.4765: 100%|█████████████████████████████████████████| 129/129 [00:25<00:00,  5.02it/s]\n"
     ]
    },
    {
     "name": "stdout",
     "output_type": "stream",
     "text": [
      "epoch 170, loss: 3.60799, acc: 0.52097, val_loss: 3.64814, val_accuracy: 0.47651\n"
     ]
    },
    {
     "name": "stderr",
     "output_type": "stream",
     "text": [
      "[Training] loss: 3.6094, accuracy: 0.5199: 100%|█████████████████████████████████████| 312/312 [01:05<00:00,  4.75it/s]\n",
      "[Test] loss: 3.6506, accuracy: 0.4746: 100%|█████████████████████████████████████████| 129/129 [00:23<00:00,  5.45it/s]\n"
     ]
    },
    {
     "name": "stdout",
     "output_type": "stream",
     "text": [
      "epoch 171, loss: 3.60942, acc: 0.51994, val_loss: 3.65057, val_accuracy: 0.47462\n"
     ]
    },
    {
     "name": "stderr",
     "output_type": "stream",
     "text": [
      "[Training] loss: 3.6075, accuracy: 0.5211: 100%|█████████████████████████████████████| 312/312 [01:09<00:00,  4.47it/s]\n",
      "[Test] loss: 3.6475, accuracy: 0.4778: 100%|█████████████████████████████████████████| 129/129 [00:26<00:00,  4.86it/s]\n"
     ]
    },
    {
     "name": "stdout",
     "output_type": "stream",
     "text": [
      "[INFO] val_loss has been improved from 3.64784 to 3.64749. Saving Model!\n",
      "epoch 172, loss: 3.60751, acc: 0.52115, val_loss: 3.64749, val_accuracy: 0.47779\n"
     ]
    },
    {
     "name": "stderr",
     "output_type": "stream",
     "text": [
      "[Training] loss: 3.6071, accuracy: 0.5221: 100%|█████████████████████████████████████| 312/312 [01:07<00:00,  4.60it/s]\n",
      "[Test] loss: 3.6519, accuracy: 0.4741: 100%|█████████████████████████████████████████| 129/129 [00:26<00:00,  4.79it/s]\n"
     ]
    },
    {
     "name": "stdout",
     "output_type": "stream",
     "text": [
      "epoch 173, loss: 3.60714, acc: 0.52207, val_loss: 3.65188, val_accuracy: 0.47407\n"
     ]
    },
    {
     "name": "stderr",
     "output_type": "stream",
     "text": [
      "[Training] loss: 3.6059, accuracy: 0.5233: 100%|█████████████████████████████████████| 312/312 [01:05<00:00,  4.79it/s]\n",
      "[Test] loss: 3.6518, accuracy: 0.4750: 100%|█████████████████████████████████████████| 129/129 [00:26<00:00,  4.86it/s]\n"
     ]
    },
    {
     "name": "stdout",
     "output_type": "stream",
     "text": [
      "epoch 174, loss: 3.60591, acc: 0.52325, val_loss: 3.65180, val_accuracy: 0.47505\n"
     ]
    },
    {
     "name": "stderr",
     "output_type": "stream",
     "text": [
      "[Training] loss: 3.6077, accuracy: 0.5205: 100%|█████████████████████████████████████| 312/312 [01:06<00:00,  4.71it/s]\n",
      "[Test] loss: 3.6456, accuracy: 0.4797: 100%|█████████████████████████████████████████| 129/129 [00:27<00:00,  4.70it/s]\n"
     ]
    },
    {
     "name": "stdout",
     "output_type": "stream",
     "text": [
      "[INFO] val_loss has been improved from 3.64749 to 3.64559. Saving Model!\n",
      "epoch 175, loss: 3.60769, acc: 0.52049, val_loss: 3.64559, val_accuracy: 0.47968\n"
     ]
    },
    {
     "name": "stderr",
     "output_type": "stream",
     "text": [
      "[Training] loss: 3.6056, accuracy: 0.5231: 100%|█████████████████████████████████████| 312/312 [01:05<00:00,  4.78it/s]\n",
      "[Test] loss: 3.6483, accuracy: 0.4779: 100%|█████████████████████████████████████████| 129/129 [00:23<00:00,  5.42it/s]\n"
     ]
    },
    {
     "name": "stdout",
     "output_type": "stream",
     "text": [
      "epoch 176, loss: 3.60558, acc: 0.52305, val_loss: 3.64830, val_accuracy: 0.47785\n"
     ]
    },
    {
     "name": "stderr",
     "output_type": "stream",
     "text": [
      "[Training] loss: 3.6050, accuracy: 0.5242: 100%|█████████████████████████████████████| 312/312 [01:09<00:00,  4.52it/s]\n",
      "[Test] loss: 3.6470, accuracy: 0.4780: 100%|█████████████████████████████████████████| 129/129 [00:27<00:00,  4.76it/s]\n"
     ]
    },
    {
     "name": "stdout",
     "output_type": "stream",
     "text": [
      "epoch 177, loss: 3.60499, acc: 0.52418, val_loss: 3.64701, val_accuracy: 0.47804\n"
     ]
    },
    {
     "name": "stderr",
     "output_type": "stream",
     "text": [
      "[Training] loss: 3.6049, accuracy: 0.5236: 100%|█████████████████████████████████████| 312/312 [01:06<00:00,  4.72it/s]\n",
      "[Test] loss: 3.6507, accuracy: 0.4742: 100%|█████████████████████████████████████████| 129/129 [00:27<00:00,  4.74it/s]\n"
     ]
    },
    {
     "name": "stdout",
     "output_type": "stream",
     "text": [
      "epoch 178, loss: 3.60490, acc: 0.52363, val_loss: 3.65069, val_accuracy: 0.47419\n"
     ]
    },
    {
     "name": "stderr",
     "output_type": "stream",
     "text": [
      "[Training] loss: 3.6037, accuracy: 0.5258: 100%|█████████████████████████████████████| 312/312 [01:07<00:00,  4.62it/s]\n",
      "[Test] loss: 3.6510, accuracy: 0.4745: 100%|█████████████████████████████████████████| 129/129 [00:26<00:00,  4.84it/s]\n"
     ]
    },
    {
     "name": "stdout",
     "output_type": "stream",
     "text": [
      "epoch 179, loss: 3.60371, acc: 0.52578, val_loss: 3.65100, val_accuracy: 0.47450\n"
     ]
    },
    {
     "name": "stderr",
     "output_type": "stream",
     "text": [
      "[Training] loss: 3.6038, accuracy: 0.5250: 100%|█████████████████████████████████████| 312/312 [01:05<00:00,  4.76it/s]\n",
      "[Test] loss: 3.6464, accuracy: 0.4780: 100%|█████████████████████████████████████████| 129/129 [00:23<00:00,  5.48it/s]\n"
     ]
    },
    {
     "name": "stdout",
     "output_type": "stream",
     "text": [
      "epoch 180, loss: 3.60377, acc: 0.52496, val_loss: 3.64640, val_accuracy: 0.47804\n"
     ]
    },
    {
     "name": "stderr",
     "output_type": "stream",
     "text": [
      "[Training] loss: 3.6036, accuracy: 0.5253: 100%|█████████████████████████████████████| 312/312 [01:06<00:00,  4.67it/s]\n",
      "[Test] loss: 3.6499, accuracy: 0.4769: 100%|█████████████████████████████████████████| 129/129 [00:26<00:00,  4.82it/s]\n"
     ]
    },
    {
     "name": "stdout",
     "output_type": "stream",
     "text": [
      "epoch 181, loss: 3.60361, acc: 0.52533, val_loss: 3.64988, val_accuracy: 0.47688\n"
     ]
    },
    {
     "name": "stderr",
     "output_type": "stream",
     "text": [
      "[Training] loss: 3.6034, accuracy: 0.5258: 100%|█████████████████████████████████████| 312/312 [01:05<00:00,  4.75it/s]\n",
      "[Test] loss: 3.6541, accuracy: 0.4703: 100%|█████████████████████████████████████████| 129/129 [00:26<00:00,  4.82it/s]\n"
     ]
    },
    {
     "name": "stdout",
     "output_type": "stream",
     "text": [
      "epoch 182, loss: 3.60337, acc: 0.52576, val_loss: 3.65412, val_accuracy: 0.47029\n"
     ]
    },
    {
     "name": "stderr",
     "output_type": "stream",
     "text": [
      "[Training] loss: 3.6040, accuracy: 0.5246: 100%|█████████████████████████████████████| 312/312 [01:05<00:00,  4.79it/s]\n",
      "[Test] loss: 3.6438, accuracy: 0.4810: 100%|█████████████████████████████████████████| 129/129 [00:26<00:00,  4.94it/s]\n"
     ]
    },
    {
     "name": "stdout",
     "output_type": "stream",
     "text": [
      "[INFO] val_loss has been improved from 3.64559 to 3.64384. Saving Model!\n",
      "epoch 183, loss: 3.60404, acc: 0.52463, val_loss: 3.64384, val_accuracy: 0.48096\n"
     ]
    },
    {
     "name": "stderr",
     "output_type": "stream",
     "text": [
      "[Training] loss: 3.6022, accuracy: 0.5266: 100%|█████████████████████████████████████| 312/312 [01:04<00:00,  4.81it/s]\n",
      "[Test] loss: 3.6517, accuracy: 0.4727: 100%|█████████████████████████████████████████| 129/129 [00:24<00:00,  5.34it/s]\n"
     ]
    },
    {
     "name": "stdout",
     "output_type": "stream",
     "text": [
      "epoch 184, loss: 3.60223, acc: 0.52661, val_loss: 3.65168, val_accuracy: 0.47273\n"
     ]
    },
    {
     "name": "stderr",
     "output_type": "stream",
     "text": [
      "[Training] loss: 3.6023, accuracy: 0.5266: 100%|█████████████████████████████████████| 312/312 [01:07<00:00,  4.61it/s]\n",
      "[Test] loss: 3.6505, accuracy: 0.4745: 100%|█████████████████████████████████████████| 129/129 [00:23<00:00,  5.44it/s]\n"
     ]
    },
    {
     "name": "stdout",
     "output_type": "stream",
     "text": [
      "epoch 185, loss: 3.60229, acc: 0.52656, val_loss: 3.65046, val_accuracy: 0.47450\n"
     ]
    },
    {
     "name": "stderr",
     "output_type": "stream",
     "text": [
      "[Training] loss: 3.6022, accuracy: 0.5268: 100%|█████████████████████████████████████| 312/312 [01:06<00:00,  4.71it/s]\n",
      "[Test] loss: 3.6540, accuracy: 0.4703: 100%|█████████████████████████████████████████| 129/129 [00:23<00:00,  5.41it/s]\n"
     ]
    },
    {
     "name": "stdout",
     "output_type": "stream",
     "text": [
      "epoch 186, loss: 3.60217, acc: 0.52681, val_loss: 3.65403, val_accuracy: 0.47029\n"
     ]
    },
    {
     "name": "stderr",
     "output_type": "stream",
     "text": [
      "[Training] loss: 3.6034, accuracy: 0.5250: 100%|█████████████████████████████████████| 312/312 [01:07<00:00,  4.62it/s]\n",
      "[Test] loss: 3.6562, accuracy: 0.4689: 100%|█████████████████████████████████████████| 129/129 [00:24<00:00,  5.24it/s]\n"
     ]
    },
    {
     "name": "stdout",
     "output_type": "stream",
     "text": [
      "epoch 187, loss: 3.60336, acc: 0.52503, val_loss: 3.65620, val_accuracy: 0.46888\n"
     ]
    },
    {
     "name": "stderr",
     "output_type": "stream",
     "text": [
      "[Training] loss: 3.6018, accuracy: 0.5270: 100%|█████████████████████████████████████| 312/312 [01:07<00:00,  4.60it/s]\n",
      "[Test] loss: 3.6514, accuracy: 0.4736: 100%|█████████████████████████████████████████| 129/129 [00:26<00:00,  4.89it/s]\n"
     ]
    },
    {
     "name": "stdout",
     "output_type": "stream",
     "text": [
      "epoch 188, loss: 3.60182, acc: 0.52701, val_loss: 3.65142, val_accuracy: 0.47364\n"
     ]
    },
    {
     "name": "stderr",
     "output_type": "stream",
     "text": [
      "[Training] loss: 3.6009, accuracy: 0.5277: 100%|█████████████████████████████████████| 312/312 [01:06<00:00,  4.71it/s]\n",
      "[Test] loss: 3.6465, accuracy: 0.4784: 100%|█████████████████████████████████████████| 129/129 [00:26<00:00,  4.89it/s]\n"
     ]
    },
    {
     "name": "stdout",
     "output_type": "stream",
     "text": [
      "epoch 189, loss: 3.60093, acc: 0.52771, val_loss: 3.64650, val_accuracy: 0.47840\n"
     ]
    },
    {
     "name": "stderr",
     "output_type": "stream",
     "text": [
      "[Training] loss: 3.6019, accuracy: 0.5272: 100%|█████████████████████████████████████| 312/312 [01:06<00:00,  4.70it/s]\n",
      "[Test] loss: 3.6590, accuracy: 0.4651: 100%|█████████████████████████████████████████| 129/129 [00:26<00:00,  4.82it/s]\n"
     ]
    },
    {
     "name": "stdout",
     "output_type": "stream",
     "text": [
      "epoch 190, loss: 3.60189, acc: 0.52716, val_loss: 3.65900, val_accuracy: 0.46510\n"
     ]
    },
    {
     "name": "stderr",
     "output_type": "stream",
     "text": [
      "[Training] loss: 3.6004, accuracy: 0.5280: 100%|█████████████████████████████████████| 312/312 [01:05<00:00,  4.74it/s]\n",
      "[Test] loss: 3.6475, accuracy: 0.4780: 100%|█████████████████████████████████████████| 129/129 [00:27<00:00,  4.74it/s]\n"
     ]
    },
    {
     "name": "stdout",
     "output_type": "stream",
     "text": [
      "epoch 191, loss: 3.60041, acc: 0.52797, val_loss: 3.64751, val_accuracy: 0.47797\n"
     ]
    },
    {
     "name": "stderr",
     "output_type": "stream",
     "text": [
      "[Training] loss: 3.5994, accuracy: 0.5293: 100%|█████████████████████████████████████| 312/312 [01:05<00:00,  4.75it/s]\n",
      "[Test] loss: 3.6455, accuracy: 0.4797: 100%|█████████████████████████████████████████| 129/129 [00:23<00:00,  5.39it/s]\n"
     ]
    },
    {
     "name": "stdout",
     "output_type": "stream",
     "text": [
      "epoch 192, loss: 3.59944, acc: 0.52932, val_loss: 3.64547, val_accuracy: 0.47974\n"
     ]
    },
    {
     "name": "stderr",
     "output_type": "stream",
     "text": [
      "[Training] loss: 3.6014, accuracy: 0.5272: 100%|█████████████████████████████████████| 312/312 [01:08<00:00,  4.58it/s]\n",
      "[Test] loss: 3.6537, accuracy: 0.4719: 100%|█████████████████████████████████████████| 129/129 [00:26<00:00,  4.89it/s]\n"
     ]
    },
    {
     "name": "stdout",
     "output_type": "stream",
     "text": [
      "epoch 193, loss: 3.60144, acc: 0.52716, val_loss: 3.65372, val_accuracy: 0.47187\n"
     ]
    },
    {
     "name": "stderr",
     "output_type": "stream",
     "text": [
      "[Training] loss: 3.5994, accuracy: 0.5291: 100%|█████████████████████████████████████| 312/312 [01:06<00:00,  4.71it/s]\n",
      "[Test] loss: 3.6563, accuracy: 0.4692: 100%|█████████████████████████████████████████| 129/129 [00:26<00:00,  4.90it/s]\n"
     ]
    },
    {
     "name": "stdout",
     "output_type": "stream",
     "text": [
      "epoch 194, loss: 3.59943, acc: 0.52914, val_loss: 3.65630, val_accuracy: 0.46925\n"
     ]
    },
    {
     "name": "stderr",
     "output_type": "stream",
     "text": [
      "[Training] loss: 3.6005, accuracy: 0.5281: 100%|█████████████████████████████████████| 312/312 [01:06<00:00,  4.73it/s]\n",
      "[Test] loss: 3.6386, accuracy: 0.4865: 100%|█████████████████████████████████████████| 129/129 [00:26<00:00,  4.84it/s]\n"
     ]
    },
    {
     "name": "stdout",
     "output_type": "stream",
     "text": [
      "[INFO] val_loss has been improved from 3.64384 to 3.63861. Saving Model!\n",
      "epoch 195, loss: 3.60045, acc: 0.52812, val_loss: 3.63861, val_accuracy: 0.48652\n"
     ]
    },
    {
     "name": "stderr",
     "output_type": "stream",
     "text": [
      "[Training] loss: 3.5980, accuracy: 0.5311: 100%|█████████████████████████████████████| 312/312 [01:05<00:00,  4.79it/s]\n",
      "[Test] loss: 3.6506, accuracy: 0.4752: 100%|█████████████████████████████████████████| 129/129 [00:27<00:00,  4.77it/s]\n"
     ]
    },
    {
     "name": "stdout",
     "output_type": "stream",
     "text": [
      "epoch 196, loss: 3.59796, acc: 0.53112, val_loss: 3.65060, val_accuracy: 0.47523\n"
     ]
    },
    {
     "name": "stderr",
     "output_type": "stream",
     "text": [
      "[Training] loss: 3.5987, accuracy: 0.5297: 100%|█████████████████████████████████████| 312/312 [01:05<00:00,  4.74it/s]\n",
      "[Test] loss: 3.6520, accuracy: 0.4732: 100%|█████████████████████████████████████████| 129/129 [00:26<00:00,  4.90it/s]\n"
     ]
    },
    {
     "name": "stdout",
     "output_type": "stream",
     "text": [
      "epoch 197, loss: 3.59869, acc: 0.52969, val_loss: 3.65197, val_accuracy: 0.47322\n"
     ]
    },
    {
     "name": "stderr",
     "output_type": "stream",
     "text": [
      "[Training] loss: 3.5995, accuracy: 0.5284: 100%|█████████████████████████████████████| 312/312 [01:04<00:00,  4.80it/s]\n",
      "[Test] loss: 3.6547, accuracy: 0.4706: 100%|█████████████████████████████████████████| 129/129 [00:23<00:00,  5.39it/s]\n"
     ]
    },
    {
     "name": "stdout",
     "output_type": "stream",
     "text": [
      "epoch 198, loss: 3.59954, acc: 0.52844, val_loss: 3.65468, val_accuracy: 0.47059\n"
     ]
    },
    {
     "name": "stderr",
     "output_type": "stream",
     "text": [
      "[Training] loss: 3.5983, accuracy: 0.5300: 100%|█████████████████████████████████████| 312/312 [01:06<00:00,  4.72it/s]\n",
      "[Test] loss: 3.6406, accuracy: 0.4843: 100%|█████████████████████████████████████████| 129/129 [00:22<00:00,  5.63it/s]\n"
     ]
    },
    {
     "name": "stdout",
     "output_type": "stream",
     "text": [
      "epoch 199, loss: 3.59832, acc: 0.53000, val_loss: 3.64058, val_accuracy: 0.48432\n"
     ]
    },
    {
     "name": "stderr",
     "output_type": "stream",
     "text": [
      "[Training] loss: 3.5976, accuracy: 0.5308: 100%|█████████████████████████████████████| 312/312 [01:04<00:00,  4.87it/s]\n",
      "[Test] loss: 3.6510, accuracy: 0.4743: 100%|█████████████████████████████████████████| 129/129 [00:24<00:00,  5.31it/s]"
     ]
    },
    {
     "name": "stdout",
     "output_type": "stream",
     "text": [
      "epoch 200, loss: 3.59759, acc: 0.53082, val_loss: 3.65099, val_accuracy: 0.47425\n"
     ]
    },
    {
     "name": "stderr",
     "output_type": "stream",
     "text": [
      "\n"
     ]
    }
   ],
   "source": [
    "wandb.run.name = f'OUR_ResTCN_New_try_{CNT}'\n",
    "\n",
    "min_loss = np.inf\n",
    "for epoch in range(NUM_EPOCHS):\n",
    "    # Model Training\n",
    "    # 훈련 손실과 정확도를 반환 받습니다.\n",
    "    train_loss, train_acc = model_train(model, train_dataloader, loss_fn, optimizer, device)\n",
    "\n",
    "    # 검증 손실과 검증 정확도를 반환 받습니다.\n",
    "    val_loss, val_acc = model_evaluate(model, test_dataloader, loss_fn, device)\n",
    "    \n",
    "    # val_loss 가 개선되었다면 min_loss를 갱신하고 model의 가중치(weights)를 저장합니다.\n",
    "    if val_loss < min_loss:\n",
    "        print(f'[INFO] val_loss has been improved from {min_loss:.5f} to {val_loss:.5f}. Saving Model!')\n",
    "        min_loss = val_loss\n",
    "        torch.save(model.state_dict(), f'{MODEL_NAME}.pth')\n",
    "    scheduler.step(val_loss)\n",
    "    \n",
    "    wandb.log({\"val_acc\": val_acc, \"val_loss\": val_loss, 'train_acc':train_acc, 'train_loss' : train_loss})\n",
    "    \n",
    "    # Epoch 별 결과를 출력합니다.\n",
    "    print(f'epoch {epoch+1:02d}, loss: {train_loss:.5f}, acc: {train_acc:.5f}, val_loss: {val_loss:.5f}, val_accuracy: {val_acc:.5f}')"
   ]
  },
  {
   "cell_type": "code",
   "execution_count": null,
   "id": "d1b2000b",
   "metadata": {},
   "outputs": [],
   "source": [
    "[p.shape for p in [*model.parameters()][:-2] if len(p.shape) == 3 and p.shape[-1] == 8]"
   ]
  },
  {
   "cell_type": "code",
   "execution_count": null,
   "id": "2d151e41",
   "metadata": {},
   "outputs": [],
   "source": [
    "a = torch.FloatTensor([[5, 1., 2.,10,  3. ,4.]])\n",
    "_, pred = a.max(dim=1)\n",
    "print(pred)"
   ]
  },
  {
   "cell_type": "code",
   "execution_count": null,
   "id": "8d180736",
   "metadata": {},
   "outputs": [],
   "source": [
    "a = torch.randn((10, 64, 300))"
   ]
  },
  {
   "cell_type": "code",
   "execution_count": null,
   "id": "d4dd1417",
   "metadata": {},
   "outputs": [],
   "source": [
    "nn.BatchNorm1d(64).weight.shape"
   ]
  },
  {
   "cell_type": "code",
   "execution_count": null,
   "id": "a5c04abd",
   "metadata": {},
   "outputs": [],
   "source": [
    "(8, ) + (150, 64)"
   ]
  }
 ],
 "metadata": {
  "kernelspec": {
   "display_name": "Python 3 (ipykernel)",
   "language": "python",
   "name": "python3"
  },
  "language_info": {
   "codemirror_mode": {
    "name": "ipython",
    "version": 3
   },
   "file_extension": ".py",
   "mimetype": "text/x-python",
   "name": "python",
   "nbconvert_exporter": "python",
   "pygments_lexer": "ipython3",
   "version": "3.10.13"
  }
 },
 "nbformat": 4,
 "nbformat_minor": 5
}
